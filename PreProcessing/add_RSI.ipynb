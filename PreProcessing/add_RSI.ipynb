{
 "cells": [
  {
   "cell_type": "code",
   "execution_count": 1,
   "metadata": {},
   "outputs": [],
   "source": [
    "import os\n",
    "import pandas as pd\n",
    "\n"
   ]
  },
  {
   "cell_type": "code",
   "execution_count": 2,
   "metadata": {},
   "outputs": [],
   "source": [
    "# Full path to file 1\n",
    "file_1 = '../Fetch_data/data/indices/DOW_JONES_2020_2024.csv'  # Replace with the actual path to the single file\n",
    "\n",
    "# Folder 2 containing the remaining 30 files\n",
    "folder_2 = '../Fetch_data/data/US-30/'\n",
    "\n",
    "\n"
   ]
  },
  {
   "cell_type": "code",
   "execution_count": 3,
   "metadata": {},
   "outputs": [],
   "source": [
    "\n",
    "# List of CSV files in folder 2\n",
    "folder_2_files = [os.path.join(folder_2, file) for file in os.listdir(folder_2) if file.endswith('.csv')]\n",
    "\n",
    "# List of CSV files in folder 2\n",
    "folder_2_files = [os.path.join(folder_2, file) for file in os.listdir(folder_2) if file.endswith('.csv')]\n",
    "\n",
    "# Combine file_1 with the list of files from folder 2\n",
    "files = [file_1] + folder_2_files\n",
    "\n"
   ]
  },
  {
   "cell_type": "markdown",
   "metadata": {},
   "source": [
    "## Relative Strength Index (RSI) Formula:\n",
    "\n",
    "The RSI is calculated using the following steps:\n",
    "\n",
    "1. **Calculate the daily price change**:\n",
    "\n",
    "$$\n",
    "\\text{Change}_t = \\text{Adj Close}_t - \\text{Adj Close}_{t-1}\n",
    "$$\n",
    "\n",
    "2. **Separate the gains and losses**:\n",
    "   - Gains are positive changes, and losses are negative changes.\n",
    "\n",
    "3. **Calculate the average gain and average loss over the given period (14 days)**:\n",
    "   \n",
    "$$\n",
    "\\text{Average Gain} = \\frac{\\sum \\text{Gains over 14 days}}{14}\n",
    "$$\n",
    "$$\n",
    "\\text{Average Loss} = \\frac{\\sum \\text{Losses over 14 days}}{14}\n",
    "$$\n",
    "\n",
    "4. **Calculate the relative strength (RS)**:\n",
    "   \n",
    "$$\n",
    "\\text{RS} = \\frac{\\text{Average Gain}}{\\text{Average Loss}}\n",
    "$$\n",
    "\n",
    "5. **Finally, calculate the RSI**:\n",
    "   \n",
    "$$\n",
    "\\text{RSI} = 100 - \\frac{100}{1 + \\text{RS}}\n",
    "$$\n",
    "\n",
    "In pandas, this can be calculated using the following code:"
   ]
  },
  {
   "cell_type": "code",
   "execution_count": 4,
   "metadata": {},
   "outputs": [
    {
     "name": "stdout",
     "output_type": "stream",
     "text": [
      "Calculated RSI and saved: ../Fetch_data/data/indices/DOW_JONES_2020_2024.csv\n",
      "Calculated RSI and saved: ../Fetch_data/data/US-30/McDonald's_MCD_2020_2024.csv\n",
      "Calculated RSI and saved: ../Fetch_data/data/US-30/Cisco Systems_CSCO_2020_2024.csv\n",
      "Calculated RSI and saved: ../Fetch_data/data/US-30/Nike_NKE_2020_2024.csv\n",
      "Calculated RSI and saved: ../Fetch_data/data/US-30/American Express_AXP_2020_2024.csv\n",
      "Calculated RSI and saved: ../Fetch_data/data/US-30/Merck_MRK_2020_2024.csv\n",
      "Calculated RSI and saved: ../Fetch_data/data/US-30/Disney_DIS_2020_2024.csv\n",
      "Calculated RSI and saved: ../Fetch_data/data/US-30/Johnson & Johnson_JNJ_2020_2024.csv\n",
      "Calculated RSI and saved: ../Fetch_data/data/US-30/Coca-Cola_KO_2020_2024.csv\n",
      "Calculated RSI and saved: ../Fetch_data/data/US-30/Verizon_VZ_2020_2024.csv\n",
      "Calculated RSI and saved: ../Fetch_data/data/US-30/Salesforce_CRM_2020_2024.csv\n",
      "Calculated RSI and saved: ../Fetch_data/data/US-30/Walmart_WMT_2020_2024.csv\n",
      "Calculated RSI and saved: ../Fetch_data/data/US-30/Microsoft_MSFT_2020_2024.csv\n",
      "Calculated RSI and saved: ../Fetch_data/data/US-30/UnitedHealth Group_UNH_2020_2024.csv\n",
      "Calculated RSI and saved: ../Fetch_data/data/US-30/The Travelers Companies_TRV_2020_2024.csv\n",
      "Calculated RSI and saved: ../Fetch_data/data/US-30/Honeywell_HON_2020_2024.csv\n",
      "Calculated RSI and saved: ../Fetch_data/data/US-30/Walgreens Boots Alliance_WBA_2020_2024.csv\n",
      "Calculated RSI and saved: ../Fetch_data/data/US-30/Amgen_AMGN_2020_2024.csv\n",
      "Calculated RSI and saved: ../Fetch_data/data/US-30/Goldman Sachs_GS_2020_2024.csv\n",
      "Calculated RSI and saved: ../Fetch_data/data/US-30/Dow Inc._DOW_2020_2024.csv\n",
      "Calculated RSI and saved: ../Fetch_data/data/US-30/Caterpillar_CAT_2020_2024.csv\n",
      "Calculated RSI and saved: ../Fetch_data/data/US-30/Visa_V_2020_2024.csv\n",
      "Calculated RSI and saved: ../Fetch_data/data/US-30/Procter & Gamble_PG_2020_2024.csv\n",
      "Calculated RSI and saved: ../Fetch_data/data/US-30/JPMorgan Chase_JPM_2020_2024.csv\n",
      "Calculated RSI and saved: ../Fetch_data/data/US-30/3M_MMM_2020_2024.csv\n",
      "Calculated RSI and saved: ../Fetch_data/data/US-30/Home Depot_HD_2020_2024.csv\n",
      "Calculated RSI and saved: ../Fetch_data/data/US-30/Chevron_CVX_2020_2024.csv\n",
      "Calculated RSI and saved: ../Fetch_data/data/US-30/Apple_AAPL_2020_2024.csv\n",
      "Calculated RSI and saved: ../Fetch_data/data/US-30/IBM_IBM_2020_2024.csv\n",
      "Calculated RSI and saved: ../Fetch_data/data/US-30/Intel_INTC_2020_2024.csv\n",
      "Calculated RSI and saved: ../Fetch_data/data/US-30/Boeing_BA_2020_2024.csv\n"
     ]
    }
   ],
   "source": [
    "# Function to calculate RSI and save the updated files\n",
    "def calculate_rsi_and_save(files, period=14):\n",
    "    for file_path in files:\n",
    "        # Read the CSV file into a DataFrame\n",
    "        df = pd.read_csv(file_path)\n",
    "        \n",
    "        # Calculate the daily price change\n",
    "        df['Change'] = df['Adj Close'].diff()\n",
    "        \n",
    "        # Separate the gains and losses\n",
    "        df['Gain'] = df['Change'].where(df['Change'] > 0, 0)\n",
    "        df['Loss'] = -df['Change'].where(df['Change'] < 0, 0)\n",
    "        \n",
    "        # Calculate the average gain and loss over the specified period\n",
    "        df['Avg Gain'] = df['Gain'].rolling(window=period).mean()\n",
    "        df['Avg Loss'] = df['Loss'].rolling(window=period).mean()\n",
    "        \n",
    "        # Calculate the relative strength (RS)\n",
    "        df['RS'] = df['Avg Gain'] / df['Avg Loss']\n",
    "        \n",
    "        # Calculate the RSI\n",
    "        df['RSI'] = 100 - (100 / (1 + df['RS']))\n",
    "        \n",
    "        # Drop intermediate columns\n",
    "        df.drop(columns=['Change', 'Gain', 'Loss', 'Avg Gain', 'Avg Loss', 'RS'], inplace=True)\n",
    "        \n",
    "        # Save the updated DataFrame back to the same file\n",
    "        df.to_csv(file_path, index=False)\n",
    "        print(f\"Calculated RSI and saved: {file_path}\")\n",
    "\n",
    "# Calculate RSI and save the updated files\n",
    "calculate_rsi_and_save(files)"
   ]
  },
  {
   "cell_type": "code",
   "execution_count": null,
   "metadata": {},
   "outputs": [],
   "source": []
  }
 ],
 "metadata": {
  "kernelspec": {
   "display_name": "base",
   "language": "python",
   "name": "python3"
  },
  "language_info": {
   "codemirror_mode": {
    "name": "ipython",
    "version": 3
   },
   "file_extension": ".py",
   "mimetype": "text/x-python",
   "name": "python",
   "nbconvert_exporter": "python",
   "pygments_lexer": "ipython3",
   "version": "3.11.4"
  },
  "orig_nbformat": 4
 },
 "nbformat": 4,
 "nbformat_minor": 2
}
