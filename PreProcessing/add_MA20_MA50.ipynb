{
 "cells": [
  {
   "cell_type": "code",
   "execution_count": 1,
   "metadata": {},
   "outputs": [],
   "source": [
    "import pandas as pd\n",
    "import numpy as np \n",
    "import os "
   ]
  },
  {
   "cell_type": "code",
   "execution_count": 2,
   "metadata": {},
   "outputs": [],
   "source": [
    "# Full path to file 1\n",
    "file_1 = '../Fetch_data/data/indices/DOW_JONES_2020_2024.csv'  # Replace with the actual path to the single file\n",
    "\n",
    "# Folder 2 containing the remaining 30 files\n",
    "folder_2 = '../Fetch_data/data/US-30/'\n",
    "\n",
    "\n"
   ]
  },
  {
   "cell_type": "code",
   "execution_count": 3,
   "metadata": {},
   "outputs": [],
   "source": [
    "\n",
    "# List of CSV files in folder 2\n",
    "folder_2_files = [os.path.join(folder_2, file) for file in os.listdir(folder_2) if file.endswith('.csv')]\n",
    "\n",
    "# List of CSV files in folder 2\n",
    "folder_2_files = [os.path.join(folder_2, file) for file in os.listdir(folder_2) if file.endswith('.csv')]\n",
    "\n",
    "# Combine file_1 with the list of files from folder 2\n",
    "files = [file_1] + folder_2_files\n",
    "\n"
   ]
  },
  {
   "cell_type": "markdown",
   "metadata": {},
   "source": [
    "### Moving Average Formula:\n",
    "\n",
    "The moving average (MA) is calculated as the average of the adjusted closing prices over a specified number of periods (e.g., 20 days, 50 days). The formula for a simple moving average (SMA) is:\n",
    "\n",
    "$$\n",
    "\\text{MA}_t = \\frac{1}{n} \\sum_{i=t-n+1}^{t} \\text{Adj Close}_i\n",
    "$$\n",
    "\n",
    "Where:\n",
    "- \\( \\text{MA}_t \\) is the moving average for day \\( t \\).\n",
    "- \\( n \\) is the window size (e.g., 20, 50).\n",
    "- \\( \\text{Adj Close}_i \\) is the adjusted closing price for day \\( i \\).\n",
    "\n",
    "For a 20-day moving average, the formula becomes:\n",
    "\n",
    "$$\n",
    "\\text{MA}_{20} = \\frac{1}{20} \\sum_{i=t-19}^{t} \\text{Adj Close}_i\n",
    "$$\n",
    "\n",
    "In pandas, the moving average is calculated using the `rolling()` method with a `mean()`:\n"
   ]
  },
  {
   "cell_type": "code",
   "execution_count": 4,
   "metadata": {},
   "outputs": [
    {
     "name": "stdout",
     "output_type": "stream",
     "text": [
      "Calculated Moving Averages (MA_20, MA_50) and saved: ../Fetch_data/data/indices/DOW_JONES_2020_2024.csv\n",
      "Calculated Moving Averages (MA_20, MA_50) and saved: ../Fetch_data/data/US-30/McDonald's_MCD_2020_2024.csv\n",
      "Calculated Moving Averages (MA_20, MA_50) and saved: ../Fetch_data/data/US-30/Cisco Systems_CSCO_2020_2024.csv\n",
      "Calculated Moving Averages (MA_20, MA_50) and saved: ../Fetch_data/data/US-30/Nike_NKE_2020_2024.csv\n",
      "Calculated Moving Averages (MA_20, MA_50) and saved: ../Fetch_data/data/US-30/American Express_AXP_2020_2024.csv\n",
      "Calculated Moving Averages (MA_20, MA_50) and saved: ../Fetch_data/data/US-30/Merck_MRK_2020_2024.csv\n",
      "Calculated Moving Averages (MA_20, MA_50) and saved: ../Fetch_data/data/US-30/Disney_DIS_2020_2024.csv\n",
      "Calculated Moving Averages (MA_20, MA_50) and saved: ../Fetch_data/data/US-30/Johnson & Johnson_JNJ_2020_2024.csv\n",
      "Calculated Moving Averages (MA_20, MA_50) and saved: ../Fetch_data/data/US-30/Coca-Cola_KO_2020_2024.csv\n",
      "Calculated Moving Averages (MA_20, MA_50) and saved: ../Fetch_data/data/US-30/Verizon_VZ_2020_2024.csv\n",
      "Calculated Moving Averages (MA_20, MA_50) and saved: ../Fetch_data/data/US-30/Salesforce_CRM_2020_2024.csv\n",
      "Calculated Moving Averages (MA_20, MA_50) and saved: ../Fetch_data/data/US-30/Walmart_WMT_2020_2024.csv\n",
      "Calculated Moving Averages (MA_20, MA_50) and saved: ../Fetch_data/data/US-30/Microsoft_MSFT_2020_2024.csv\n",
      "Calculated Moving Averages (MA_20, MA_50) and saved: ../Fetch_data/data/US-30/UnitedHealth Group_UNH_2020_2024.csv\n",
      "Calculated Moving Averages (MA_20, MA_50) and saved: ../Fetch_data/data/US-30/The Travelers Companies_TRV_2020_2024.csv\n",
      "Calculated Moving Averages (MA_20, MA_50) and saved: ../Fetch_data/data/US-30/Honeywell_HON_2020_2024.csv\n",
      "Calculated Moving Averages (MA_20, MA_50) and saved: ../Fetch_data/data/US-30/Walgreens Boots Alliance_WBA_2020_2024.csv\n",
      "Calculated Moving Averages (MA_20, MA_50) and saved: ../Fetch_data/data/US-30/Amgen_AMGN_2020_2024.csv\n",
      "Calculated Moving Averages (MA_20, MA_50) and saved: ../Fetch_data/data/US-30/Goldman Sachs_GS_2020_2024.csv\n",
      "Calculated Moving Averages (MA_20, MA_50) and saved: ../Fetch_data/data/US-30/Dow Inc._DOW_2020_2024.csv\n",
      "Calculated Moving Averages (MA_20, MA_50) and saved: ../Fetch_data/data/US-30/Caterpillar_CAT_2020_2024.csv\n",
      "Calculated Moving Averages (MA_20, MA_50) and saved: ../Fetch_data/data/US-30/Visa_V_2020_2024.csv\n",
      "Calculated Moving Averages (MA_20, MA_50) and saved: ../Fetch_data/data/US-30/Procter & Gamble_PG_2020_2024.csv\n",
      "Calculated Moving Averages (MA_20, MA_50) and saved: ../Fetch_data/data/US-30/JPMorgan Chase_JPM_2020_2024.csv\n",
      "Calculated Moving Averages (MA_20, MA_50) and saved: ../Fetch_data/data/US-30/3M_MMM_2020_2024.csv\n",
      "Calculated Moving Averages (MA_20, MA_50) and saved: ../Fetch_data/data/US-30/Home Depot_HD_2020_2024.csv\n",
      "Calculated Moving Averages (MA_20, MA_50) and saved: ../Fetch_data/data/US-30/Chevron_CVX_2020_2024.csv\n",
      "Calculated Moving Averages (MA_20, MA_50) and saved: ../Fetch_data/data/US-30/Apple_AAPL_2020_2024.csv\n",
      "Calculated Moving Averages (MA_20, MA_50) and saved: ../Fetch_data/data/US-30/IBM_IBM_2020_2024.csv\n",
      "Calculated Moving Averages (MA_20, MA_50) and saved: ../Fetch_data/data/US-30/Intel_INTC_2020_2024.csv\n",
      "Calculated Moving Averages (MA_20, MA_50) and saved: ../Fetch_data/data/US-30/Boeing_BA_2020_2024.csv\n"
     ]
    }
   ],
   "source": [
    "# Function to calculate moving averages and save the updated files\n",
    "def calculate_moving_averages_and_save(files, windows=[20, 50]):\n",
    "    for file_path in files:\n",
    "        # Read the CSV file into a DataFrame\n",
    "        df = pd.read_csv(file_path)\n",
    "        \n",
    "        # Calculate moving averages for each specified window size\n",
    "        for window in windows:\n",
    "            ma_column = f'MA_{window}'\n",
    "            df[ma_column] = df['Adj Close'].rolling(window=window).mean()\n",
    "        \n",
    "        # Save the updated DataFrame back to the same file\n",
    "        df.to_csv(file_path, index=False)\n",
    "        print(f\"Calculated Moving Averages (MA_20, MA_50) and saved: {file_path}\")\n",
    "\n",
    "# Calculate moving averages and save the updated files\n",
    "calculate_moving_averages_and_save(files)"
   ]
  },
  {
   "cell_type": "code",
   "execution_count": null,
   "metadata": {},
   "outputs": [],
   "source": []
  }
 ],
 "metadata": {
  "kernelspec": {
   "display_name": "base",
   "language": "python",
   "name": "python3"
  },
  "language_info": {
   "codemirror_mode": {
    "name": "ipython",
    "version": 3
   },
   "file_extension": ".py",
   "mimetype": "text/x-python",
   "name": "python",
   "nbconvert_exporter": "python",
   "pygments_lexer": "ipython3",
   "version": "3.11.4"
  },
  "orig_nbformat": 4
 },
 "nbformat": 4,
 "nbformat_minor": 2
}
