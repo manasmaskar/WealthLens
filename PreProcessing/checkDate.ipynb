{
 "cells": [
  {
   "cell_type": "code",
   "execution_count": 6,
   "metadata": {},
   "outputs": [],
   "source": [
    "import os\n",
    "import pandas as pd\n",
    "\n",
    "\n"
   ]
  },
  {
   "cell_type": "code",
   "execution_count": 7,
   "metadata": {},
   "outputs": [],
   "source": [
    "# Full path to file 1\n",
    "file_1 = '../Fetch_data/data/indices/DOW_JONES_2020_2024.csv'  # Replace with the actual path to the single file\n",
    "\n",
    "# Folder 2 containing the remaining 30 files\n",
    "folder_2 = '../Fetch_data/data/US-30/'\n",
    "\n"
   ]
  },
  {
   "cell_type": "code",
   "execution_count": 8,
   "metadata": {},
   "outputs": [],
   "source": [
    "# List of CSV files in folder 2\n",
    "folder_2_files = [os.path.join(folder_2, file) for file in os.listdir(folder_2) if file.endswith('.csv')]\n",
    "\n",
    "# List of CSV files in folder 2\n",
    "folder_2_files = [os.path.join(folder_2, file) for file in os.listdir(folder_2) if file.endswith('.csv')]\n",
    "\n",
    "# Combine file_1 with the list of files from folder 2\n",
    "files = [file_1] + folder_2_files\n",
    "\n"
   ]
  },
  {
   "cell_type": "code",
   "execution_count": 9,
   "metadata": {},
   "outputs": [],
   "source": [
    "def check_date_format(files):\n",
    "    date_format_issues = {}\n",
    "    for file_path in files:\n",
    "        # Read the CSV file into a DataFrame\n",
    "        df = pd.read_csv(file_path)\n",
    "        \n",
    "        # Convert the 'Date' column to datetime, invalid dates will be NaT\n",
    "        df['Date'] = pd.to_datetime(df['Date'], errors='coerce')\n",
    "        \n",
    "        # Check for invalid dates (NaT values)\n",
    "        invalid_dates = df[df['Date'].isna()]\n",
    "        \n",
    "        if not invalid_dates.empty:\n",
    "            date_format_issues[file_path] = invalid_dates\n",
    "        \n",
    "    return date_format_issues\n"
   ]
  },
  {
   "cell_type": "code",
   "execution_count": 11,
   "metadata": {},
   "outputs": [
    {
     "name": "stdout",
     "output_type": "stream",
     "text": [
      "\n",
      "All dates are in the correct format.\n"
     ]
    }
   ],
   "source": [
    "# Check the date format in all files\n",
    "date_format_issues = check_date_format(files)\n",
    "\n",
    "# Display results\n",
    "if not date_format_issues:\n",
    "    print(\"\\nAll dates are in the correct format.\")\n",
    "else:\n",
    "    for file_path, invalid in date_format_issues.items():\n",
    "        print(f\"\\nInvalid Date entries found in {file_path}:\")\n",
    "        print(invalid[['Date']])  # Display invalid date entries"
   ]
  },
  {
   "cell_type": "code",
   "execution_count": null,
   "metadata": {},
   "outputs": [],
   "source": []
  }
 ],
 "metadata": {
  "kernelspec": {
   "display_name": "base",
   "language": "python",
   "name": "python3"
  },
  "language_info": {
   "codemirror_mode": {
    "name": "ipython",
    "version": 3
   },
   "file_extension": ".py",
   "mimetype": "text/x-python",
   "name": "python",
   "nbconvert_exporter": "python",
   "pygments_lexer": "ipython3",
   "version": "3.11.4"
  },
  "orig_nbformat": 4
 },
 "nbformat": 4,
 "nbformat_minor": 2
}
