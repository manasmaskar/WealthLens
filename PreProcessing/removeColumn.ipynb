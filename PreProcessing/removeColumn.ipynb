{
 "cells": [
  {
   "cell_type": "code",
   "execution_count": 1,
   "metadata": {},
   "outputs": [],
   "source": [
    "import os\n",
    "import pandas as pd\n",
    "\n",
    "\n"
   ]
  },
  {
   "cell_type": "code",
   "execution_count": 3,
   "metadata": {},
   "outputs": [],
   "source": [
    "# Full path to file 1\n",
    "file_1 = '../Fetch_data/data/indices/DOW_JONES_2020_2024.csv'  # Replace with the actual path to the single file\n",
    "\n",
    "# Folder 2 containing the remaining 30 files\n",
    "folder_2 = '../Fetch_data/data/US-30/'\n",
    "\n",
    "# List of CSV files in folder 2\n",
    "folder_2_files = [os.path.join(folder_2, file) for file in os.listdir(folder_2) if file.endswith('.csv')]\n",
    "\n",
    "# List of CSV files in folder 2\n",
    "folder_2_files = [os.path.join(folder_2, file) for file in os.listdir(folder_2) if file.endswith('.csv')]\n",
    "\n",
    "# Combine file_1 with the list of files from folder 2\n",
    "files = [file_1] + folder_2_files\n",
    "\n"
   ]
  },
  {
   "cell_type": "code",
   "execution_count": 4,
   "metadata": {},
   "outputs": [],
   "source": [
    "def remove_columns_and_save(files):\n",
    "    for file_path in files:\n",
    "        # Read the CSV file into a DataFrame\n",
    "        df = pd.read_csv(file_path)\n",
    "        \n",
    "        # Remove the columns 'Open', 'High', 'Low'\n",
    "        df_cleaned = df.drop(columns=['Open', 'High', 'Low'], errors='ignore')\n",
    "        \n",
    "        # Save the cleaned DataFrame back to the same file\n",
    "        df_cleaned.to_csv(file_path, index=False)\n",
    "        print(f\"Cleaned and saved: {file_path}\")"
   ]
  },
  {
   "cell_type": "code",
   "execution_count": 5,
   "metadata": {},
   "outputs": [
    {
     "name": "stdout",
     "output_type": "stream",
     "text": [
      "Cleaned and saved: ../Fetch_data/data/indices/DOW_JONES_2020_2024.csv\n",
      "Cleaned and saved: ../Fetch_data/data/US-30/McDonald's_MCD_2020_2024.csv\n",
      "Cleaned and saved: ../Fetch_data/data/US-30/Cisco Systems_CSCO_2020_2024.csv\n",
      "Cleaned and saved: ../Fetch_data/data/US-30/Nike_NKE_2020_2024.csv\n",
      "Cleaned and saved: ../Fetch_data/data/US-30/American Express_AXP_2020_2024.csv\n",
      "Cleaned and saved: ../Fetch_data/data/US-30/Merck_MRK_2020_2024.csv\n",
      "Cleaned and saved: ../Fetch_data/data/US-30/Disney_DIS_2020_2024.csv\n",
      "Cleaned and saved: ../Fetch_data/data/US-30/Johnson & Johnson_JNJ_2020_2024.csv\n",
      "Cleaned and saved: ../Fetch_data/data/US-30/Coca-Cola_KO_2020_2024.csv\n",
      "Cleaned and saved: ../Fetch_data/data/US-30/Verizon_VZ_2020_2024.csv\n",
      "Cleaned and saved: ../Fetch_data/data/US-30/Salesforce_CRM_2020_2024.csv\n",
      "Cleaned and saved: ../Fetch_data/data/US-30/Walmart_WMT_2020_2024.csv\n",
      "Cleaned and saved: ../Fetch_data/data/US-30/Microsoft_MSFT_2020_2024.csv\n",
      "Cleaned and saved: ../Fetch_data/data/US-30/UnitedHealth Group_UNH_2020_2024.csv\n",
      "Cleaned and saved: ../Fetch_data/data/US-30/The Travelers Companies_TRV_2020_2024.csv\n",
      "Cleaned and saved: ../Fetch_data/data/US-30/Honeywell_HON_2020_2024.csv\n",
      "Cleaned and saved: ../Fetch_data/data/US-30/Walgreens Boots Alliance_WBA_2020_2024.csv\n",
      "Cleaned and saved: ../Fetch_data/data/US-30/Amgen_AMGN_2020_2024.csv\n",
      "Cleaned and saved: ../Fetch_data/data/US-30/Goldman Sachs_GS_2020_2024.csv\n",
      "Cleaned and saved: ../Fetch_data/data/US-30/Dow Inc._DOW_2020_2024.csv\n",
      "Cleaned and saved: ../Fetch_data/data/US-30/Caterpillar_CAT_2020_2024.csv\n",
      "Cleaned and saved: ../Fetch_data/data/US-30/Visa_V_2020_2024.csv\n",
      "Cleaned and saved: ../Fetch_data/data/US-30/Procter & Gamble_PG_2020_2024.csv\n",
      "Cleaned and saved: ../Fetch_data/data/US-30/JPMorgan Chase_JPM_2020_2024.csv\n",
      "Cleaned and saved: ../Fetch_data/data/US-30/3M_MMM_2020_2024.csv\n",
      "Cleaned and saved: ../Fetch_data/data/US-30/Home Depot_HD_2020_2024.csv\n",
      "Cleaned and saved: ../Fetch_data/data/US-30/Chevron_CVX_2020_2024.csv\n",
      "Cleaned and saved: ../Fetch_data/data/US-30/Apple_AAPL_2020_2024.csv\n",
      "Cleaned and saved: ../Fetch_data/data/US-30/IBM_IBM_2020_2024.csv\n",
      "Cleaned and saved: ../Fetch_data/data/US-30/Intel_INTC_2020_2024.csv\n",
      "Cleaned and saved: ../Fetch_data/data/US-30/Boeing_BA_2020_2024.csv\n"
     ]
    }
   ],
   "source": [
    "remove_columns_and_save(files)\n"
   ]
  },
  {
   "cell_type": "code",
   "execution_count": null,
   "metadata": {},
   "outputs": [],
   "source": []
  }
 ],
 "metadata": {
  "kernelspec": {
   "display_name": "base",
   "language": "python",
   "name": "python3"
  },
  "language_info": {
   "codemirror_mode": {
    "name": "ipython",
    "version": 3
   },
   "file_extension": ".py",
   "mimetype": "text/x-python",
   "name": "python",
   "nbconvert_exporter": "python",
   "pygments_lexer": "ipython3",
   "version": "3.11.4"
  },
  "orig_nbformat": 4
 },
 "nbformat": 4,
 "nbformat_minor": 2
}
