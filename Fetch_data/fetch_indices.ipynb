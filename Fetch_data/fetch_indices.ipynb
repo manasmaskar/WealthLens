{
 "cells": [
  {
   "cell_type": "code",
   "execution_count": 16,
   "metadata": {},
   "outputs": [],
   "source": [
    "import yfinance as yf\n",
    "import pandas as pd"
   ]
  },
  {
   "cell_type": "code",
   "execution_count": 23,
   "metadata": {},
   "outputs": [],
   "source": [
    "\n",
    "# List of indices symbols and their names\n",
    "indices = {\n",
    "    \"GC=F\": \"GOLD\",          # Gold Futures\n",
    "    \"CL=F\": \"CRUDE_OIL\",     # Crude Oil Futures\n",
    "    \"SI=F\": \"SILVER\",        # Silver Futures\n",
    "    \"HG=F\": \"COPPER\",        # Copper Futures\n",
    "    \"NG=F\": \"NATURAL_GAS\"\n",
    "}\n",
    "\n",
    "# Dictionary to store downloaded data\n",
    "index_data = {}\n"
   ]
  },
  {
   "cell_type": "code",
   "execution_count": 24,
   "metadata": {},
   "outputs": [
    {
     "name": "stderr",
     "output_type": "stream",
     "text": [
      "[*********************100%%**********************]  1 of 1 completed\n",
      "[*********************100%%**********************]  1 of 1 completed\n"
     ]
    },
    {
     "name": "stdout",
     "output_type": "stream",
     "text": [
      "Downloaded and saved data for GC=F as GOLD_2020_2024.csv\n",
      "Downloaded and saved data for CL=F as CRUDE_OIL_2020_2024.csv\n"
     ]
    },
    {
     "name": "stderr",
     "output_type": "stream",
     "text": [
      "[*********************100%%**********************]  1 of 1 completed\n",
      "[*********************100%%**********************]  1 of 1 completed\n"
     ]
    },
    {
     "name": "stdout",
     "output_type": "stream",
     "text": [
      "Downloaded and saved data for SI=F as SILVER_2020_2024.csv\n",
      "Downloaded and saved data for HG=F as COPPER_2020_2024.csv\n"
     ]
    },
    {
     "name": "stderr",
     "output_type": "stream",
     "text": [
      "[*********************100%%**********************]  1 of 1 completed"
     ]
    },
    {
     "name": "stdout",
     "output_type": "stream",
     "text": [
      "Downloaded and saved data for NG=F as NATURAL_GAS_2020_2024.csv\n",
      "\n",
      "Data for GC=F:\n",
      "                    Open         High          Low        Close    Adj Close  \\\n",
      "Date                                                                          \n",
      "2020-01-02  1518.099976  1528.699951  1518.000000  1524.500000  1524.500000   \n",
      "2020-01-03  1530.099976  1552.699951  1530.099976  1549.199951  1549.199951   \n",
      "2020-01-06  1580.000000  1580.000000  1560.400024  1566.199951  1566.199951   \n",
      "2020-01-07  1558.300049  1576.300049  1558.300049  1571.800049  1571.800049   \n",
      "2020-01-08  1579.699951  1604.199951  1552.300049  1557.400024  1557.400024   \n",
      "\n",
      "            Volume  \n",
      "Date                \n",
      "2020-01-02     214  \n",
      "2020-01-03     107  \n",
      "2020-01-06     416  \n",
      "2020-01-07      47  \n",
      "2020-01-08     236  \n",
      "\n",
      "Data for CL=F:\n",
      "                  Open       High        Low      Close  Adj Close   Volume\n",
      "Date                                                                      \n",
      "2020-01-02  61.599998  61.599998  60.639999  61.180000  61.180000   486873\n",
      "2020-01-03  61.180000  64.089996  61.130001  63.049999  63.049999   885861\n",
      "2020-01-06  63.709999  64.720001  62.639999  63.270000  63.270000   724236\n",
      "2020-01-07  62.910000  63.150002  62.110001  62.700001  62.700001   582649\n",
      "2020-01-08  62.840000  65.650002  59.150002  59.610001  59.610001  1205710\n",
      "\n",
      "Data for SI=F:\n",
      "                  Open       High        Low      Close  Adj Close  Volume\n",
      "Date                                                                     \n",
      "2020-01-02  17.966000  17.990000  17.966000  17.966000  17.966000       2\n",
      "2020-01-03  18.110001  18.110001  17.965000  18.068001  18.068001      83\n",
      "2020-01-06  18.025000  18.105000  18.025000  18.097000  18.097000       3\n",
      "2020-01-07  18.014999  18.344999  18.014999  18.316000  18.316000      33\n",
      "2020-01-08  18.400000  18.504999  18.070000  18.087999  18.087999      31\n",
      "\n",
      "Data for HG=F:\n",
      "               Open    High     Low   Close  Adj Close  Volume\n",
      "Date                                                         \n",
      "2020-01-02  2.8165  2.8330  2.7945  2.8330     2.8330    1182\n",
      "2020-01-03  2.7935  2.7985  2.7895  2.7985     2.7985     321\n",
      "2020-01-06  2.7780  2.8005  2.7780  2.8005     2.8005     333\n",
      "2020-01-07  2.8010  2.8070  2.8010  2.8040     2.8040     261\n",
      "2020-01-08  2.7870  2.8190  2.7805  2.8190     2.8190     394\n",
      "\n",
      "Data for NG=F:\n",
      "              Open   High    Low  Close  Adj Close  Volume\n",
      "Date                                                     \n",
      "2020-01-02  2.184  2.188  2.116  2.122      2.122  164570\n",
      "2020-01-03  2.129  2.163  2.083  2.130      2.130  144669\n",
      "2020-01-06  2.112  2.173  2.099  2.135      2.135  154678\n",
      "2020-01-07  2.149  2.178  2.102  2.162      2.162  163006\n",
      "2020-01-08  2.153  2.185  2.115  2.141      2.141  242559\n"
     ]
    },
    {
     "name": "stderr",
     "output_type": "stream",
     "text": [
      "\n"
     ]
    }
   ],
   "source": [
    "for symbol, name in indices.items():\n",
    "    try:\n",
    "        # Download historical data for the index (2020 to 2024)\n",
    "        data = yf.download(symbol, start=\"2020-01-01\", end=\"2024-12-31\", interval=\"1d\")\n",
    "        \n",
    "        if not data.empty:\n",
    "            index_data[symbol] = data\n",
    "            filename = f\"{name}_2020_2024.csv\"\n",
    "            data.to_csv(filename)\n",
    "            print(f\"Downloaded and saved data for {symbol} as {filename}\")\n",
    "        else:\n",
    "            print(f\"No data found for {symbol}\")\n",
    "    except Exception as e:\n",
    "        print(f\"Failed to download data for {symbol}: {e}\")\n",
    "\n",
    "# Display the downloaded data summary\n",
    "for symbol, data in index_data.items():\n",
    "    print(f\"\\nData for {symbol}:\\n\", data.head())\n"
   ]
  },
  {
   "cell_type": "code",
   "execution_count": null,
   "metadata": {},
   "outputs": [],
   "source": []
  }
 ],
 "metadata": {
  "kernelspec": {
   "display_name": "base",
   "language": "python",
   "name": "python3"
  },
  "language_info": {
   "codemirror_mode": {
    "name": "ipython",
    "version": 3
   },
   "file_extension": ".py",
   "mimetype": "text/x-python",
   "name": "python",
   "nbconvert_exporter": "python",
   "pygments_lexer": "ipython3",
   "version": "3.11.4"
  },
  "orig_nbformat": 4
 },
 "nbformat": 4,
 "nbformat_minor": 2
}
