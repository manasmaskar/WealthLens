{
 "cells": [
  {
   "cell_type": "code",
   "execution_count": 6,
   "metadata": {},
   "outputs": [],
   "source": [
    "import yfinance as yf\n",
    "import os\n",
    "\n"
   ]
  },
  {
   "cell_type": "code",
   "execution_count": 7,
   "metadata": {},
   "outputs": [],
   "source": [
    "# List of companies in the Dow Jones Industrial Average with their respective tickers\n",
    "dow_jones_tickers = [\n",
    "    (\"3M\", \"MMM\"),\n",
    "    (\"American Express\", \"AXP\"),\n",
    "    (\"Amgen\", \"AMGN\"),\n",
    "    (\"Apple\", \"AAPL\"),\n",
    "    (\"Boeing\", \"BA\"),\n",
    "    (\"Caterpillar\", \"CAT\"),\n",
    "    (\"Chevron\", \"CVX\"),\n",
    "    (\"Cisco Systems\", \"CSCO\"),\n",
    "    (\"Coca-Cola\", \"KO\"),\n",
    "    (\"Disney\", \"DIS\"),\n",
    "    (\"Dow Inc.\", \"DOW\"),\n",
    "    (\"Goldman Sachs\", \"GS\"),\n",
    "    (\"Home Depot\", \"HD\"),\n",
    "    (\"Honeywell\", \"HON\"),\n",
    "    (\"IBM\", \"IBM\"),\n",
    "    (\"Intel\", \"INTC\"),\n",
    "    (\"Johnson & Johnson\", \"JNJ\"),\n",
    "    (\"JPMorgan Chase\", \"JPM\"),\n",
    "    (\"McDonald's\", \"MCD\"),\n",
    "    (\"Merck\", \"MRK\"),\n",
    "    (\"Microsoft\", \"MSFT\"),\n",
    "    (\"Nike\", \"NKE\"),\n",
    "    (\"Procter & Gamble\", \"PG\"),\n",
    "    (\"Salesforce\", \"CRM\"),\n",
    "    (\"The Travelers Companies\", \"TRV\"),\n",
    "    (\"UnitedHealth Group\", \"UNH\"),\n",
    "    (\"Verizon\", \"VZ\"),\n",
    "    (\"Visa\", \"V\"),\n",
    "    (\"Walgreens Boots Alliance\", \"WBA\"),\n",
    "    (\"Walmart\", \"WMT\")\n",
    "]\n",
    "\n"
   ]
  },
  {
   "cell_type": "code",
   "execution_count": 8,
   "metadata": {},
   "outputs": [
    {
     "name": "stderr",
     "output_type": "stream",
     "text": [
      "[*********************100%%**********************]  1 of 1 completed\n",
      "[*********************100%%**********************]  1 of 1 completed\n"
     ]
    },
    {
     "name": "stdout",
     "output_type": "stream",
     "text": [
      "Data for 3M (MMM) saved to data/US-30/3M_MMM_2020_2024.csv\n",
      "Data for American Express (AXP) saved to data/US-30/American Express_AXP_2020_2024.csv\n"
     ]
    },
    {
     "name": "stderr",
     "output_type": "stream",
     "text": [
      "[*********************100%%**********************]  1 of 1 completed\n",
      "[*********************100%%**********************]  1 of 1 completed\n"
     ]
    },
    {
     "name": "stdout",
     "output_type": "stream",
     "text": [
      "Data for Amgen (AMGN) saved to data/US-30/Amgen_AMGN_2020_2024.csv\n",
      "Data for Apple (AAPL) saved to data/US-30/Apple_AAPL_2020_2024.csv\n"
     ]
    },
    {
     "name": "stderr",
     "output_type": "stream",
     "text": [
      "[*********************100%%**********************]  1 of 1 completed\n",
      "[*********************100%%**********************]  1 of 1 completed\n"
     ]
    },
    {
     "name": "stdout",
     "output_type": "stream",
     "text": [
      "Data for Boeing (BA) saved to data/US-30/Boeing_BA_2020_2024.csv\n",
      "Data for Caterpillar (CAT) saved to data/US-30/Caterpillar_CAT_2020_2024.csv\n"
     ]
    },
    {
     "name": "stderr",
     "output_type": "stream",
     "text": [
      "[*********************100%%**********************]  1 of 1 completed\n",
      "[*********************100%%**********************]  1 of 1 completed\n"
     ]
    },
    {
     "name": "stdout",
     "output_type": "stream",
     "text": [
      "Data for Chevron (CVX) saved to data/US-30/Chevron_CVX_2020_2024.csv\n",
      "Data for Cisco Systems (CSCO) saved to data/US-30/Cisco Systems_CSCO_2020_2024.csv\n"
     ]
    },
    {
     "name": "stderr",
     "output_type": "stream",
     "text": [
      "[*********************100%%**********************]  1 of 1 completed\n",
      "[*********************100%%**********************]  1 of 1 completed\n"
     ]
    },
    {
     "name": "stdout",
     "output_type": "stream",
     "text": [
      "Data for Coca-Cola (KO) saved to data/US-30/Coca-Cola_KO_2020_2024.csv\n",
      "Data for Disney (DIS) saved to data/US-30/Disney_DIS_2020_2024.csv\n"
     ]
    },
    {
     "name": "stderr",
     "output_type": "stream",
     "text": [
      "[*********************100%%**********************]  1 of 1 completed\n",
      "[*********************100%%**********************]  1 of 1 completed\n"
     ]
    },
    {
     "name": "stdout",
     "output_type": "stream",
     "text": [
      "Data for Dow Inc. (DOW) saved to data/US-30/Dow Inc._DOW_2020_2024.csv\n",
      "Data for Goldman Sachs (GS) saved to data/US-30/Goldman Sachs_GS_2020_2024.csv\n"
     ]
    },
    {
     "name": "stderr",
     "output_type": "stream",
     "text": [
      "[*********************100%%**********************]  1 of 1 completed\n",
      "[*********************100%%**********************]  1 of 1 completed\n"
     ]
    },
    {
     "name": "stdout",
     "output_type": "stream",
     "text": [
      "Data for Home Depot (HD) saved to data/US-30/Home Depot_HD_2020_2024.csv\n",
      "Data for Honeywell (HON) saved to data/US-30/Honeywell_HON_2020_2024.csv\n"
     ]
    },
    {
     "name": "stderr",
     "output_type": "stream",
     "text": [
      "[*********************100%%**********************]  1 of 1 completed\n",
      "[*********************100%%**********************]  1 of 1 completed\n"
     ]
    },
    {
     "name": "stdout",
     "output_type": "stream",
     "text": [
      "Data for IBM (IBM) saved to data/US-30/IBM_IBM_2020_2024.csv\n",
      "Data for Intel (INTC) saved to data/US-30/Intel_INTC_2020_2024.csv\n"
     ]
    },
    {
     "name": "stderr",
     "output_type": "stream",
     "text": [
      "[*********************100%%**********************]  1 of 1 completed\n",
      "[*********************100%%**********************]  1 of 1 completed\n"
     ]
    },
    {
     "name": "stdout",
     "output_type": "stream",
     "text": [
      "Data for Johnson & Johnson (JNJ) saved to data/US-30/Johnson & Johnson_JNJ_2020_2024.csv\n",
      "Data for JPMorgan Chase (JPM) saved to data/US-30/JPMorgan Chase_JPM_2020_2024.csv\n"
     ]
    },
    {
     "name": "stderr",
     "output_type": "stream",
     "text": [
      "[*********************100%%**********************]  1 of 1 completed\n",
      "[*********************100%%**********************]  1 of 1 completed\n"
     ]
    },
    {
     "name": "stdout",
     "output_type": "stream",
     "text": [
      "Data for McDonald's (MCD) saved to data/US-30/McDonald's_MCD_2020_2024.csv\n",
      "Data for Merck (MRK) saved to data/US-30/Merck_MRK_2020_2024.csv\n"
     ]
    },
    {
     "name": "stderr",
     "output_type": "stream",
     "text": [
      "[*********************100%%**********************]  1 of 1 completed\n",
      "[*********************100%%**********************]  1 of 1 completed\n"
     ]
    },
    {
     "name": "stdout",
     "output_type": "stream",
     "text": [
      "Data for Microsoft (MSFT) saved to data/US-30/Microsoft_MSFT_2020_2024.csv\n",
      "Data for Nike (NKE) saved to data/US-30/Nike_NKE_2020_2024.csv\n"
     ]
    },
    {
     "name": "stderr",
     "output_type": "stream",
     "text": [
      "[*********************100%%**********************]  1 of 1 completed\n",
      "[*********************100%%**********************]  1 of 1 completed\n",
      "[*********************100%%**********************]  1 of 1 completed\n"
     ]
    },
    {
     "name": "stdout",
     "output_type": "stream",
     "text": [
      "Data for Procter & Gamble (PG) saved to data/US-30/Procter & Gamble_PG_2020_2024.csv\n",
      "Data for Salesforce (CRM) saved to data/US-30/Salesforce_CRM_2020_2024.csv\n",
      "Data for The Travelers Companies (TRV) saved to data/US-30/The Travelers Companies_TRV_2020_2024.csv\n"
     ]
    },
    {
     "name": "stderr",
     "output_type": "stream",
     "text": [
      "[*********************100%%**********************]  1 of 1 completed\n",
      "[*********************100%%**********************]  1 of 1 completed\n",
      "[*********************100%%**********************]  1 of 1 completed"
     ]
    },
    {
     "name": "stdout",
     "output_type": "stream",
     "text": [
      "Data for UnitedHealth Group (UNH) saved to data/US-30/UnitedHealth Group_UNH_2020_2024.csv\n",
      "Data for Verizon (VZ) saved to data/US-30/Verizon_VZ_2020_2024.csv\n"
     ]
    },
    {
     "name": "stderr",
     "output_type": "stream",
     "text": [
      "\n",
      "[*********************100%%**********************]  1 of 1 completed\n"
     ]
    },
    {
     "name": "stdout",
     "output_type": "stream",
     "text": [
      "Data for Visa (V) saved to data/US-30/Visa_V_2020_2024.csv\n",
      "Data for Walgreens Boots Alliance (WBA) saved to data/US-30/Walgreens Boots Alliance_WBA_2020_2024.csv\n"
     ]
    },
    {
     "name": "stderr",
     "output_type": "stream",
     "text": [
      "[*********************100%%**********************]  1 of 1 completed"
     ]
    },
    {
     "name": "stdout",
     "output_type": "stream",
     "text": [
      "Data for Walmart (WMT) saved to data/US-30/Walmart_WMT_2020_2024.csv\n"
     ]
    },
    {
     "name": "stderr",
     "output_type": "stream",
     "text": [
      "\n"
     ]
    }
   ],
   "source": [
    "# Create the directory structure to save the files\n",
    "save_dir = 'data/US-30'\n",
    "os.makedirs(save_dir, exist_ok=True)\n",
    "\n",
    "# Fetch historical data for each company in the Dow Jones Industrial Average\n",
    "for company, ticker in dow_jones_tickers:\n",
    "    # Fetch the data\n",
    "    data = yf.download(ticker, start=\"2020-01-01\", end=\"2024-11-12\")\n",
    "    \n",
    "    # Save the data to a CSV file in the specified folder\n",
    "    file_path = os.path.join(save_dir, f\"{company}_{ticker}_2020_2024.csv\")\n",
    "    data.to_csv(file_path)\n",
    "\n",
    "    print(f\"Data for {company} ({ticker}) saved to {file_path}\")"
   ]
  },
  {
   "cell_type": "code",
   "execution_count": null,
   "metadata": {},
   "outputs": [],
   "source": []
  }
 ],
 "metadata": {
  "kernelspec": {
   "display_name": "base",
   "language": "python",
   "name": "python3"
  },
  "language_info": {
   "codemirror_mode": {
    "name": "ipython",
    "version": 3
   },
   "file_extension": ".py",
   "mimetype": "text/x-python",
   "name": "python",
   "nbconvert_exporter": "python",
   "pygments_lexer": "ipython3",
   "version": "3.11.4"
  },
  "orig_nbformat": 4
 },
 "nbformat": 4,
 "nbformat_minor": 2
}
