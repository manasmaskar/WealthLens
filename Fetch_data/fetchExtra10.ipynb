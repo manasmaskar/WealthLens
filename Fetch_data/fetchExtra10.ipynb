{
 "cells": [
  {
   "cell_type": "code",
   "execution_count": 4,
   "metadata": {},
   "outputs": [
    {
     "name": "stderr",
     "output_type": "stream",
     "text": [
      "[*********************100%%**********************]  1 of 1 completed\n",
      "[*********************100%%**********************]  1 of 1 completed\n",
      "[*********************100%%**********************]  1 of 1 completed\n",
      "[*********************100%%**********************]  1 of 1 completed\n",
      "[*********************100%%**********************]  1 of 1 completed\n",
      "[*********************100%%**********************]  1 of 1 completed\n",
      "[*********************100%%**********************]  1 of 1 completed\n",
      "[*********************100%%**********************]  1 of 1 completed\n"
     ]
    },
    {
     "name": "stdout",
     "output_type": "stream",
     "text": [
      "Processed and saved data for AMZN\n",
      "Processed and saved data for GOOGL\n",
      "Processed and saved data for META\n",
      "Processed and saved data for NFLX\n",
      "Processed and saved data for NVDA\n",
      "Processed and saved data for BRK-B\n",
      "Processed and saved data for TSLA\n",
      "Processed and saved data for V\n"
     ]
    },
    {
     "name": "stderr",
     "output_type": "stream",
     "text": [
      "[*********************100%%**********************]  1 of 1 completed\n",
      "[*********************100%%**********************]  1 of 1 completed"
     ]
    },
    {
     "name": "stdout",
     "output_type": "stream",
     "text": [
      "Processed and saved data for PFE\n",
      "Processed and saved data for KO\n"
     ]
    },
    {
     "name": "stderr",
     "output_type": "stream",
     "text": [
      "\n"
     ]
    }
   ],
   "source": [
    "import yfinance as yf\n",
    "import pandas as pd\n",
    "import numpy as np\n",
    "import os\n",
    "\n",
    "# List of tickers for the Extra10 stocks\n",
    "tickers = [\n",
    "    \"AMZN\", \"GOOGL\", \"META\", \"NFLX\", \"NVDA\", \"BRK-B\", \n",
    "    \"TSLA\", \"V\", \"PFE\", \"KO\"\n",
    "]\n",
    "\n",
    "# Define the path for the Extra10 folder\n",
    "folder_Extra10 = 'data/Extra10'\n",
    "\n",
    "# Ensure the Extra10 folder exists\n",
    "os.makedirs(folder_Extra10, exist_ok=True)\n",
    "\n",
    "# Function to fetch data from Yahoo Finance and perform calculations\n",
    "def fetch_and_process_data(tickers, folder):\n",
    "    for ticker in tickers:\n",
    "        # Fetch historical data for the stock (last 5 years)\n",
    "        df = yf.download(ticker, start=\"2018-01-01\", end=\"2024-01-01\")\n",
    "        \n",
    "        # Reset index to make Date a column instead of index\n",
    "        df.reset_index(inplace=True)\n",
    "        \n",
    "        # Calculate Log Returns\n",
    "        df['Log Return'] = np.log(df['Adj Close'] / df['Adj Close'].shift(1))\n",
    "        \n",
    "        # Calculate Daily Return\n",
    "        df['Daily Return'] = df['Adj Close'].pct_change()\n",
    "        \n",
    "        # Calculate RSI (14-day period)\n",
    "        df['Change'] = df['Adj Close'].diff()\n",
    "        df['Gain'] = df['Change'].where(df['Change'] > 0, 0)\n",
    "        df['Loss'] = -df['Change'].where(df['Change'] < 0, 0)\n",
    "        df['Avg Gain'] = df['Gain'].rolling(window=14).mean()\n",
    "        df['Avg Loss'] = df['Loss'].rolling(window=14).mean()\n",
    "        df['RS'] = df['Avg Gain'] / df['Avg Loss']\n",
    "        df['RSI'] = 100 - (100 / (1 + df['RS']))\n",
    "        \n",
    "        # Calculate Moving Averages (MA_20, MA_50)\n",
    "        df['MA_20'] = df['Adj Close'].rolling(window=20).mean()\n",
    "        df['MA_50'] = df['Adj Close'].rolling(window=50).mean()\n",
    "        \n",
    "        # Calculate Rolling Volatility using Log Returns\n",
    "        df['Rolling Volatility'] = df['Log Return'].rolling(window=20).std()\n",
    "        \n",
    "        # Keep only the required columns: Date, Close, Adj Close, Volume, Daily Return, Rolling Volatility, MA_20, MA_50, RSI, Log Return\n",
    "        df = df[['Date', 'Close', 'Adj Close', 'Volume', 'Daily Return', 'Rolling Volatility', 'MA_20', 'MA_50', 'RSI', 'Log Return']]\n",
    "        \n",
    "        # Save the data to a CSV file in the Extra10 folder\n",
    "        df.to_csv(os.path.join(folder, f\"{ticker}_2020_2024.csv\"), index=False)\n",
    "        print(f\"Processed and saved data for {ticker}\")\n",
    "\n",
    "# Fetch data and process for all stocks in the Extra10 folder\n",
    "fetch_and_process_data(tickers, folder_Extra10)\n"
   ]
  },
  {
   "cell_type": "code",
   "execution_count": 3,
   "metadata": {},
   "outputs": [
    {
     "name": "stdout",
     "output_type": "stream",
     "text": [
      "The date column is NOT the index.\n"
     ]
    }
   ],
   "source": [
    "import pandas as pd\n",
    "\n",
    "# Load the CSV file into a DataFrame\n",
    "df = pd.read_csv('/Users/manasmaskar/Rutgers/Fall24/Algo Trading/Project/v1/Fetch_data/data/US-30/Amgen_AMGN_2020_2024.csv')\n",
    "\n",
    "# Check if the date column is the index\n",
    "if df.index.name == 'date':\n",
    "    print(\"The date column is set as the index.\")\n",
    "else:\n",
    "    print(\"The date column is NOT the index.\")\n"
   ]
  },
  {
   "cell_type": "code",
   "execution_count": null,
   "metadata": {},
   "outputs": [],
   "source": []
  }
 ],
 "metadata": {
  "kernelspec": {
   "display_name": "base",
   "language": "python",
   "name": "python3"
  },
  "language_info": {
   "codemirror_mode": {
    "name": "ipython",
    "version": 3
   },
   "file_extension": ".py",
   "mimetype": "text/x-python",
   "name": "python",
   "nbconvert_exporter": "python",
   "pygments_lexer": "ipython3",
   "version": "3.11.4"
  },
  "orig_nbformat": 4
 },
 "nbformat": 4,
 "nbformat_minor": 2
}
