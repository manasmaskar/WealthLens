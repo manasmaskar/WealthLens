{
 "cells": [
  {
   "cell_type": "code",
   "execution_count": 9,
   "metadata": {},
   "outputs": [],
   "source": [
    "import yfinance as yf\n",
    "import pandas as pd\n"
   ]
  },
  {
   "cell_type": "code",
   "execution_count": 12,
   "metadata": {},
   "outputs": [],
   "source": [
    "\n",
    "# List of indices symbols and their names\n",
    "indices = {\n",
    "    'GAS.CMDUSD': 'NG=F',      # Natural Gas Futures\n",
    "    'COFFEE.CMDUSX': 'KC=F',   # Coffee Futures\n",
    "    'COTTON.CMDUSX': 'CT=F',   # Cotton Futures\n",
    "    'LIGHT.CMDUSX': 'CL=F',    # Crude Oil Futures (Light Crude Oil)\n",
    "    'SUGAR.CMDUSX': 'SB=F',    # Sugar Futures\n",
    "    'COPPER.CMDUSD': 'HG=F',   # Copper Futures\n",
    "    'XAGUSD.CMDUSD': 'SI=F',   # Silver Futures\n",
    "    'XAUUSD.CMDUSD': 'GC=F',   # Gold Futures\n",
    "    'COCOA.CMDUSX': 'CC=F' \n",
    "}\n",
    "\n",
    "# Dictionary to store downloaded data\n",
    "index_data = {}\n"
   ]
  },
  {
   "cell_type": "code",
   "execution_count": 13,
   "metadata": {},
   "outputs": [
    {
     "name": "stderr",
     "output_type": "stream",
     "text": [
      "[*********************100%%**********************]  1 of 1 completed\n",
      "\n",
      "1 Failed download:\n",
      "['GAS.CMDUSD']: Exception('%ticker%: No timezone found, symbol may be delisted')\n",
      "[*********************100%%**********************]  1 of 1 completed\n",
      "\n",
      "1 Failed download:\n",
      "['COFFEE.CMDUSX']: Exception('%ticker%: No timezone found, symbol may be delisted')\n",
      "[*********************100%%**********************]  1 of 1 completed\n",
      "\n",
      "1 Failed download:\n",
      "['COTTON.CMDUSX']: Exception('%ticker%: No timezone found, symbol may be delisted')\n",
      "[*********************100%%**********************]  1 of 1 completed\n",
      "\n",
      "1 Failed download:\n",
      "['LIGHT.CMDUSX']: Exception('%ticker%: No timezone found, symbol may be delisted')\n",
      "[*********************100%%**********************]  1 of 1 completed\n",
      "\n",
      "1 Failed download:\n",
      "['SUGAR.CMDUSX']: Exception('%ticker%: No timezone found, symbol may be delisted')\n",
      "[*********************100%%**********************]  1 of 1 completed\n",
      "\n",
      "1 Failed download:\n",
      "['COPPER.CMDUSD']: Exception('%ticker%: No timezone found, symbol may be delisted')\n",
      "[*********************100%%**********************]  1 of 1 completed\n",
      "\n",
      "1 Failed download:\n",
      "['XAGUSD.CMDUSD']: Exception('%ticker%: No timezone found, symbol may be delisted')\n",
      "[*********************100%%**********************]  1 of 1 completed\n",
      "\n",
      "1 Failed download:\n",
      "['XAUUSD.CMDUSD']: Exception('%ticker%: No timezone found, symbol may be delisted')\n",
      "[*********************100%%**********************]  1 of 1 completed\n",
      "\n",
      "1 Failed download:\n",
      "['COCOA.CMDUSX']: Exception('%ticker%: No timezone found, symbol may be delisted')\n"
     ]
    },
    {
     "name": "stdout",
     "output_type": "stream",
     "text": [
      "No data found for GAS.CMDUSD\n",
      "No data found for COFFEE.CMDUSX\n",
      "No data found for COTTON.CMDUSX\n",
      "No data found for LIGHT.CMDUSX\n",
      "No data found for SUGAR.CMDUSX\n",
      "No data found for COPPER.CMDUSD\n",
      "No data found for XAGUSD.CMDUSD\n",
      "No data found for XAUUSD.CMDUSD\n",
      "No data found for COCOA.CMDUSX\n"
     ]
    }
   ],
   "source": [
    "for symbol, name in indices.items():\n",
    "    try:\n",
    "        # Download historical data for the index (2020 to 2024)\n",
    "        data = yf.download(symbol, start=\"2020-01-01\", end=\"2024-12-31\", interval=\"1d\")\n",
    "        \n",
    "        if not data.empty:\n",
    "            index_data[symbol] = data\n",
    "            filename = f\"{name}_2020_2024.csv\"\n",
    "            data.to_csv(filename)\n",
    "            print(f\"Downloaded and saved data for {symbol} as {filename}\")\n",
    "        else:\n",
    "            print(f\"No data found for {symbol}\")\n",
    "    except Exception as e:\n",
    "        print(f\"Failed to download data for {symbol}: {e}\")\n",
    "\n",
    "# Display the downloaded data summary\n",
    "for symbol, data in index_data.items():\n",
    "    print(f\"\\nData for {symbol}:\\n\", data.head())\n"
   ]
  },
  {
   "cell_type": "code",
   "execution_count": null,
   "metadata": {},
   "outputs": [],
   "source": []
  },
  {
   "cell_type": "code",
   "execution_count": 14,
   "metadata": {},
   "outputs": [
    {
     "name": "stdout",
     "output_type": "stream",
     "text": [
      "Fetching data for NG=F...\n"
     ]
    },
    {
     "name": "stderr",
     "output_type": "stream",
     "text": [
      "[*********************100%%**********************]  1 of 1 completed\n"
     ]
    },
    {
     "name": "stdout",
     "output_type": "stream",
     "text": [
      "Downloaded and saved data for NG=F as GAS.CMDUSD_2020_2024.csv\n"
     ]
    },
    {
     "name": "stderr",
     "output_type": "stream",
     "text": [
      "[*********************100%%**********************]  1 of 1 completed"
     ]
    },
    {
     "name": "stdout",
     "output_type": "stream",
     "text": [
      "Fetching data for KC=F...\n"
     ]
    },
    {
     "name": "stderr",
     "output_type": "stream",
     "text": [
      "\n"
     ]
    },
    {
     "name": "stdout",
     "output_type": "stream",
     "text": [
      "Downloaded and saved data for KC=F as COFFEE.CMDUSX_2020_2024.csv\n",
      "Fetching data for CT=F...\n"
     ]
    },
    {
     "name": "stderr",
     "output_type": "stream",
     "text": [
      "[*********************100%%**********************]  1 of 1 completed\n"
     ]
    },
    {
     "name": "stdout",
     "output_type": "stream",
     "text": [
      "Downloaded and saved data for CT=F as COTTON.CMDUSX_2020_2024.csv\n"
     ]
    },
    {
     "name": "stderr",
     "output_type": "stream",
     "text": [
      "[*********************100%%**********************]  1 of 1 completed"
     ]
    },
    {
     "name": "stdout",
     "output_type": "stream",
     "text": [
      "Fetching data for CL=F...\n",
      "Downloaded and saved data for CL=F as LIGHT.CMDUSX_2020_2024.csv\n"
     ]
    },
    {
     "name": "stderr",
     "output_type": "stream",
     "text": [
      "\n",
      "[*********************100%%**********************]  1 of 1 completed"
     ]
    },
    {
     "name": "stdout",
     "output_type": "stream",
     "text": [
      "Fetching data for SB=F...\n",
      "Downloaded and saved data for SB=F as SUGAR.CMDUSX_2020_2024.csv\n"
     ]
    },
    {
     "name": "stderr",
     "output_type": "stream",
     "text": [
      "\n",
      "[*********************100%%**********************]  1 of 1 completed"
     ]
    },
    {
     "name": "stdout",
     "output_type": "stream",
     "text": [
      "Fetching data for HG=F...\n",
      "Downloaded and saved data for HG=F as COPPER.CMDUSD_2020_2024.csv\n"
     ]
    },
    {
     "name": "stderr",
     "output_type": "stream",
     "text": [
      "\n",
      "[*********************100%%**********************]  1 of 1 completed"
     ]
    },
    {
     "name": "stdout",
     "output_type": "stream",
     "text": [
      "Fetching data for SI=F...\n",
      "Downloaded and saved data for SI=F as XAGUSD.CMDUSD_2020_2024.csv\n"
     ]
    },
    {
     "name": "stderr",
     "output_type": "stream",
     "text": [
      "\n",
      "[*********************100%%**********************]  1 of 1 completed"
     ]
    },
    {
     "name": "stdout",
     "output_type": "stream",
     "text": [
      "Fetching data for GC=F...\n",
      "Downloaded and saved data for GC=F as XAUUSD.CMDUSD_2020_2024.csv\n"
     ]
    },
    {
     "name": "stderr",
     "output_type": "stream",
     "text": [
      "\n"
     ]
    },
    {
     "name": "stdout",
     "output_type": "stream",
     "text": [
      "Fetching data for CC=F...\n"
     ]
    },
    {
     "name": "stderr",
     "output_type": "stream",
     "text": [
      "[*********************100%%**********************]  1 of 1 completed\n"
     ]
    },
    {
     "name": "stdout",
     "output_type": "stream",
     "text": [
      "Downloaded and saved data for CC=F as COCOA.CMDUSX_2020_2024.csv\n"
     ]
    }
   ],
   "source": [
    "import yfinance as yf\n",
    "import time\n",
    "\n",
    "# List of commodities with the correct Yahoo Finance futures tickers\n",
    "commodities = {\n",
    "    'GAS.CMDUSD': 'NG=F',      # Natural Gas Futures\n",
    "    'COFFEE.CMDUSX': 'KC=F',   # Coffee Futures\n",
    "    'COTTON.CMDUSX': 'CT=F',   # Cotton Futures\n",
    "    'LIGHT.CMDUSX': 'CL=F',    # Crude Oil Futures (Light Crude Oil)\n",
    "    'SUGAR.CMDUSX': 'SB=F',    # Sugar Futures\n",
    "    'COPPER.CMDUSD': 'HG=F',   # Copper Futures\n",
    "    'XAGUSD.CMDUSD': 'SI=F',   # Silver Futures\n",
    "    'XAUUSD.CMDUSD': 'GC=F',   # Gold Futures\n",
    "    'COCOA.CMDUSX': 'CC=F'     # Cocoa Futures\n",
    "}\n",
    "\n",
    "# Fetch and save data with the original names\n",
    "for original_name, yahoo_symbol in commodities.items():\n",
    "    print(f\"Fetching data for {yahoo_symbol}...\")\n",
    "    try:\n",
    "        # Download historical data (2020 to 2024)\n",
    "        data = yf.download(yahoo_symbol, start=\"2020-01-01\", end=\"2024-12-31\", interval=\"1d\")\n",
    "        \n",
    "        if not data.empty:\n",
    "            filename = f\"{original_name}_2020_2024.csv\"\n",
    "            data.to_csv(filename)\n",
    "            print(f\"Downloaded and saved data for {yahoo_symbol} as {filename}\")\n",
    "        else:\n",
    "            print(f\"No data found for {yahoo_symbol}\")\n",
    "    except Exception as e:\n",
    "        print(f\"Failed to download data for {yahoo_symbol}: {e}\")\n",
    "    \n",
    "    # Respect rate limits with a delay\n",
    "    time.sleep(12)\n"
   ]
  },
  {
   "cell_type": "code",
   "execution_count": null,
   "metadata": {},
   "outputs": [],
   "source": []
  }
 ],
 "metadata": {
  "kernelspec": {
   "display_name": "base",
   "language": "python",
   "name": "python3"
  },
  "language_info": {
   "codemirror_mode": {
    "name": "ipython",
    "version": 3
   },
   "file_extension": ".py",
   "mimetype": "text/x-python",
   "name": "python",
   "nbconvert_exporter": "python",
   "pygments_lexer": "ipython3",
   "version": "3.11.4"
  },
  "orig_nbformat": 4
 },
 "nbformat": 4,
 "nbformat_minor": 2
}
