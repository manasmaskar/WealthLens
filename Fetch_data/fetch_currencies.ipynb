{
 "cells": [
  {
   "cell_type": "code",
   "execution_count": 1,
   "metadata": {},
   "outputs": [],
   "source": [
    "import yfinance as yf\n",
    "\n"
   ]
  },
  {
   "cell_type": "code",
   "execution_count": 2,
   "metadata": {},
   "outputs": [],
   "source": [
    "# List of currency symbols and their names\n",
    "currencies = {\n",
    "    \"USDCHF=X\": \"USDCHF\",  # US Dollar / Swiss Franc\n",
    "    \"GBPUSD=X\": \"GBPUSD\",  # British Pound / US Dollar\n",
    "    \"ETHUSD=X\": \"ETHUSD\",  # Ethereum / US Dollar\n",
    "    \"EURUSD=X\": \"EURUSD\",  # Euro / US Dollar\n",
    "    \"USDJPY=X\": \"USDJPY\",  # US Dollar / Japanese Yen\n",
    "    \"NZDUSD=X\": \"NZDUSD\"   # New Zealand Dollar / US Dollar\n",
    "}\n",
    "\n"
   ]
  },
  {
   "cell_type": "code",
   "execution_count": 3,
   "metadata": {},
   "outputs": [
    {
     "name": "stderr",
     "output_type": "stream",
     "text": [
      "[*********************100%%**********************]  1 of 1 completed\n",
      "[*********************100%%**********************]  1 of 1 completed\n"
     ]
    },
    {
     "name": "stdout",
     "output_type": "stream",
     "text": [
      "Downloaded and saved data for USDCHF=X as USDCHF_2020_2024.csv\n",
      "Downloaded and saved data for GBPUSD=X as GBPUSD_2020_2024.csv\n"
     ]
    },
    {
     "name": "stderr",
     "output_type": "stream",
     "text": [
      "[*********************100%%**********************]  1 of 1 completed\n",
      "\n",
      "1 Failed download:\n",
      "['ETHUSD=X']: Exception('%ticker%: No timezone found, symbol may be delisted')\n",
      "[*********************100%%**********************]  1 of 1 completed\n"
     ]
    },
    {
     "name": "stdout",
     "output_type": "stream",
     "text": [
      "No data found for ETHUSD=X\n",
      "Downloaded and saved data for EURUSD=X as EURUSD_2020_2024.csv\n"
     ]
    },
    {
     "name": "stderr",
     "output_type": "stream",
     "text": [
      "[*********************100%%**********************]  1 of 1 completed\n",
      "[*********************100%%**********************]  1 of 1 completed"
     ]
    },
    {
     "name": "stdout",
     "output_type": "stream",
     "text": [
      "Downloaded and saved data for USDJPY=X as USDJPY_2020_2024.csv\n",
      "Downloaded and saved data for NZDUSD=X as NZDUSD_2020_2024.csv\n",
      "\n",
      "Data for USDCHF=X:\n",
      "                Open     High      Low    Close  Adj Close  Volume\n",
      "Date                                                             \n",
      "2020-01-01  0.96730  0.96920  0.96650  0.96720    0.96720       0\n",
      "2020-01-02  0.96768  0.97229  0.96750  0.96750    0.96750       0\n",
      "2020-01-03  0.97137  0.97434  0.96879  0.97120    0.97120       0\n",
      "2020-01-06  0.97152  0.97157  0.96820  0.97148    0.97148       0\n",
      "2020-01-07  0.96849  0.97281  0.96830  0.96850    0.96850       0\n",
      "\n",
      "Data for GBPUSD=X:\n",
      "                 Open      High       Low     Close  Adj Close  Volume\n",
      "Date                                                                 \n",
      "2020-01-01  1.325400  1.327100  1.321877  1.326260   1.326260       0\n",
      "2020-01-02  1.325047  1.326788  1.312508  1.325030   1.325030       0\n",
      "2020-01-03  1.314389  1.316119  1.305483  1.315270   1.315270       0\n",
      "2020-01-06  1.308130  1.317400  1.306540  1.308010   1.308010       0\n",
      "2020-01-07  1.317193  1.321213  1.309638  1.317003   1.317003       0\n",
      "\n",
      "Data for EURUSD=X:\n",
      "                 Open      High       Low     Close  Adj Close  Volume\n",
      "Date                                                                 \n",
      "2020-01-01  1.122083  1.122838  1.115947  1.122083   1.122083       0\n",
      "2020-01-02  1.121894  1.122712  1.116682  1.122083   1.122083       0\n",
      "2020-01-03  1.117081  1.118068  1.112570  1.117144   1.117144       0\n",
      "2020-01-06  1.116246  1.120825  1.115810  1.116196   1.116196       0\n",
      "2020-01-07  1.119583  1.119946  1.113487  1.119799   1.119799       0\n",
      "\n",
      "Data for USDJPY=X:\n",
      "                   Open        High         Low       Close   Adj Close  Volume\n",
      "Date                                                                          \n",
      "2020-01-01  108.680000  111.410004  108.629997  108.681000  108.681000       0\n",
      "2020-01-02  108.713997  108.860001  108.221001  108.712997  108.712997       0\n",
      "2020-01-03  108.540001  108.551003  107.915001  108.542999  108.542999       0\n",
      "2020-01-06  107.999001  108.410004  107.921997  107.963997  107.963997       0\n",
      "2020-01-07  108.411003  108.616997  108.261002  108.405998  108.405998       0\n",
      "\n",
      "Data for NZDUSD=X:\n",
      "                 Open      High       Low     Close  Adj Close  Volume\n",
      "Date                                                                 \n",
      "2020-01-01  0.678580  0.678580  0.672300  0.678580   0.678580       0\n",
      "2020-01-02  0.673709  0.674032  0.668659  0.673718   0.673718       0\n",
      "2020-01-03  0.669940  0.670040  0.664620  0.670021   0.670021       0\n",
      "2020-01-06  0.665850  0.668100  0.664558  0.665531   0.665531       0\n",
      "2020-01-07  0.666920  0.668000  0.662651  0.666951   0.666951       0\n"
     ]
    },
    {
     "name": "stderr",
     "output_type": "stream",
     "text": [
      "\n"
     ]
    }
   ],
   "source": [
    "# Dictionary to store downloaded data\n",
    "currency_data = {}\n",
    "\n",
    "for symbol, name in currencies.items():\n",
    "    try:\n",
    "        # Download historical data for the currency pair (2020 to 2024)\n",
    "        data = yf.download(symbol, start=\"2020-01-01\", end=\"2024-12-31\", interval=\"1d\")\n",
    "        \n",
    "        if not data.empty:\n",
    "            currency_data[symbol] = data\n",
    "            filename = f\"{name}_2020_2024.csv\"\n",
    "            data.to_csv(filename)\n",
    "            print(f\"Downloaded and saved data for {symbol} as {filename}\")\n",
    "        else:\n",
    "            print(f\"No data found for {symbol}\")\n",
    "    except Exception as e:\n",
    "        print(f\"Failed to download data for {symbol}: {e}\")\n",
    "\n",
    "# Display the downloaded data summary\n",
    "for symbol, data in currency_data.items():\n",
    "    print(f\"\\nData for {symbol}:\\n\", data.head())\n"
   ]
  },
  {
   "cell_type": "code",
   "execution_count": null,
   "metadata": {},
   "outputs": [],
   "source": []
  }
 ],
 "metadata": {
  "kernelspec": {
   "display_name": "base",
   "language": "python",
   "name": "python3"
  },
  "language_info": {
   "codemirror_mode": {
    "name": "ipython",
    "version": 3
   },
   "file_extension": ".py",
   "mimetype": "text/x-python",
   "name": "python",
   "nbconvert_exporter": "python",
   "pygments_lexer": "ipython3",
   "version": "3.11.4"
  },
  "orig_nbformat": 4
 },
 "nbformat": 4,
 "nbformat_minor": 2
}
