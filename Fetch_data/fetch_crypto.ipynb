{
 "cells": [
  {
   "cell_type": "code",
   "execution_count": 1,
   "metadata": {},
   "outputs": [],
   "source": [
    "import yfinance as yf\n",
    "\n",
    "\n"
   ]
  },
  {
   "cell_type": "code",
   "execution_count": 2,
   "metadata": {},
   "outputs": [],
   "source": [
    "# Symbol and name for BTC/USD\n",
    "btc_symbol = \"BTC-USD\"\n",
    "btc_name = \"BTCUSD\"\n",
    "\n"
   ]
  },
  {
   "cell_type": "code",
   "execution_count": 3,
   "metadata": {},
   "outputs": [
    {
     "name": "stderr",
     "output_type": "stream",
     "text": [
      "[*********************100%%**********************]  1 of 1 completed"
     ]
    },
    {
     "name": "stdout",
     "output_type": "stream",
     "text": [
      "Downloaded and saved data for BTC-USD as BTCUSD_2020_2024.csv\n",
      "\n",
      "Data for BTC-USD:\n",
      "                    Open         High          Low        Close    Adj Close  \\\n",
      "Date                                                                          \n",
      "2020-01-01  7194.892090  7254.330566  7174.944336  7200.174316  7200.174316   \n",
      "2020-01-02  7202.551270  7212.155273  6935.270020  6985.470215  6985.470215   \n",
      "2020-01-03  6984.428711  7413.715332  6914.996094  7344.884277  7344.884277   \n",
      "2020-01-04  7345.375488  7427.385742  7309.514160  7410.656738  7410.656738   \n",
      "2020-01-05  7410.451660  7544.497070  7400.535645  7411.317383  7411.317383   \n",
      "\n",
      "                 Volume  \n",
      "Date                     \n",
      "2020-01-01  18565664997  \n",
      "2020-01-02  20802083465  \n",
      "2020-01-03  28111481032  \n",
      "2020-01-04  18444271275  \n",
      "2020-01-05  19725074095  \n"
     ]
    },
    {
     "name": "stderr",
     "output_type": "stream",
     "text": [
      "\n"
     ]
    }
   ],
   "source": [
    "try:\n",
    "    # Download historical data for BTC/USD (2020 to 2024)\n",
    "    data = yf.download(btc_symbol, start=\"2020-01-01\", end=\"2024-12-31\", interval=\"1d\")\n",
    "    \n",
    "    if not data.empty:\n",
    "        filename = f\"{btc_name}_2020_2024.csv\"\n",
    "        data.to_csv(filename)\n",
    "        print(f\"Downloaded and saved data for {btc_symbol} as {filename}\")\n",
    "    else:\n",
    "        print(f\"No data found for {btc_symbol}\")\n",
    "except Exception as e:\n",
    "    print(f\"Failed to download data for {btc_symbol}: {e}\")\n",
    "\n",
    "# Display a summary of the downloaded data\n",
    "print(f\"\\nData for {btc_symbol}:\\n\", data.head())"
   ]
  },
  {
   "cell_type": "code",
   "execution_count": null,
   "metadata": {},
   "outputs": [],
   "source": []
  }
 ],
 "metadata": {
  "kernelspec": {
   "display_name": "base",
   "language": "python",
   "name": "python3"
  },
  "language_info": {
   "codemirror_mode": {
    "name": "ipython",
    "version": 3
   },
   "file_extension": ".py",
   "mimetype": "text/x-python",
   "name": "python",
   "nbconvert_exporter": "python",
   "pygments_lexer": "ipython3",
   "version": "3.11.4"
  },
  "orig_nbformat": 4
 },
 "nbformat": 4,
 "nbformat_minor": 2
}
