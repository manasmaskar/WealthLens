{
 "cells": [
  {
   "cell_type": "code",
   "execution_count": 1,
   "metadata": {},
   "outputs": [],
   "source": [
    "import yfinance as yf\n",
    "import os\n",
    "import pandas as pd\n"
   ]
  },
  {
   "cell_type": "code",
   "execution_count": 2,
   "metadata": {},
   "outputs": [
    {
     "name": "stdout",
     "output_type": "stream",
     "text": [
      "[('3M', 'MMM'), ('A. O. Smith', 'AOS'), ('Abbott Laboratories', 'ABT'), ('AbbVie', 'ABBV'), ('Accenture', 'ACN'), ('Adobe Inc.', 'ADBE'), ('Advanced Micro Devices', 'AMD'), ('AES Corporation', 'AES'), ('Aflac', 'AFL'), ('Agilent Technologies', 'A'), ('Air Products', 'APD'), ('Airbnb', 'ABNB'), ('Akamai Technologies', 'AKAM'), ('Albemarle Corporation', 'ALB'), ('Alexandria Real Estate Equities', 'ARE'), ('Align Technology', 'ALGN'), ('Allegion', 'ALLE'), ('Alliant Energy', 'LNT'), ('Allstate', 'ALL'), ('Alphabet Inc. (Class A)', 'GOOGL'), ('Alphabet Inc. (Class C)', 'GOOG'), ('Altria', 'MO'), ('Amazon', 'AMZN'), ('Amcor', 'AMCR'), ('Amentum', 'AMTM'), ('Ameren', 'AEE'), ('American Electric Power', 'AEP'), ('American Express', 'AXP'), ('American International Group', 'AIG'), ('American Tower', 'AMT'), ('American Water Works', 'AWK'), ('Ameriprise Financial', 'AMP'), ('Ametek', 'AME'), ('Amgen', 'AMGN'), ('Amphenol', 'APH'), ('Analog Devices', 'ADI'), ('Ansys', 'ANSS'), ('Aon', 'AON'), ('APA Corporation', 'APA'), ('Apple Inc.', 'AAPL'), ('Applied Materials', 'AMAT'), ('Aptiv', 'APTV'), ('Arch Capital Group', 'ACGL'), ('Archer Daniels Midland', 'ADM'), ('Arista Networks', 'ANET'), ('Arthur J. Gallagher & Co.', 'AJG'), ('Assurant', 'AIZ'), ('AT&T', 'T'), ('Atmos Energy', 'ATO'), ('Autodesk', 'ADSK'), ('Automatic Data Processing', 'ADP'), ('AutoZone', 'AZO'), ('AvalonBay Communities', 'AVB'), ('Avery Dennison', 'AVY'), ('Axon Enterprise', 'AXON'), ('Baker Hughes', 'BKR'), ('Ball Corporation', 'BALL'), ('Bank of America', 'BAC'), ('Baxter International', 'BAX'), ('Becton Dickinson', 'BDX'), ('Berkshire Hathaway', 'BRK.B'), ('Best Buy', 'BBY'), ('Bio-Techne', 'TECH'), ('Biogen', 'BIIB'), ('BlackRock', 'BLK'), ('Blackstone Inc.', 'BX'), ('BNY Mellon', 'BK'), ('Boeing', 'BA'), ('Booking Holdings', 'BKNG'), ('BorgWarner', 'BWA'), ('Boston Scientific', 'BSX'), ('Bristol Myers Squibb', 'BMY'), ('Broadcom', 'AVGO'), ('Broadridge Financial Solutions', 'BR'), ('Brown & Brown', 'BRO'), ('Brown–Forman', 'BF.B'), ('Builders FirstSource', 'BLDR'), ('Bunge Global', 'BG'), ('BXP, Inc.', 'BXP'), ('C.H. Robinson', 'CHRW'), ('Cadence Design Systems', 'CDNS'), ('Caesars Entertainment', 'CZR'), ('Camden Property Trust', 'CPT'), ('Campbell Soup Company', 'CPB'), ('Capital One', 'COF'), ('Cardinal Health', 'CAH'), ('CarMax', 'KMX'), ('Carnival', 'CCL'), ('Carrier Global', 'CARR'), ('Catalent', 'CTLT'), ('Caterpillar Inc.', 'CAT'), ('Cboe Global Markets', 'CBOE'), ('CBRE Group', 'CBRE'), ('CDW', 'CDW'), ('Celanese', 'CE'), ('Cencora', 'COR'), ('Centene Corporation', 'CNC'), ('CenterPoint Energy', 'CNP'), ('CF Industries', 'CF'), ('Charles River Laboratories', 'CRL'), ('Charles Schwab Corporation', 'SCHW'), ('Charter Communications', 'CHTR'), ('Chevron Corporation', 'CVX'), ('Chipotle Mexican Grill', 'CMG'), ('Chubb Limited', 'CB'), ('Church & Dwight', 'CHD'), ('Cigna', 'CI'), ('Cincinnati Financial', 'CINF'), ('Cintas', 'CTAS'), ('Cisco', 'CSCO'), ('Citigroup', 'C'), ('Citizens Financial Group', 'CFG'), ('Clorox', 'CLX'), ('CME Group', 'CME'), ('CMS Energy', 'CMS'), ('Coca-Cola Company (The)', 'KO'), ('Cognizant', 'CTSH'), ('Colgate-Palmolive', 'CL'), ('Comcast', 'CMCSA'), ('Conagra Brands', 'CAG'), ('ConocoPhillips', 'COP'), ('Consolidated Edison', 'ED'), ('Constellation Brands', 'STZ'), ('Constellation Energy', 'CEG'), ('Cooper Companies (The)', 'COO'), ('Copart', 'CPRT'), ('Corning Inc.', 'GLW'), ('Corpay', 'CPAY'), ('Corteva', 'CTVA'), ('CoStar Group', 'CSGP'), ('Costco', 'COST'), ('Coterra', 'CTRA'), ('CrowdStrike', 'CRWD'), ('Crown Castle', 'CCI'), ('CSX Corporation', 'CSX'), ('Cummins', 'CMI'), ('CVS Health', 'CVS'), ('Danaher Corporation', 'DHR'), ('Darden Restaurants', 'DRI'), ('DaVita', 'DVA'), ('Dayforce', 'DAY'), ('Deckers Brands', 'DECK'), ('Deere & Company', 'DE'), ('Dell Technologies', 'DELL'), ('Delta Air Lines', 'DAL'), ('Devon Energy', 'DVN'), ('Dexcom', 'DXCM'), ('Diamondback Energy', 'FANG'), ('Digital Realty', 'DLR'), ('Discover Financial', 'DFS'), ('Dollar General', 'DG'), ('Dollar Tree', 'DLTR'), ('Dominion Energy', 'D'), (\"Domino's\", 'DPZ'), ('Dover Corporation', 'DOV'), ('Dow Inc.', 'DOW'), ('D. R. Horton', 'DHI'), ('DTE Energy', 'DTE'), ('Duke Energy', 'DUK'), ('DuPont', 'DD'), ('Eastman Chemical Company', 'EMN'), ('Eaton Corporation', 'ETN'), ('eBay', 'EBAY'), ('Ecolab', 'ECL'), ('Edison International', 'EIX'), ('Edwards Lifesciences', 'EW'), ('Electronic Arts', 'EA'), ('Elevance Health', 'ELV'), ('Emerson Electric', 'EMR'), ('Enphase Energy', 'ENPH'), ('Entergy', 'ETR'), ('EOG Resources', 'EOG'), ('EPAM Systems', 'EPAM'), ('EQT Corporation', 'EQT'), ('Equifax', 'EFX'), ('Equinix', 'EQIX'), ('Equity Residential', 'EQR'), ('Erie Indemnity', 'ERIE'), ('Essex Property Trust', 'ESS'), ('Estée Lauder Companies (The)', 'EL'), ('Everest Group', 'EG'), ('Evergy', 'EVRG'), ('Eversource Energy', 'ES'), ('Exelon', 'EXC'), ('Expedia Group', 'EXPE'), ('Expeditors International', 'EXPD'), ('Extra Space Storage', 'EXR'), ('ExxonMobil', 'XOM'), ('F5, Inc.', 'FFIV'), ('FactSet', 'FDS'), ('Fair Isaac', 'FICO'), ('Fastenal', 'FAST'), ('Federal Realty Investment Trust', 'FRT'), ('FedEx', 'FDX'), ('Fidelity National Information Services', 'FIS'), ('Fifth Third Bancorp', 'FITB'), ('First Solar', 'FSLR'), ('FirstEnergy', 'FE'), ('Fiserv', 'FI'), ('FMC Corporation', 'FMC'), ('Ford Motor Company', 'F'), ('Fortinet', 'FTNT'), ('Fortive', 'FTV'), ('Fox Corporation (Class A)', 'FOXA'), ('Fox Corporation (Class B)', 'FOX'), ('Franklin Resources', 'BEN'), ('Freeport-McMoRan', 'FCX'), ('Garmin', 'GRMN'), ('Gartner', 'IT'), ('GE Aerospace', 'GE'), ('GE HealthCare', 'GEHC'), ('GE Vernova', 'GEV'), ('Gen Digital', 'GEN'), ('Generac', 'GNRC'), ('General Dynamics', 'GD'), ('General Mills', 'GIS'), ('General Motors', 'GM'), ('Genuine Parts Company', 'GPC'), ('Gilead Sciences', 'GILD'), ('Global Payments', 'GPN'), ('Globe Life', 'GL'), ('GoDaddy', 'GDDY'), ('Goldman Sachs', 'GS'), ('Halliburton', 'HAL'), ('Hartford (The)', 'HIG'), ('Hasbro', 'HAS'), ('HCA Healthcare', 'HCA'), ('Healthpeak Properties', 'DOC'), ('Henry Schein', 'HSIC'), ('Hershey Company (The)', 'HSY'), ('Hess Corporation', 'HES'), ('Hewlett Packard Enterprise', 'HPE'), ('Hilton Worldwide', 'HLT'), ('Hologic', 'HOLX'), ('Home Depot (The)', 'HD'), ('Honeywell', 'HON'), ('Hormel Foods', 'HRL'), ('Host Hotels & Resorts', 'HST'), ('Howmet Aerospace', 'HWM'), ('HP Inc.', 'HPQ'), ('Hubbell Incorporated', 'HUBB'), ('Humana', 'HUM'), ('Huntington Bancshares', 'HBAN'), ('Huntington Ingalls Industries', 'HII'), ('IBM', 'IBM'), ('IDEX Corporation', 'IEX'), ('Idexx Laboratories', 'IDXX'), ('Illinois Tool Works', 'ITW'), ('Incyte', 'INCY'), ('Ingersoll Rand', 'IR'), ('Insulet Corporation', 'PODD'), ('Intel', 'INTC'), ('Intercontinental Exchange', 'ICE'), ('International Flavors & Fragrances', 'IFF'), ('International Paper', 'IP'), ('Interpublic Group of Companies (The)', 'IPG'), ('Intuit', 'INTU'), ('Intuitive Surgical', 'ISRG'), ('Invesco', 'IVZ'), ('Invitation Homes', 'INVH'), ('IQVIA', 'IQV'), ('Iron Mountain', 'IRM'), ('J.B. Hunt', 'JBHT'), ('Jabil', 'JBL'), ('Jack Henry & Associates', 'JKHY'), ('Jacobs Solutions', 'J'), ('Johnson & Johnson', 'JNJ'), ('Johnson Controls', 'JCI'), ('JPMorgan Chase', 'JPM'), ('Juniper Networks', 'JNPR'), ('Kellanova', 'K'), ('Kenvue', 'KVUE'), ('Keurig Dr Pepper', 'KDP'), ('KeyCorp', 'KEY'), ('Keysight Technologies', 'KEYS'), ('Kimberly-Clark', 'KMB'), ('Kimco Realty', 'KIM'), ('Kinder Morgan', 'KMI'), ('KKR', 'KKR'), ('KLA Corporation', 'KLAC'), ('Kraft Heinz', 'KHC'), ('Kroger', 'KR'), ('L3Harris', 'LHX'), ('LabCorp', 'LH'), ('Lam Research', 'LRCX'), ('Lamb Weston', 'LW'), ('Las Vegas Sands', 'LVS'), ('Leidos', 'LDOS'), ('Lennar', 'LEN'), ('Lilly (Eli)', 'LLY'), ('Linde plc', 'LIN'), ('Live Nation Entertainment', 'LYV'), ('LKQ Corporation', 'LKQ'), ('Lockheed Martin', 'LMT'), ('Loews Corporation', 'L'), (\"Lowe's\", 'LOW'), ('Lululemon Athletica', 'LULU'), ('LyondellBasell', 'LYB'), ('M&T Bank', 'MTB'), ('Marathon Petroleum', 'MPC'), ('MarketAxess', 'MKTX'), ('Marriott International', 'MAR'), ('Marsh McLennan', 'MMC'), ('Martin Marietta Materials', 'MLM'), ('Masco', 'MAS'), ('Mastercard', 'MA'), ('Match Group', 'MTCH'), ('McCormick & Company', 'MKC'), (\"McDonald's\", 'MCD'), ('McKesson Corporation', 'MCK'), ('Medtronic', 'MDT'), ('Merck & Co.', 'MRK'), ('Meta Platforms', 'META'), ('MetLife', 'MET'), ('Mettler Toledo', 'MTD'), ('MGM Resorts', 'MGM'), ('Microchip Technology', 'MCHP'), ('Micron Technology', 'MU'), ('Microsoft', 'MSFT'), ('Mid-America Apartment Communities', 'MAA'), ('Moderna', 'MRNA'), ('Mohawk Industries', 'MHK'), ('Molina Healthcare', 'MOH'), ('Molson Coors Beverage Company', 'TAP'), ('Mondelez International', 'MDLZ'), ('Monolithic Power Systems', 'MPWR'), ('Monster Beverage', 'MNST'), (\"Moody's Corporation\", 'MCO'), ('Morgan Stanley', 'MS'), ('Mosaic Company (The)', 'MOS'), ('Motorola Solutions', 'MSI'), ('MSCI', 'MSCI'), ('Nasdaq, Inc.', 'NDAQ'), ('NetApp', 'NTAP'), ('Netflix', 'NFLX'), ('Newmont', 'NEM'), ('News Corp (Class A)', 'NWSA'), ('News Corp (Class B)', 'NWS'), ('NextEra Energy', 'NEE'), ('Nike, Inc.', 'NKE'), ('NiSource', 'NI'), ('Nordson Corporation', 'NDSN'), ('Norfolk Southern Railway', 'NSC'), ('Northern Trust', 'NTRS'), ('Northrop Grumman', 'NOC'), ('Norwegian Cruise Line Holdings', 'NCLH'), ('NRG Energy', 'NRG'), ('Nucor', 'NUE'), ('Nvidia', 'NVDA'), ('NVR, Inc.', 'NVR'), ('NXP Semiconductors', 'NXPI'), (\"O'Reilly Auto Parts\", 'ORLY'), ('Occidental Petroleum', 'OXY'), ('Old Dominion', 'ODFL'), ('Omnicom Group', 'OMC'), ('ON Semiconductor', 'ON'), ('ONEOK', 'OKE'), ('Oracle Corporation', 'ORCL'), ('Otis Worldwide', 'OTIS'), ('Paccar', 'PCAR'), ('Packaging Corporation of America', 'PKG'), ('Palantir Technologies', 'PLTR'), ('Palo Alto Networks', 'PANW'), ('Paramount Global', 'PARA'), ('Parker Hannifin', 'PH'), ('Paychex', 'PAYX'), ('Paycom', 'PAYC'), ('PayPal', 'PYPL'), ('Pentair', 'PNR'), ('PepsiCo', 'PEP'), ('Pfizer', 'PFE'), ('PG&E Corporation', 'PCG'), ('Philip Morris International', 'PM'), ('Phillips 66', 'PSX'), ('Pinnacle West', 'PNW'), ('PNC Financial Services', 'PNC'), ('Pool Corporation', 'POOL'), ('PPG Industries', 'PPG'), ('PPL Corporation', 'PPL'), ('Principal Financial Group', 'PFG'), ('Procter & Gamble', 'PG'), ('Progressive Corporation', 'PGR'), ('Prologis', 'PLD'), ('Prudential Financial', 'PRU'), ('Public Service Enterprise Group', 'PEG'), ('PTC Inc.', 'PTC'), ('Public Storage', 'PSA'), ('PulteGroup', 'PHM'), ('Qorvo', 'QRVO'), ('Quanta Services', 'PWR'), ('Qualcomm', 'QCOM'), ('Quest Diagnostics', 'DGX'), ('Ralph Lauren Corporation', 'RL'), ('Raymond James Financial', 'RJF'), ('RTX Corporation', 'RTX'), ('Realty Income', 'O'), ('Regency Centers', 'REG'), ('Regeneron Pharmaceuticals', 'REGN'), ('Regions Financial Corporation', 'RF'), ('Republic Services', 'RSG'), ('ResMed', 'RMD'), ('Revvity', 'RVTY'), ('Rockwell Automation', 'ROK'), ('Rollins, Inc.', 'ROL'), ('Roper Technologies', 'ROP'), ('Ross Stores', 'ROST'), ('Royal Caribbean Group', 'RCL'), ('S&P Global', 'SPGI'), ('Salesforce', 'CRM'), ('SBA Communications', 'SBAC'), ('Schlumberger', 'SLB'), ('Seagate Technology', 'STX'), ('Sempra', 'SRE'), ('ServiceNow', 'NOW'), ('Sherwin-Williams', 'SHW'), ('Simon Property Group', 'SPG'), ('Skyworks Solutions', 'SWKS'), ('J.M. Smucker Company (The)', 'SJM'), ('Smurfit WestRock', 'SW'), ('Snap-on', 'SNA'), ('Solventum', 'SOLV'), ('Southern Company', 'SO'), ('Southwest Airlines', 'LUV'), ('Stanley Black & Decker', 'SWK'), ('Starbucks', 'SBUX'), ('State Street Corporation', 'STT'), ('Steel Dynamics', 'STLD'), ('Steris', 'STE'), ('Stryker Corporation', 'SYK'), ('Supermicro', 'SMCI'), ('Synchrony Financial', 'SYF'), ('Synopsys', 'SNPS'), ('Sysco', 'SYY'), ('T-Mobile US', 'TMUS'), ('T. Rowe Price', 'TROW'), ('Take-Two Interactive', 'TTWO'), ('Tapestry, Inc.', 'TPR'), ('Targa Resources', 'TRGP'), ('Target Corporation', 'TGT'), ('TE Connectivity', 'TEL'), ('Teledyne Technologies', 'TDY'), ('Teleflex', 'TFX'), ('Teradyne', 'TER'), ('Tesla, Inc.', 'TSLA'), ('Texas Instruments', 'TXN'), ('Texas Pacific Land Corporation', 'TPL'), ('Textron', 'TXT'), ('Thermo Fisher Scientific', 'TMO'), ('TJX Companies', 'TJX'), ('Tractor Supply', 'TSCO'), ('Trane Technologies', 'TT'), ('TransDigm Group', 'TDG'), ('Travelers Companies (The)', 'TRV'), ('Trimble Inc.', 'TRMB'), ('Truist Financial', 'TFC'), ('Tyler Technologies', 'TYL'), ('Tyson Foods', 'TSN'), ('U.S. Bancorp', 'USB'), ('Uber', 'UBER'), ('UDR, Inc.', 'UDR'), ('Ulta Beauty', 'ULTA'), ('Union Pacific Corporation', 'UNP'), ('United Airlines Holdings', 'UAL'), ('United Parcel Service', 'UPS'), ('United Rentals', 'URI'), ('UnitedHealth Group', 'UNH'), ('Universal Health Services', 'UHS'), ('Valero Energy', 'VLO'), ('Ventas', 'VTR'), ('Veralto', 'VLTO'), ('Verisign', 'VRSN'), ('Verisk Analytics', 'VRSK'), ('Verizon', 'VZ'), ('Vertex Pharmaceuticals', 'VRTX'), ('Viatris', 'VTRS'), ('Vici Properties', 'VICI'), ('Visa Inc.', 'V'), ('Vistra Corp.', 'VST'), ('Vulcan Materials Company', 'VMC'), ('W. R. Berkley Corporation', 'WRB'), ('W. W. Grainger', 'GWW'), ('Wabtec', 'WAB'), ('Walgreens Boots Alliance', 'WBA'), ('Walmart', 'WMT'), ('Walt Disney Company (The)', 'DIS'), ('Warner Bros. Discovery', 'WBD'), ('Waste Management', 'WM'), ('Waters Corporation', 'WAT'), ('WEC Energy Group', 'WEC'), ('Wells Fargo', 'WFC'), ('Welltower', 'WELL'), ('West Pharmaceutical Services', 'WST'), ('Western Digital', 'WDC'), ('Weyerhaeuser', 'WY'), ('Williams Companies', 'WMB'), ('Willis Towers Watson', 'WTW'), ('Wynn Resorts', 'WYNN'), ('Xcel Energy', 'XEL'), ('Xylem Inc.', 'XYL'), ('Yum! Brands', 'YUM'), ('Zebra Technologies', 'ZBRA'), ('Zimmer Biomet', 'ZBH'), ('Zoetis', 'ZTS')]\n"
     ]
    }
   ],
   "source": [
    "# URL to Wikipedia's S&P 500 page\n",
    "url = \"https://en.wikipedia.org/wiki/List_of_S%26P_500_companies\"\n",
    "\n",
    "# Read the data from the table into a pandas DataFrame\n",
    "sp500_table = pd.read_html(url, header=0)[0]\n",
    "\n",
    "# Extract the ticker symbols and company names\n",
    "sp500_tickers = [(row[\"Security\"], row[\"Symbol\"]) for _, row in sp500_table.iterrows()]\n",
    "\n",
    "# Print the list of S&P 500 tickers\n",
    "print(sp500_tickers)"
   ]
  },
  {
   "cell_type": "code",
   "execution_count": 3,
   "metadata": {},
   "outputs": [],
   "source": [
    "dow_jones_tickers = [('3M', 'MMM'), ('A. O. Smith', 'AOS'), ('Abbott Laboratories', 'ABT'), ('AbbVie', 'ABBV'), ('Accenture', 'ACN'), ('Adobe Inc.', 'ADBE'), ('Advanced Micro Devices', 'AMD'), ('AES Corporation', 'AES'), ('Aflac', 'AFL'), ('Agilent Technologies', 'A'), ('Air Products', 'APD'), ('Airbnb', 'ABNB'), ('Akamai Technologies', 'AKAM'), ('Albemarle Corporation', 'ALB'), ('Alexandria Real Estate Equities', 'ARE'), ('Align Technology', 'ALGN'), ('Allegion', 'ALLE'), ('Alliant Energy', 'LNT'), ('Allstate', 'ALL'), ('Alphabet Inc. (Class A)', 'GOOGL'), ('Alphabet Inc. (Class C)', 'GOOG'), ('Altria', 'MO'), ('Amazon', 'AMZN'), ('Amcor', 'AMCR'), ('Amentum', 'AMTM'), ('Ameren', 'AEE'), ('American Electric Power', 'AEP'), ('American Express', 'AXP'), ('American International Group', 'AIG'), ('American Tower', 'AMT'), ('American Water Works', 'AWK'), ('Ameriprise Financial', 'AMP'), ('Ametek', 'AME'), ('Amgen', 'AMGN'), ('Amphenol', 'APH'), ('Analog Devices', 'ADI'), ('Ansys', 'ANSS'), ('Aon', 'AON'), ('APA Corporation', 'APA'), ('Apple Inc.', 'AAPL'), ('Applied Materials', 'AMAT'), ('Aptiv', 'APTV'), ('Arch Capital Group', 'ACGL'), ('Archer Daniels Midland', 'ADM'), ('Arista Networks', 'ANET'), ('Arthur J. Gallagher & Co.', 'AJG'), ('Assurant', 'AIZ'), ('AT&T', 'T'), ('Atmos Energy', 'ATO'), ('Autodesk', 'ADSK'), ('Automatic Data Processing', 'ADP'), ('AutoZone', 'AZO'), ('AvalonBay Communities', 'AVB'), ('Avery Dennison', 'AVY'), ('Axon Enterprise', 'AXON'), ('Baker Hughes', 'BKR'), ('Ball Corporation', 'BALL'), ('Bank of America', 'BAC'), ('Baxter International', 'BAX'), ('Becton Dickinson', 'BDX'), ('Berkshire Hathaway', 'BRK.B'), ('Best Buy', 'BBY'), ('Bio-Techne', 'TECH'), ('Biogen', 'BIIB'), ('BlackRock', 'BLK'), ('Blackstone Inc.', 'BX'), ('BNY Mellon', 'BK'), ('Boeing', 'BA'), ('Booking Holdings', 'BKNG'), ('BorgWarner', 'BWA'), ('Boston Scientific', 'BSX'), ('Bristol Myers Squibb', 'BMY'), ('Broadcom', 'AVGO'), ('Broadridge Financial Solutions', 'BR'), ('Brown & Brown', 'BRO'), ('Brown–Forman', 'BF.B'), ('Builders FirstSource', 'BLDR'), ('Bunge Global', 'BG'), ('BXP, Inc.', 'BXP'), ('C.H. Robinson', 'CHRW'), ('Cadence Design Systems', 'CDNS'), ('Caesars Entertainment', 'CZR'), ('Camden Property Trust', 'CPT'), ('Campbell Soup Company', 'CPB'), ('Capital One', 'COF'), ('Cardinal Health', 'CAH'), ('CarMax', 'KMX'), ('Carnival', 'CCL'), ('Carrier Global', 'CARR'), ('Catalent', 'CTLT'), ('Caterpillar Inc.', 'CAT'), ('Cboe Global Markets', 'CBOE'), ('CBRE Group', 'CBRE'), ('CDW', 'CDW'), ('Celanese', 'CE'), ('Cencora', 'COR'), ('Centene Corporation', 'CNC'), ('CenterPoint Energy', 'CNP'), ('CF Industries', 'CF'), ('Charles River Laboratories', 'CRL'), ('Charles Schwab Corporation', 'SCHW'), ('Charter Communications', 'CHTR'), ('Chevron Corporation', 'CVX'), ('Chipotle Mexican Grill', 'CMG'), ('Chubb Limited', 'CB'), ('Church & Dwight', 'CHD'), ('Cigna', 'CI'), ('Cincinnati Financial', 'CINF'), ('Cintas', 'CTAS'), ('Cisco', 'CSCO'), ('Citigroup', 'C'), ('Citizens Financial Group', 'CFG'), ('Clorox', 'CLX'), ('CME Group', 'CME'), ('CMS Energy', 'CMS'), ('Coca-Cola Company (The)', 'KO'), ('Cognizant', 'CTSH'), ('Colgate-Palmolive', 'CL'), ('Comcast', 'CMCSA'), ('Conagra Brands', 'CAG'), ('ConocoPhillips', 'COP'), ('Consolidated Edison', 'ED'), ('Constellation Brands', 'STZ'), ('Constellation Energy', 'CEG'), ('Cooper Companies (The)', 'COO'), ('Copart', 'CPRT'), ('Corning Inc.', 'GLW'), ('Corpay', 'CPAY'), ('Corteva', 'CTVA'), ('CoStar Group', 'CSGP'), ('Costco', 'COST'), ('Coterra', 'CTRA'), ('CrowdStrike', 'CRWD'), ('Crown Castle', 'CCI'), ('CSX Corporation', 'CSX'), ('Cummins', 'CMI'), ('CVS Health', 'CVS'), ('Danaher Corporation', 'DHR'), ('Darden Restaurants', 'DRI'), ('DaVita', 'DVA'), ('Dayforce', 'DAY'), ('Deckers Brands', 'DECK'), ('Deere & Company', 'DE'), ('Dell Technologies', 'DELL'), ('Delta Air Lines', 'DAL'), ('Devon Energy', 'DVN'), ('Dexcom', 'DXCM'), ('Diamondback Energy', 'FANG'), ('Digital Realty', 'DLR'), ('Discover Financial', 'DFS'), ('Dollar General', 'DG'), ('Dollar Tree', 'DLTR'), ('Dominion Energy', 'D'), (\"Domino's\", 'DPZ'), ('Dover Corporation', 'DOV'), ('Dow Inc.', 'DOW'), ('D. R. Horton', 'DHI'), ('DTE Energy', 'DTE'), ('Duke Energy', 'DUK'), ('DuPont', 'DD'), ('Eastman Chemical Company', 'EMN'), ('Eaton Corporation', 'ETN'), ('eBay', 'EBAY'), ('Ecolab', 'ECL'), ('Edison International', 'EIX'), ('Edwards Lifesciences', 'EW'), ('Electronic Arts', 'EA'), ('Elevance Health', 'ELV'), ('Emerson Electric', 'EMR'), ('Enphase Energy', 'ENPH'), ('Entergy', 'ETR'), ('EOG Resources', 'EOG'), ('EPAM Systems', 'EPAM'), ('EQT Corporation', 'EQT'), ('Equifax', 'EFX'), ('Equinix', 'EQIX'), ('Equity Residential', 'EQR'), ('Erie Indemnity', 'ERIE'), ('Essex Property Trust', 'ESS'), ('Estée Lauder Companies (The)', 'EL'), ('Everest Group', 'EG'), ('Evergy', 'EVRG'), ('Eversource Energy', 'ES'), ('Exelon', 'EXC'), ('Expedia Group', 'EXPE'), ('Expeditors International', 'EXPD'), ('Extra Space Storage', 'EXR'), ('ExxonMobil', 'XOM'), ('F5, Inc.', 'FFIV'), ('FactSet', 'FDS'), ('Fair Isaac', 'FICO'), ('Fastenal', 'FAST'), ('Federal Realty Investment Trust', 'FRT'), ('FedEx', 'FDX'), ('Fidelity National Information Services', 'FIS'), ('Fifth Third Bancorp', 'FITB'), ('First Solar', 'FSLR'), ('FirstEnergy', 'FE'), ('Fiserv', 'FI'), ('FMC Corporation', 'FMC'), ('Ford Motor Company', 'F'), ('Fortinet', 'FTNT'), ('Fortive', 'FTV'), ('Fox Corporation (Class A)', 'FOXA'), ('Fox Corporation (Class B)', 'FOX'), ('Franklin Resources', 'BEN'), ('Freeport-McMoRan', 'FCX'), ('Garmin', 'GRMN'), ('Gartner', 'IT'), ('GE Aerospace', 'GE'), ('GE HealthCare', 'GEHC'), ('GE Vernova', 'GEV'), ('Gen Digital', 'GEN'), ('Generac', 'GNRC'), ('General Dynamics', 'GD'), ('General Mills', 'GIS'), ('General Motors', 'GM'), ('Genuine Parts Company', 'GPC'), ('Gilead Sciences', 'GILD'), ('Global Payments', 'GPN'), ('Globe Life', 'GL'), ('GoDaddy', 'GDDY'), ('Goldman Sachs', 'GS'), ('Halliburton', 'HAL'), ('Hartford (The)', 'HIG'), ('Hasbro', 'HAS'), ('HCA Healthcare', 'HCA'), ('Healthpeak Properties', 'DOC'), ('Henry Schein', 'HSIC'), ('Hershey Company (The)', 'HSY'), ('Hess Corporation', 'HES'), ('Hewlett Packard Enterprise', 'HPE'), ('Hilton Worldwide', 'HLT'), ('Hologic', 'HOLX'), ('Home Depot (The)', 'HD'), ('Honeywell', 'HON'), ('Hormel Foods', 'HRL'), ('Host Hotels & Resorts', 'HST'), ('Howmet Aerospace', 'HWM'), ('HP Inc.', 'HPQ'), ('Hubbell Incorporated', 'HUBB'), ('Humana', 'HUM'), ('Huntington Bancshares', 'HBAN'), ('Huntington Ingalls Industries', 'HII'), ('IBM', 'IBM'), ('IDEX Corporation', 'IEX'), ('Idexx Laboratories', 'IDXX'), ('Illinois Tool Works', 'ITW'), ('Incyte', 'INCY'), ('Ingersoll Rand', 'IR'), ('Insulet Corporation', 'PODD'), ('Intel', 'INTC'), ('Intercontinental Exchange', 'ICE'), ('International Flavors & Fragrances', 'IFF'), ('International Paper', 'IP'), ('Interpublic Group of Companies (The)', 'IPG'), ('Intuit', 'INTU'), ('Intuitive Surgical', 'ISRG'), ('Invesco', 'IVZ'), ('Invitation Homes', 'INVH'), ('IQVIA', 'IQV'), ('Iron Mountain', 'IRM'), ('J.B. Hunt', 'JBHT'), ('Jabil', 'JBL'), ('Jack Henry & Associates', 'JKHY'), ('Jacobs Solutions', 'J'), ('Johnson & Johnson', 'JNJ'), ('Johnson Controls', 'JCI'), ('JPMorgan Chase', 'JPM'), ('Juniper Networks', 'JNPR'), ('Kellanova', 'K'), ('Kenvue', 'KVUE'), ('Keurig Dr Pepper', 'KDP'), ('KeyCorp', 'KEY'), ('Keysight Technologies', 'KEYS'), ('Kimberly-Clark', 'KMB'), ('Kimco Realty', 'KIM'), ('Kinder Morgan', 'KMI'), ('KKR', 'KKR'), ('KLA Corporation', 'KLAC'), ('Kraft Heinz', 'KHC'), ('Kroger', 'KR'), ('L3Harris', 'LHX'), ('LabCorp', 'LH'), ('Lam Research', 'LRCX'), ('Lamb Weston', 'LW'), ('Las Vegas Sands', 'LVS'), ('Leidos', 'LDOS'), ('Lennar', 'LEN'), ('Lilly (Eli)', 'LLY'), ('Linde plc', 'LIN'), ('Live Nation Entertainment', 'LYV'), ('LKQ Corporation', 'LKQ'), ('Lockheed Martin', 'LMT'), ('Loews Corporation', 'L'), (\"Lowe's\", 'LOW'), ('Lululemon Athletica', 'LULU'), ('LyondellBasell', 'LYB'), ('M&T Bank', 'MTB'), ('Marathon Petroleum', 'MPC'), ('MarketAxess', 'MKTX'), ('Marriott International', 'MAR'), ('Marsh McLennan', 'MMC'), ('Martin Marietta Materials', 'MLM'), ('Masco', 'MAS'), ('Mastercard', 'MA'), ('Match Group', 'MTCH'), ('McCormick & Company', 'MKC'), (\"McDonald's\", 'MCD'), ('McKesson Corporation', 'MCK'), ('Medtronic', 'MDT'), ('Merck & Co.', 'MRK'), ('Meta Platforms', 'META'), ('MetLife', 'MET'), ('Mettler Toledo', 'MTD'), ('MGM Resorts', 'MGM'), ('Microchip Technology', 'MCHP'), ('Micron Technology', 'MU'), ('Microsoft', 'MSFT'), ('Mid-America Apartment Communities', 'MAA'), ('Moderna', 'MRNA'), ('Mohawk Industries', 'MHK'), ('Molina Healthcare', 'MOH'), ('Molson Coors Beverage Company', 'TAP'), ('Mondelez International', 'MDLZ'), ('Monolithic Power Systems', 'MPWR'), ('Monster Beverage', 'MNST'), (\"Moody's Corporation\", 'MCO'), ('Morgan Stanley', 'MS'), ('Mosaic Company (The)', 'MOS'), ('Motorola Solutions', 'MSI'), ('MSCI', 'MSCI'), ('Nasdaq, Inc.', 'NDAQ'), ('NetApp', 'NTAP'), ('Netflix', 'NFLX'), ('Newmont', 'NEM'), ('News Corp (Class A)', 'NWSA'), ('News Corp (Class B)', 'NWS'), ('NextEra Energy', 'NEE'), ('Nike, Inc.', 'NKE'), ('NiSource', 'NI'), ('Nordson Corporation', 'NDSN'), ('Norfolk Southern Railway', 'NSC'), ('Northern Trust', 'NTRS'), ('Northrop Grumman', 'NOC'), ('Norwegian Cruise Line Holdings', 'NCLH'), ('NRG Energy', 'NRG'), ('Nucor', 'NUE'), ('Nvidia', 'NVDA'), ('NVR, Inc.', 'NVR'), ('NXP Semiconductors', 'NXPI'), (\"O'Reilly Auto Parts\", 'ORLY'), ('Occidental Petroleum', 'OXY'), ('Old Dominion', 'ODFL'), ('Omnicom Group', 'OMC'), ('ON Semiconductor', 'ON'), ('ONEOK', 'OKE'), ('Oracle Corporation', 'ORCL'), ('Otis Worldwide', 'OTIS'), ('Paccar', 'PCAR'), ('Packaging Corporation of America', 'PKG'), ('Palantir Technologies', 'PLTR'), ('Palo Alto Networks', 'PANW'), ('Paramount Global', 'PARA'), ('Parker Hannifin', 'PH'), ('Paychex', 'PAYX'), ('Paycom', 'PAYC'), ('PayPal', 'PYPL'), ('Pentair', 'PNR'), ('PepsiCo', 'PEP'), ('Pfizer', 'PFE'), ('PG&E Corporation', 'PCG'), ('Philip Morris International', 'PM'), ('Phillips 66', 'PSX'), ('Pinnacle West', 'PNW'), ('PNC Financial Services', 'PNC'), ('Pool Corporation', 'POOL'), ('PPG Industries', 'PPG'), ('PPL Corporation', 'PPL'), ('Principal Financial Group', 'PFG'), ('Procter & Gamble', 'PG'), ('Progressive Corporation', 'PGR'), ('Prologis', 'PLD'), ('Prudential Financial', 'PRU'), ('Public Service Enterprise Group', 'PEG'), ('PTC Inc.', 'PTC'), ('Public Storage', 'PSA'), ('PulteGroup', 'PHM'), ('Qorvo', 'QRVO'), ('Quanta Services', 'PWR'), ('Qualcomm', 'QCOM'), ('Quest Diagnostics', 'DGX'), ('Ralph Lauren Corporation', 'RL'), ('Raymond James Financial', 'RJF'), ('RTX Corporation', 'RTX'), ('Realty Income', 'O'), ('Regency Centers', 'REG'), ('Regeneron Pharmaceuticals', 'REGN'), ('Regions Financial Corporation', 'RF'), ('Republic Services', 'RSG'), ('ResMed', 'RMD'), ('Revvity', 'RVTY'), ('Rockwell Automation', 'ROK'), ('Rollins, Inc.', 'ROL'), ('Roper Technologies', 'ROP'), ('Ross Stores', 'ROST'), ('Royal Caribbean Group', 'RCL'), ('S&P Global', 'SPGI'), ('Salesforce', 'CRM'), ('SBA Communications', 'SBAC'), ('Schlumberger', 'SLB'), ('Seagate Technology', 'STX'), ('Sempra', 'SRE'), ('ServiceNow', 'NOW'), ('Sherwin-Williams', 'SHW'), ('Simon Property Group', 'SPG'), ('Skyworks Solutions', 'SWKS'), ('J.M. Smucker Company (The)', 'SJM'), ('Smurfit WestRock', 'SW'), ('Snap-on', 'SNA'), ('Solventum', 'SOLV'), ('Southern Company', 'SO'), ('Southwest Airlines', 'LUV'), ('Stanley Black & Decker', 'SWK'), ('Starbucks', 'SBUX'), ('State Street Corporation', 'STT'), ('Steel Dynamics', 'STLD'), ('Steris', 'STE'), ('Stryker Corporation', 'SYK'), ('Supermicro', 'SMCI'), ('Synchrony Financial', 'SYF'), ('Synopsys', 'SNPS'), ('Sysco', 'SYY'), ('T-Mobile US', 'TMUS'), ('T. Rowe Price', 'TROW'), ('Take-Two Interactive', 'TTWO'), ('Tapestry, Inc.', 'TPR'), ('Targa Resources', 'TRGP'), ('Target Corporation', 'TGT'), ('TE Connectivity', 'TEL'), ('Teledyne Technologies', 'TDY'), ('Teleflex', 'TFX'), ('Teradyne', 'TER'), ('Tesla, Inc.', 'TSLA'), ('Texas Instruments', 'TXN'), ('Texas Pacific Land Corporation', 'TPL'), ('Textron', 'TXT'), ('Thermo Fisher Scientific', 'TMO'), ('TJX Companies', 'TJX'), ('Tractor Supply', 'TSCO'), ('Trane Technologies', 'TT'), ('TransDigm Group', 'TDG'), ('Travelers Companies (The)', 'TRV'), ('Trimble Inc.', 'TRMB'), ('Truist Financial', 'TFC'), ('Tyler Technologies', 'TYL'), ('Tyson Foods', 'TSN'), ('U.S. Bancorp', 'USB'), ('Uber', 'UBER'), ('UDR, Inc.', 'UDR'), ('Ulta Beauty', 'ULTA'), ('Union Pacific Corporation', 'UNP'), ('United Airlines Holdings', 'UAL'), ('United Parcel Service', 'UPS'), ('United Rentals', 'URI'), ('UnitedHealth Group', 'UNH'), ('Universal Health Services', 'UHS'), ('Valero Energy', 'VLO'), ('Ventas', 'VTR'), ('Veralto', 'VLTO'), ('Verisign', 'VRSN'), ('Verisk Analytics', 'VRSK'), ('Verizon', 'VZ'), ('Vertex Pharmaceuticals', 'VRTX'), ('Viatris', 'VTRS'), ('Vici Properties', 'VICI'), ('Visa Inc.', 'V'), ('Vistra Corp.', 'VST'), ('Vulcan Materials Company', 'VMC'), ('W. R. Berkley Corporation', 'WRB'), ('W. W. Grainger', 'GWW'), ('Wabtec', 'WAB'), ('Walgreens Boots Alliance', 'WBA'), ('Walmart', 'WMT'), ('Walt Disney Company (The)', 'DIS'), ('Warner Bros. Discovery', 'WBD'), ('Waste Management', 'WM'), ('Waters Corporation', 'WAT'), ('WEC Energy Group', 'WEC'), ('Wells Fargo', 'WFC'), ('Welltower', 'WELL'), ('West Pharmaceutical Services', 'WST'), ('Western Digital', 'WDC'), ('Weyerhaeuser', 'WY'), ('Williams Companies', 'WMB'), ('Willis Towers Watson', 'WTW'), ('Wynn Resorts', 'WYNN'), ('Xcel Energy', 'XEL'), ('Xylem Inc.', 'XYL'), ('Yum! Brands', 'YUM'), ('Zebra Technologies', 'ZBRA'), ('Zimmer Biomet', 'ZBH'), ('Zoetis', 'ZTS')]\n"
   ]
  },
  {
   "cell_type": "code",
   "execution_count": 4,
   "metadata": {},
   "outputs": [
    {
     "name": "stderr",
     "output_type": "stream",
     "text": [
      "[*********************100%***********************]  1 of 1 completed\n",
      "[*********************100%***********************]  1 of 1 completed\n"
     ]
    },
    {
     "name": "stdout",
     "output_type": "stream",
     "text": [
      "Data for 3M (MMM) saved to data/US-500\\3M_MMM_2020_2024.csv\n",
      "Data for A. O. Smith (AOS) saved to data/US-500\\A. O. Smith_AOS_2020_2024.csv\n"
     ]
    },
    {
     "name": "stderr",
     "output_type": "stream",
     "text": [
      "[*********************100%***********************]  1 of 1 completed\n",
      "[*********************100%***********************]  1 of 1 completed\n"
     ]
    },
    {
     "name": "stdout",
     "output_type": "stream",
     "text": [
      "Data for Abbott Laboratories (ABT) saved to data/US-500\\Abbott Laboratories_ABT_2020_2024.csv\n",
      "Data for AbbVie (ABBV) saved to data/US-500\\AbbVie_ABBV_2020_2024.csv\n"
     ]
    },
    {
     "name": "stderr",
     "output_type": "stream",
     "text": [
      "[*********************100%***********************]  1 of 1 completed\n",
      "[*********************100%***********************]  1 of 1 completed\n"
     ]
    },
    {
     "name": "stdout",
     "output_type": "stream",
     "text": [
      "Data for Accenture (ACN) saved to data/US-500\\Accenture_ACN_2020_2024.csv\n",
      "Data for Adobe Inc. (ADBE) saved to data/US-500\\Adobe Inc._ADBE_2020_2024.csv\n"
     ]
    },
    {
     "name": "stderr",
     "output_type": "stream",
     "text": [
      "[*********************100%***********************]  1 of 1 completed\n",
      "[*********************100%***********************]  1 of 1 completed\n"
     ]
    },
    {
     "name": "stdout",
     "output_type": "stream",
     "text": [
      "Data for Advanced Micro Devices (AMD) saved to data/US-500\\Advanced Micro Devices_AMD_2020_2024.csv\n",
      "Data for AES Corporation (AES) saved to data/US-500\\AES Corporation_AES_2020_2024.csv\n"
     ]
    },
    {
     "name": "stderr",
     "output_type": "stream",
     "text": [
      "[*********************100%***********************]  1 of 1 completed\n",
      "[*********************100%***********************]  1 of 1 completed\n"
     ]
    },
    {
     "name": "stdout",
     "output_type": "stream",
     "text": [
      "Data for Aflac (AFL) saved to data/US-500\\Aflac_AFL_2020_2024.csv\n",
      "Data for Agilent Technologies (A) saved to data/US-500\\Agilent Technologies_A_2020_2024.csv\n"
     ]
    },
    {
     "name": "stderr",
     "output_type": "stream",
     "text": [
      "[*********************100%***********************]  1 of 1 completed\n",
      "[*********************100%***********************]  1 of 1 completed\n"
     ]
    },
    {
     "name": "stdout",
     "output_type": "stream",
     "text": [
      "Data for Air Products (APD) saved to data/US-500\\Air Products_APD_2020_2024.csv\n",
      "Data for Airbnb (ABNB) saved to data/US-500\\Airbnb_ABNB_2020_2024.csv\n"
     ]
    },
    {
     "name": "stderr",
     "output_type": "stream",
     "text": [
      "[*********************100%***********************]  1 of 1 completed\n"
     ]
    },
    {
     "name": "stdout",
     "output_type": "stream",
     "text": [
      "Data for Akamai Technologies (AKAM) saved to data/US-500\\Akamai Technologies_AKAM_2020_2024.csv\n"
     ]
    },
    {
     "name": "stderr",
     "output_type": "stream",
     "text": [
      "[*********************100%***********************]  1 of 1 completed\n",
      "[*********************100%***********************]  1 of 1 completed"
     ]
    },
    {
     "name": "stdout",
     "output_type": "stream",
     "text": [
      "Data for Albemarle Corporation (ALB) saved to data/US-500\\Albemarle Corporation_ALB_2020_2024.csv\n",
      "Data for Alexandria Real Estate Equities (ARE) saved to data/US-500\\Alexandria Real Estate Equities_ARE_2020_2024.csv\n"
     ]
    },
    {
     "name": "stderr",
     "output_type": "stream",
     "text": [
      "\n",
      "[*********************100%***********************]  1 of 1 completed\n",
      "[*********************100%***********************]  1 of 1 completed\n"
     ]
    },
    {
     "name": "stdout",
     "output_type": "stream",
     "text": [
      "Data for Align Technology (ALGN) saved to data/US-500\\Align Technology_ALGN_2020_2024.csv\n",
      "Data for Allegion (ALLE) saved to data/US-500\\Allegion_ALLE_2020_2024.csv\n"
     ]
    },
    {
     "name": "stderr",
     "output_type": "stream",
     "text": [
      "[*********************100%***********************]  1 of 1 completed\n",
      "[*********************100%***********************]  1 of 1 completed"
     ]
    },
    {
     "name": "stdout",
     "output_type": "stream",
     "text": [
      "Data for Alliant Energy (LNT) saved to data/US-500\\Alliant Energy_LNT_2020_2024.csv\n",
      "Data for Allstate (ALL) saved to data/US-500\\Allstate_ALL_2020_2024.csv\n"
     ]
    },
    {
     "name": "stderr",
     "output_type": "stream",
     "text": [
      "\n",
      "[*********************100%***********************]  1 of 1 completed\n",
      "[*********************100%***********************]  1 of 1 completed"
     ]
    },
    {
     "name": "stdout",
     "output_type": "stream",
     "text": [
      "Data for Alphabet Inc. (Class A) (GOOGL) saved to data/US-500\\Alphabet Inc. (Class A)_GOOGL_2020_2024.csv\n",
      "Data for Alphabet Inc. (Class C) (GOOG) saved to data/US-500\\Alphabet Inc. (Class C)_GOOG_2020_2024.csv\n"
     ]
    },
    {
     "name": "stderr",
     "output_type": "stream",
     "text": [
      "\n",
      "[*********************100%***********************]  1 of 1 completed\n",
      "[*********************100%***********************]  1 of 1 completed"
     ]
    },
    {
     "name": "stdout",
     "output_type": "stream",
     "text": [
      "Data for Altria (MO) saved to data/US-500\\Altria_MO_2020_2024.csv\n",
      "Data for Amazon (AMZN) saved to data/US-500\\Amazon_AMZN_2020_2024.csv\n"
     ]
    },
    {
     "name": "stderr",
     "output_type": "stream",
     "text": [
      "\n",
      "[*********************100%***********************]  1 of 1 completed\n",
      "[*********************100%***********************]  1 of 1 completed\n"
     ]
    },
    {
     "name": "stdout",
     "output_type": "stream",
     "text": [
      "Data for Amcor (AMCR) saved to data/US-500\\Amcor_AMCR_2020_2024.csv\n",
      "Data for Amentum (AMTM) saved to data/US-500\\Amentum_AMTM_2020_2024.csv\n"
     ]
    },
    {
     "name": "stderr",
     "output_type": "stream",
     "text": [
      "[*********************100%***********************]  1 of 1 completed\n",
      "[*********************100%***********************]  1 of 1 completed"
     ]
    },
    {
     "name": "stdout",
     "output_type": "stream",
     "text": [
      "Data for Ameren (AEE) saved to data/US-500\\Ameren_AEE_2020_2024.csv\n"
     ]
    },
    {
     "name": "stderr",
     "output_type": "stream",
     "text": [
      "\n",
      "[*********************100%***********************]  1 of 1 completed\n"
     ]
    },
    {
     "name": "stdout",
     "output_type": "stream",
     "text": [
      "Data for American Electric Power (AEP) saved to data/US-500\\American Electric Power_AEP_2020_2024.csv\n",
      "Data for American Express (AXP) saved to data/US-500\\American Express_AXP_2020_2024.csv\n"
     ]
    },
    {
     "name": "stderr",
     "output_type": "stream",
     "text": [
      "[*********************100%***********************]  1 of 1 completed\n",
      "[*********************100%***********************]  1 of 1 completed"
     ]
    },
    {
     "name": "stdout",
     "output_type": "stream",
     "text": [
      "Data for American International Group (AIG) saved to data/US-500\\American International Group_AIG_2020_2024.csv\n",
      "Data for American Tower (AMT) saved to data/US-500\\American Tower_AMT_2020_2024.csv\n"
     ]
    },
    {
     "name": "stderr",
     "output_type": "stream",
     "text": [
      "\n",
      "[*********************100%***********************]  1 of 1 completed\n",
      "[*********************100%***********************]  1 of 1 completed"
     ]
    },
    {
     "name": "stdout",
     "output_type": "stream",
     "text": [
      "Data for American Water Works (AWK) saved to data/US-500\\American Water Works_AWK_2020_2024.csv\n",
      "Data for Ameriprise Financial (AMP) saved to data/US-500\\Ameriprise Financial_AMP_2020_2024.csv\n"
     ]
    },
    {
     "name": "stderr",
     "output_type": "stream",
     "text": [
      "\n",
      "[*********************100%***********************]  1 of 1 completed\n"
     ]
    },
    {
     "name": "stdout",
     "output_type": "stream",
     "text": [
      "Data for Ametek (AME) saved to data/US-500\\Ametek_AME_2020_2024.csv\n"
     ]
    },
    {
     "name": "stderr",
     "output_type": "stream",
     "text": [
      "[*********************100%***********************]  1 of 1 completed\n"
     ]
    },
    {
     "name": "stdout",
     "output_type": "stream",
     "text": [
      "Data for Amgen (AMGN) saved to data/US-500\\Amgen_AMGN_2020_2024.csv\n"
     ]
    },
    {
     "name": "stderr",
     "output_type": "stream",
     "text": [
      "[*********************100%***********************]  1 of 1 completed\n"
     ]
    },
    {
     "name": "stdout",
     "output_type": "stream",
     "text": [
      "Data for Amphenol (APH) saved to data/US-500\\Amphenol_APH_2020_2024.csv\n"
     ]
    },
    {
     "name": "stderr",
     "output_type": "stream",
     "text": [
      "[*********************100%***********************]  1 of 1 completed\n",
      "[*********************100%***********************]  1 of 1 completed"
     ]
    },
    {
     "name": "stdout",
     "output_type": "stream",
     "text": [
      "Data for Analog Devices (ADI) saved to data/US-500\\Analog Devices_ADI_2020_2024.csv\n"
     ]
    },
    {
     "name": "stderr",
     "output_type": "stream",
     "text": [
      "\n"
     ]
    },
    {
     "name": "stdout",
     "output_type": "stream",
     "text": [
      "Data for Ansys (ANSS) saved to data/US-500\\Ansys_ANSS_2020_2024.csv\n"
     ]
    },
    {
     "name": "stderr",
     "output_type": "stream",
     "text": [
      "[*********************100%***********************]  1 of 1 completed\n"
     ]
    },
    {
     "name": "stdout",
     "output_type": "stream",
     "text": [
      "Data for Aon (AON) saved to data/US-500\\Aon_AON_2020_2024.csv\n"
     ]
    },
    {
     "name": "stderr",
     "output_type": "stream",
     "text": [
      "[*********************100%***********************]  1 of 1 completed\n"
     ]
    },
    {
     "name": "stdout",
     "output_type": "stream",
     "text": [
      "Data for APA Corporation (APA) saved to data/US-500\\APA Corporation_APA_2020_2024.csv\n"
     ]
    },
    {
     "name": "stderr",
     "output_type": "stream",
     "text": [
      "[*********************100%***********************]  1 of 1 completed\n"
     ]
    },
    {
     "name": "stdout",
     "output_type": "stream",
     "text": [
      "Data for Apple Inc. (AAPL) saved to data/US-500\\Apple Inc._AAPL_2020_2024.csv\n"
     ]
    },
    {
     "name": "stderr",
     "output_type": "stream",
     "text": [
      "[*********************100%***********************]  1 of 1 completed\n"
     ]
    },
    {
     "name": "stdout",
     "output_type": "stream",
     "text": [
      "Data for Applied Materials (AMAT) saved to data/US-500\\Applied Materials_AMAT_2020_2024.csv\n"
     ]
    },
    {
     "name": "stderr",
     "output_type": "stream",
     "text": [
      "[*********************100%***********************]  1 of 1 completed\n",
      "[*********************100%***********************]  1 of 1 completed"
     ]
    },
    {
     "name": "stdout",
     "output_type": "stream",
     "text": [
      "Data for Aptiv (APTV) saved to data/US-500\\Aptiv_APTV_2020_2024.csv\n",
      "Data for Arch Capital Group (ACGL) saved to data/US-500\\Arch Capital Group_ACGL_2020_2024.csv\n"
     ]
    },
    {
     "name": "stderr",
     "output_type": "stream",
     "text": [
      "\n",
      "[*********************100%***********************]  1 of 1 completed\n",
      "[*********************100%***********************]  1 of 1 completed"
     ]
    },
    {
     "name": "stdout",
     "output_type": "stream",
     "text": [
      "Data for Archer Daniels Midland (ADM) saved to data/US-500\\Archer Daniels Midland_ADM_2020_2024.csv\n"
     ]
    },
    {
     "name": "stderr",
     "output_type": "stream",
     "text": [
      "\n"
     ]
    },
    {
     "name": "stdout",
     "output_type": "stream",
     "text": [
      "Data for Arista Networks (ANET) saved to data/US-500\\Arista Networks_ANET_2020_2024.csv\n"
     ]
    },
    {
     "name": "stderr",
     "output_type": "stream",
     "text": [
      "[*********************100%***********************]  1 of 1 completed\n"
     ]
    },
    {
     "name": "stdout",
     "output_type": "stream",
     "text": [
      "Data for Arthur J. Gallagher & Co. (AJG) saved to data/US-500\\Arthur J. Gallagher & Co._AJG_2020_2024.csv\n"
     ]
    },
    {
     "name": "stderr",
     "output_type": "stream",
     "text": [
      "[*********************100%***********************]  1 of 1 completed\n"
     ]
    },
    {
     "name": "stdout",
     "output_type": "stream",
     "text": [
      "Data for Assurant (AIZ) saved to data/US-500\\Assurant_AIZ_2020_2024.csv\n"
     ]
    },
    {
     "name": "stderr",
     "output_type": "stream",
     "text": [
      "[*********************100%***********************]  1 of 1 completed\n",
      "[*********************100%***********************]  1 of 1 completed"
     ]
    },
    {
     "name": "stdout",
     "output_type": "stream",
     "text": [
      "Data for AT&T (T) saved to data/US-500\\AT&T_T_2020_2024.csv\n"
     ]
    },
    {
     "name": "stderr",
     "output_type": "stream",
     "text": [
      "\n",
      "[*********************100%***********************]  1 of 1 completed"
     ]
    },
    {
     "name": "stdout",
     "output_type": "stream",
     "text": [
      "Data for Atmos Energy (ATO) saved to data/US-500\\Atmos Energy_ATO_2020_2024.csv\n",
      "Data for Autodesk (ADSK) saved to data/US-500\\Autodesk_ADSK_2020_2024.csv\n"
     ]
    },
    {
     "name": "stderr",
     "output_type": "stream",
     "text": [
      "\n",
      "[*********************100%***********************]  1 of 1 completed\n",
      "[*********************100%***********************]  1 of 1 completed\n"
     ]
    },
    {
     "name": "stdout",
     "output_type": "stream",
     "text": [
      "Data for Automatic Data Processing (ADP) saved to data/US-500\\Automatic Data Processing_ADP_2020_2024.csv\n",
      "Data for AutoZone (AZO) saved to data/US-500\\AutoZone_AZO_2020_2024.csv\n"
     ]
    },
    {
     "name": "stderr",
     "output_type": "stream",
     "text": [
      "[*********************100%***********************]  1 of 1 completed\n"
     ]
    },
    {
     "name": "stdout",
     "output_type": "stream",
     "text": [
      "Data for AvalonBay Communities (AVB) saved to data/US-500\\AvalonBay Communities_AVB_2020_2024.csv\n"
     ]
    },
    {
     "name": "stderr",
     "output_type": "stream",
     "text": [
      "[*********************100%***********************]  1 of 1 completed\n",
      "[*********************100%***********************]  1 of 1 completed"
     ]
    },
    {
     "name": "stdout",
     "output_type": "stream",
     "text": [
      "Data for Avery Dennison (AVY) saved to data/US-500\\Avery Dennison_AVY_2020_2024.csv\n",
      "Data for Axon Enterprise (AXON) saved to data/US-500\\Axon Enterprise_AXON_2020_2024.csv\n"
     ]
    },
    {
     "name": "stderr",
     "output_type": "stream",
     "text": [
      "\n",
      "[*********************100%***********************]  1 of 1 completed\n",
      "[*********************100%***********************]  1 of 1 completed"
     ]
    },
    {
     "name": "stdout",
     "output_type": "stream",
     "text": [
      "Data for Baker Hughes (BKR) saved to data/US-500\\Baker Hughes_BKR_2020_2024.csv\n"
     ]
    },
    {
     "name": "stderr",
     "output_type": "stream",
     "text": [
      "\n"
     ]
    },
    {
     "name": "stdout",
     "output_type": "stream",
     "text": [
      "Data for Ball Corporation (BALL) saved to data/US-500\\Ball Corporation_BALL_2020_2024.csv\n"
     ]
    },
    {
     "name": "stderr",
     "output_type": "stream",
     "text": [
      "[*********************100%***********************]  1 of 1 completed\n",
      "[*********************100%***********************]  1 of 1 completed"
     ]
    },
    {
     "name": "stdout",
     "output_type": "stream",
     "text": [
      "Data for Bank of America (BAC) saved to data/US-500\\Bank of America_BAC_2020_2024.csv\n"
     ]
    },
    {
     "name": "stderr",
     "output_type": "stream",
     "text": [
      "\n"
     ]
    },
    {
     "name": "stdout",
     "output_type": "stream",
     "text": [
      "Data for Baxter International (BAX) saved to data/US-500\\Baxter International_BAX_2020_2024.csv\n"
     ]
    },
    {
     "name": "stderr",
     "output_type": "stream",
     "text": [
      "[*********************100%***********************]  1 of 1 completed\n"
     ]
    },
    {
     "name": "stdout",
     "output_type": "stream",
     "text": [
      "Data for Becton Dickinson (BDX) saved to data/US-500\\Becton Dickinson_BDX_2020_2024.csv\n"
     ]
    },
    {
     "name": "stderr",
     "output_type": "stream",
     "text": [
      "[*********************100%***********************]  1 of 1 completed\n",
      "\n",
      "1 Failed download:\n",
      "['BRK.B']: YFTzMissingError('$%ticker%: possibly delisted; no timezone found')\n",
      "[*********************100%***********************]  1 of 1 completed\n"
     ]
    },
    {
     "name": "stdout",
     "output_type": "stream",
     "text": [
      "Data for Berkshire Hathaway (BRK.B) saved to data/US-500\\Berkshire Hathaway_BRK.B_2020_2024.csv\n",
      "Data for Best Buy (BBY) saved to data/US-500\\Best Buy_BBY_2020_2024.csv\n"
     ]
    },
    {
     "name": "stderr",
     "output_type": "stream",
     "text": [
      "[*********************100%***********************]  1 of 1 completed\n",
      "[*********************100%***********************]  1 of 1 completed\n"
     ]
    },
    {
     "name": "stdout",
     "output_type": "stream",
     "text": [
      "Data for Bio-Techne (TECH) saved to data/US-500\\Bio-Techne_TECH_2020_2024.csv\n",
      "Data for Biogen (BIIB) saved to data/US-500\\Biogen_BIIB_2020_2024.csv\n"
     ]
    },
    {
     "name": "stderr",
     "output_type": "stream",
     "text": [
      "[*********************100%***********************]  1 of 1 completed\n",
      "[*********************100%***********************]  1 of 1 completed\n"
     ]
    },
    {
     "name": "stdout",
     "output_type": "stream",
     "text": [
      "Data for BlackRock (BLK) saved to data/US-500\\BlackRock_BLK_2020_2024.csv\n",
      "Data for Blackstone Inc. (BX) saved to data/US-500\\Blackstone Inc._BX_2020_2024.csv\n"
     ]
    },
    {
     "name": "stderr",
     "output_type": "stream",
     "text": [
      "[*********************100%***********************]  1 of 1 completed\n",
      "[*********************100%***********************]  1 of 1 completed\n"
     ]
    },
    {
     "name": "stdout",
     "output_type": "stream",
     "text": [
      "Data for BNY Mellon (BK) saved to data/US-500\\BNY Mellon_BK_2020_2024.csv\n",
      "Data for Boeing (BA) saved to data/US-500\\Boeing_BA_2020_2024.csv\n"
     ]
    },
    {
     "name": "stderr",
     "output_type": "stream",
     "text": [
      "[*********************100%***********************]  1 of 1 completed\n",
      "[*********************100%***********************]  1 of 1 completed\n"
     ]
    },
    {
     "name": "stdout",
     "output_type": "stream",
     "text": [
      "Data for Booking Holdings (BKNG) saved to data/US-500\\Booking Holdings_BKNG_2020_2024.csv\n",
      "Data for BorgWarner (BWA) saved to data/US-500\\BorgWarner_BWA_2020_2024.csv\n"
     ]
    },
    {
     "name": "stderr",
     "output_type": "stream",
     "text": [
      "[*********************100%***********************]  1 of 1 completed\n",
      "[*********************100%***********************]  1 of 1 completed"
     ]
    },
    {
     "name": "stdout",
     "output_type": "stream",
     "text": [
      "Data for Boston Scientific (BSX) saved to data/US-500\\Boston Scientific_BSX_2020_2024.csv\n",
      "Data for Bristol Myers Squibb (BMY) saved to data/US-500\\Bristol Myers Squibb_BMY_2020_2024.csv\n"
     ]
    },
    {
     "name": "stderr",
     "output_type": "stream",
     "text": [
      "\n",
      "[*********************100%***********************]  1 of 1 completed\n",
      "[*********************100%***********************]  1 of 1 completed\n"
     ]
    },
    {
     "name": "stdout",
     "output_type": "stream",
     "text": [
      "Data for Broadcom (AVGO) saved to data/US-500\\Broadcom_AVGO_2020_2024.csv\n",
      "Data for Broadridge Financial Solutions (BR) saved to data/US-500\\Broadridge Financial Solutions_BR_2020_2024.csv\n"
     ]
    },
    {
     "name": "stderr",
     "output_type": "stream",
     "text": [
      "[*********************100%***********************]  1 of 1 completed\n",
      "[*********************100%***********************]  1 of 1 completed\n",
      "\n",
      "1 Failed download:\n",
      "['BF.B']: YFPricesMissingError('$%ticker%: possibly delisted; no price data found  (1d 2020-01-01 -> 2024-11-12)')\n"
     ]
    },
    {
     "name": "stdout",
     "output_type": "stream",
     "text": [
      "Data for Brown & Brown (BRO) saved to data/US-500\\Brown & Brown_BRO_2020_2024.csv\n",
      "Data for Brown–Forman (BF.B) saved to data/US-500\\Brown–Forman_BF.B_2020_2024.csv\n"
     ]
    },
    {
     "name": "stderr",
     "output_type": "stream",
     "text": [
      "[*********************100%***********************]  1 of 1 completed\n",
      "[*********************100%***********************]  1 of 1 completed"
     ]
    },
    {
     "name": "stdout",
     "output_type": "stream",
     "text": [
      "Data for Builders FirstSource (BLDR) saved to data/US-500\\Builders FirstSource_BLDR_2020_2024.csv\n",
      "Data for Bunge Global (BG) saved to data/US-500\\Bunge Global_BG_2020_2024.csv\n"
     ]
    },
    {
     "name": "stderr",
     "output_type": "stream",
     "text": [
      "\n",
      "[*********************100%***********************]  1 of 1 completed\n",
      "[*********************100%***********************]  1 of 1 completed"
     ]
    },
    {
     "name": "stdout",
     "output_type": "stream",
     "text": [
      "Data for BXP, Inc. (BXP) saved to data/US-500\\BXP, Inc._BXP_2020_2024.csv\n",
      "Data for C.H. Robinson (CHRW) saved to data/US-500\\C.H. Robinson_CHRW_2020_2024.csv\n"
     ]
    },
    {
     "name": "stderr",
     "output_type": "stream",
     "text": [
      "\n",
      "[*********************100%***********************]  1 of 1 completed\n",
      "[*********************100%***********************]  1 of 1 completed\n"
     ]
    },
    {
     "name": "stdout",
     "output_type": "stream",
     "text": [
      "Data for Cadence Design Systems (CDNS) saved to data/US-500\\Cadence Design Systems_CDNS_2020_2024.csv\n",
      "Data for Caesars Entertainment (CZR) saved to data/US-500\\Caesars Entertainment_CZR_2020_2024.csv\n"
     ]
    },
    {
     "name": "stderr",
     "output_type": "stream",
     "text": [
      "[*********************100%***********************]  1 of 1 completed\n",
      "[*********************100%***********************]  1 of 1 completed"
     ]
    },
    {
     "name": "stdout",
     "output_type": "stream",
     "text": [
      "Data for Camden Property Trust (CPT) saved to data/US-500\\Camden Property Trust_CPT_2020_2024.csv\n",
      "Data for Campbell Soup Company (CPB) saved to data/US-500\\Campbell Soup Company_CPB_2020_2024.csv\n"
     ]
    },
    {
     "name": "stderr",
     "output_type": "stream",
     "text": [
      "\n",
      "[*********************100%***********************]  1 of 1 completed\n",
      "[*********************100%***********************]  1 of 1 completed\n"
     ]
    },
    {
     "name": "stdout",
     "output_type": "stream",
     "text": [
      "Data for Capital One (COF) saved to data/US-500\\Capital One_COF_2020_2024.csv\n",
      "Data for Cardinal Health (CAH) saved to data/US-500\\Cardinal Health_CAH_2020_2024.csv\n"
     ]
    },
    {
     "name": "stderr",
     "output_type": "stream",
     "text": [
      "[*********************100%***********************]  1 of 1 completed\n",
      "[*********************100%***********************]  1 of 1 completed"
     ]
    },
    {
     "name": "stdout",
     "output_type": "stream",
     "text": [
      "Data for CarMax (KMX) saved to data/US-500\\CarMax_KMX_2020_2024.csv\n",
      "Data for Carnival (CCL) saved to data/US-500\\Carnival_CCL_2020_2024.csv\n"
     ]
    },
    {
     "name": "stderr",
     "output_type": "stream",
     "text": [
      "\n",
      "[*********************100%***********************]  1 of 1 completed\n",
      "[*********************100%***********************]  1 of 1 completed\n"
     ]
    },
    {
     "name": "stdout",
     "output_type": "stream",
     "text": [
      "Data for Carrier Global (CARR) saved to data/US-500\\Carrier Global_CARR_2020_2024.csv\n",
      "Data for Catalent (CTLT) saved to data/US-500\\Catalent_CTLT_2020_2024.csv\n"
     ]
    },
    {
     "name": "stderr",
     "output_type": "stream",
     "text": [
      "[*********************100%***********************]  1 of 1 completed\n",
      "[*********************100%***********************]  1 of 1 completed\n"
     ]
    },
    {
     "name": "stdout",
     "output_type": "stream",
     "text": [
      "Data for Caterpillar Inc. (CAT) saved to data/US-500\\Caterpillar Inc._CAT_2020_2024.csv\n",
      "Data for Cboe Global Markets (CBOE) saved to data/US-500\\Cboe Global Markets_CBOE_2020_2024.csv\n"
     ]
    },
    {
     "name": "stderr",
     "output_type": "stream",
     "text": [
      "[*********************100%***********************]  1 of 1 completed\n",
      "[*********************100%***********************]  1 of 1 completed\n"
     ]
    },
    {
     "name": "stdout",
     "output_type": "stream",
     "text": [
      "Data for CBRE Group (CBRE) saved to data/US-500\\CBRE Group_CBRE_2020_2024.csv\n",
      "Data for CDW (CDW) saved to data/US-500\\CDW_CDW_2020_2024.csv\n"
     ]
    },
    {
     "name": "stderr",
     "output_type": "stream",
     "text": [
      "[*********************100%***********************]  1 of 1 completed\n",
      "[*********************100%***********************]  1 of 1 completed"
     ]
    },
    {
     "name": "stdout",
     "output_type": "stream",
     "text": [
      "Data for Celanese (CE) saved to data/US-500\\Celanese_CE_2020_2024.csv\n",
      "Data for Cencora (COR) saved to data/US-500\\Cencora_COR_2020_2024.csv\n"
     ]
    },
    {
     "name": "stderr",
     "output_type": "stream",
     "text": [
      "\n",
      "[*********************100%***********************]  1 of 1 completed\n"
     ]
    },
    {
     "name": "stdout",
     "output_type": "stream",
     "text": [
      "Data for Centene Corporation (CNC) saved to data/US-500\\Centene Corporation_CNC_2020_2024.csv\n"
     ]
    },
    {
     "name": "stderr",
     "output_type": "stream",
     "text": [
      "[*********************100%***********************]  1 of 1 completed\n",
      "[*********************100%***********************]  1 of 1 completed\n"
     ]
    },
    {
     "name": "stdout",
     "output_type": "stream",
     "text": [
      "Data for CenterPoint Energy (CNP) saved to data/US-500\\CenterPoint Energy_CNP_2020_2024.csv\n",
      "Data for CF Industries (CF) saved to data/US-500\\CF Industries_CF_2020_2024.csv\n"
     ]
    },
    {
     "name": "stderr",
     "output_type": "stream",
     "text": [
      "[*********************100%***********************]  1 of 1 completed\n",
      "[*********************100%***********************]  1 of 1 completed\n"
     ]
    },
    {
     "name": "stdout",
     "output_type": "stream",
     "text": [
      "Data for Charles River Laboratories (CRL) saved to data/US-500\\Charles River Laboratories_CRL_2020_2024.csv\n",
      "Data for Charles Schwab Corporation (SCHW) saved to data/US-500\\Charles Schwab Corporation_SCHW_2020_2024.csv\n"
     ]
    },
    {
     "name": "stderr",
     "output_type": "stream",
     "text": [
      "[*********************100%***********************]  1 of 1 completed\n",
      "[*********************100%***********************]  1 of 1 completed\n"
     ]
    },
    {
     "name": "stdout",
     "output_type": "stream",
     "text": [
      "Data for Charter Communications (CHTR) saved to data/US-500\\Charter Communications_CHTR_2020_2024.csv\n",
      "Data for Chevron Corporation (CVX) saved to data/US-500\\Chevron Corporation_CVX_2020_2024.csv\n"
     ]
    },
    {
     "name": "stderr",
     "output_type": "stream",
     "text": [
      "[*********************100%***********************]  1 of 1 completed\n",
      "[*********************100%***********************]  1 of 1 completed\n"
     ]
    },
    {
     "name": "stdout",
     "output_type": "stream",
     "text": [
      "Data for Chipotle Mexican Grill (CMG) saved to data/US-500\\Chipotle Mexican Grill_CMG_2020_2024.csv\n",
      "Data for Chubb Limited (CB) saved to data/US-500\\Chubb Limited_CB_2020_2024.csv\n"
     ]
    },
    {
     "name": "stderr",
     "output_type": "stream",
     "text": [
      "[*********************100%***********************]  1 of 1 completed\n",
      "[*********************100%***********************]  1 of 1 completed\n"
     ]
    },
    {
     "name": "stdout",
     "output_type": "stream",
     "text": [
      "Data for Church & Dwight (CHD) saved to data/US-500\\Church & Dwight_CHD_2020_2024.csv\n",
      "Data for Cigna (CI) saved to data/US-500\\Cigna_CI_2020_2024.csv\n"
     ]
    },
    {
     "name": "stderr",
     "output_type": "stream",
     "text": [
      "[*********************100%***********************]  1 of 1 completed\n",
      "[*********************100%***********************]  1 of 1 completed\n"
     ]
    },
    {
     "name": "stdout",
     "output_type": "stream",
     "text": [
      "Data for Cincinnati Financial (CINF) saved to data/US-500\\Cincinnati Financial_CINF_2020_2024.csv\n",
      "Data for Cintas (CTAS) saved to data/US-500\\Cintas_CTAS_2020_2024.csv\n"
     ]
    },
    {
     "name": "stderr",
     "output_type": "stream",
     "text": [
      "[*********************100%***********************]  1 of 1 completed\n",
      "[*********************100%***********************]  1 of 1 completed"
     ]
    },
    {
     "name": "stdout",
     "output_type": "stream",
     "text": [
      "Data for Cisco (CSCO) saved to data/US-500\\Cisco_CSCO_2020_2024.csv\n",
      "Data for Citigroup (C) saved to data/US-500\\Citigroup_C_2020_2024.csv\n"
     ]
    },
    {
     "name": "stderr",
     "output_type": "stream",
     "text": [
      "\n",
      "[*********************100%***********************]  1 of 1 completed\n",
      "[*********************100%***********************]  1 of 1 completed\n"
     ]
    },
    {
     "name": "stdout",
     "output_type": "stream",
     "text": [
      "Data for Citizens Financial Group (CFG) saved to data/US-500\\Citizens Financial Group_CFG_2020_2024.csv\n",
      "Data for Clorox (CLX) saved to data/US-500\\Clorox_CLX_2020_2024.csv\n"
     ]
    },
    {
     "name": "stderr",
     "output_type": "stream",
     "text": [
      "[*********************100%***********************]  1 of 1 completed\n",
      "[*********************100%***********************]  1 of 1 completed"
     ]
    },
    {
     "name": "stdout",
     "output_type": "stream",
     "text": [
      "Data for CME Group (CME) saved to data/US-500\\CME Group_CME_2020_2024.csv\n",
      "Data for CMS Energy (CMS) saved to data/US-500\\CMS Energy_CMS_2020_2024.csv\n"
     ]
    },
    {
     "name": "stderr",
     "output_type": "stream",
     "text": [
      "\n",
      "[*********************100%***********************]  1 of 1 completed\n",
      "[*********************100%***********************]  1 of 1 completed\n"
     ]
    },
    {
     "name": "stdout",
     "output_type": "stream",
     "text": [
      "Data for Coca-Cola Company (The) (KO) saved to data/US-500\\Coca-Cola Company (The)_KO_2020_2024.csv\n",
      "Data for Cognizant (CTSH) saved to data/US-500\\Cognizant_CTSH_2020_2024.csv\n"
     ]
    },
    {
     "name": "stderr",
     "output_type": "stream",
     "text": [
      "[*********************100%***********************]  1 of 1 completed\n",
      "[*********************100%***********************]  1 of 1 completed\n"
     ]
    },
    {
     "name": "stdout",
     "output_type": "stream",
     "text": [
      "Data for Colgate-Palmolive (CL) saved to data/US-500\\Colgate-Palmolive_CL_2020_2024.csv\n",
      "Data for Comcast (CMCSA) saved to data/US-500\\Comcast_CMCSA_2020_2024.csv\n"
     ]
    },
    {
     "name": "stderr",
     "output_type": "stream",
     "text": [
      "[*********************100%***********************]  1 of 1 completed\n",
      "[*********************100%***********************]  1 of 1 completed"
     ]
    },
    {
     "name": "stdout",
     "output_type": "stream",
     "text": [
      "Data for Conagra Brands (CAG) saved to data/US-500\\Conagra Brands_CAG_2020_2024.csv\n"
     ]
    },
    {
     "name": "stderr",
     "output_type": "stream",
     "text": [
      "\n",
      "[*********************100%***********************]  1 of 1 completed"
     ]
    },
    {
     "name": "stdout",
     "output_type": "stream",
     "text": [
      "Data for ConocoPhillips (COP) saved to data/US-500\\ConocoPhillips_COP_2020_2024.csv\n",
      "Data for Consolidated Edison (ED) saved to data/US-500\\Consolidated Edison_ED_2020_2024.csv\n"
     ]
    },
    {
     "name": "stderr",
     "output_type": "stream",
     "text": [
      "\n",
      "[*********************100%***********************]  1 of 1 completed\n",
      "[*********************100%***********************]  1 of 1 completed\n"
     ]
    },
    {
     "name": "stdout",
     "output_type": "stream",
     "text": [
      "Data for Constellation Brands (STZ) saved to data/US-500\\Constellation Brands_STZ_2020_2024.csv\n",
      "Data for Constellation Energy (CEG) saved to data/US-500\\Constellation Energy_CEG_2020_2024.csv\n"
     ]
    },
    {
     "name": "stderr",
     "output_type": "stream",
     "text": [
      "[*********************100%***********************]  1 of 1 completed\n",
      "[*********************100%***********************]  1 of 1 completed\n"
     ]
    },
    {
     "name": "stdout",
     "output_type": "stream",
     "text": [
      "Data for Cooper Companies (The) (COO) saved to data/US-500\\Cooper Companies (The)_COO_2020_2024.csv\n",
      "Data for Copart (CPRT) saved to data/US-500\\Copart_CPRT_2020_2024.csv\n"
     ]
    },
    {
     "name": "stderr",
     "output_type": "stream",
     "text": [
      "[*********************100%***********************]  1 of 1 completed\n",
      "[*********************100%***********************]  1 of 1 completed\n"
     ]
    },
    {
     "name": "stdout",
     "output_type": "stream",
     "text": [
      "Data for Corning Inc. (GLW) saved to data/US-500\\Corning Inc._GLW_2020_2024.csv\n",
      "Data for Corpay (CPAY) saved to data/US-500\\Corpay_CPAY_2020_2024.csv\n"
     ]
    },
    {
     "name": "stderr",
     "output_type": "stream",
     "text": [
      "[*********************100%***********************]  1 of 1 completed\n",
      "[*********************100%***********************]  1 of 1 completed\n"
     ]
    },
    {
     "name": "stdout",
     "output_type": "stream",
     "text": [
      "Data for Corteva (CTVA) saved to data/US-500\\Corteva_CTVA_2020_2024.csv\n",
      "Data for CoStar Group (CSGP) saved to data/US-500\\CoStar Group_CSGP_2020_2024.csv\n"
     ]
    },
    {
     "name": "stderr",
     "output_type": "stream",
     "text": [
      "[*********************100%***********************]  1 of 1 completed\n",
      "[*********************100%***********************]  1 of 1 completed\n"
     ]
    },
    {
     "name": "stdout",
     "output_type": "stream",
     "text": [
      "Data for Costco (COST) saved to data/US-500\\Costco_COST_2020_2024.csv\n",
      "Data for Coterra (CTRA) saved to data/US-500\\Coterra_CTRA_2020_2024.csv\n"
     ]
    },
    {
     "name": "stderr",
     "output_type": "stream",
     "text": [
      "[*********************100%***********************]  1 of 1 completed\n",
      "[*********************100%***********************]  1 of 1 completed\n"
     ]
    },
    {
     "name": "stdout",
     "output_type": "stream",
     "text": [
      "Data for CrowdStrike (CRWD) saved to data/US-500\\CrowdStrike_CRWD_2020_2024.csv\n",
      "Data for Crown Castle (CCI) saved to data/US-500\\Crown Castle_CCI_2020_2024.csv\n"
     ]
    },
    {
     "name": "stderr",
     "output_type": "stream",
     "text": [
      "[*********************100%***********************]  1 of 1 completed\n",
      "[*********************100%***********************]  1 of 1 completed\n"
     ]
    },
    {
     "name": "stdout",
     "output_type": "stream",
     "text": [
      "Data for CSX Corporation (CSX) saved to data/US-500\\CSX Corporation_CSX_2020_2024.csv\n",
      "Data for Cummins (CMI) saved to data/US-500\\Cummins_CMI_2020_2024.csv\n"
     ]
    },
    {
     "name": "stderr",
     "output_type": "stream",
     "text": [
      "[*********************100%***********************]  1 of 1 completed\n",
      "[*********************100%***********************]  1 of 1 completed\n"
     ]
    },
    {
     "name": "stdout",
     "output_type": "stream",
     "text": [
      "Data for CVS Health (CVS) saved to data/US-500\\CVS Health_CVS_2020_2024.csv\n",
      "Data for Danaher Corporation (DHR) saved to data/US-500\\Danaher Corporation_DHR_2020_2024.csv\n"
     ]
    },
    {
     "name": "stderr",
     "output_type": "stream",
     "text": [
      "[*********************100%***********************]  1 of 1 completed\n",
      "[*********************100%***********************]  1 of 1 completed\n",
      "[*********************100%***********************]  1 of 1 completed"
     ]
    },
    {
     "name": "stdout",
     "output_type": "stream",
     "text": [
      "Data for Darden Restaurants (DRI) saved to data/US-500\\Darden Restaurants_DRI_2020_2024.csv\n",
      "Data for DaVita (DVA) saved to data/US-500\\DaVita_DVA_2020_2024.csv\n"
     ]
    },
    {
     "name": "stderr",
     "output_type": "stream",
     "text": [
      "\n",
      "[*********************100%***********************]  1 of 1 completed\n"
     ]
    },
    {
     "name": "stdout",
     "output_type": "stream",
     "text": [
      "Data for Dayforce (DAY) saved to data/US-500\\Dayforce_DAY_2020_2024.csv\n",
      "Data for Deckers Brands (DECK) saved to data/US-500\\Deckers Brands_DECK_2020_2024.csv\n"
     ]
    },
    {
     "name": "stderr",
     "output_type": "stream",
     "text": [
      "[*********************100%***********************]  1 of 1 completed\n",
      "[*********************100%***********************]  1 of 1 completed"
     ]
    },
    {
     "name": "stdout",
     "output_type": "stream",
     "text": [
      "Data for Deere & Company (DE) saved to data/US-500\\Deere & Company_DE_2020_2024.csv\n",
      "Data for Dell Technologies (DELL) saved to data/US-500\\Dell Technologies_DELL_2020_2024.csv\n"
     ]
    },
    {
     "name": "stderr",
     "output_type": "stream",
     "text": [
      "\n",
      "[*********************100%***********************]  1 of 1 completed\n",
      "[*********************100%***********************]  1 of 1 completed\n"
     ]
    },
    {
     "name": "stdout",
     "output_type": "stream",
     "text": [
      "Data for Delta Air Lines (DAL) saved to data/US-500\\Delta Air Lines_DAL_2020_2024.csv\n",
      "Data for Devon Energy (DVN) saved to data/US-500\\Devon Energy_DVN_2020_2024.csv\n"
     ]
    },
    {
     "name": "stderr",
     "output_type": "stream",
     "text": [
      "[*********************100%***********************]  1 of 1 completed\n",
      "[*********************100%***********************]  1 of 1 completed\n"
     ]
    },
    {
     "name": "stdout",
     "output_type": "stream",
     "text": [
      "Data for Dexcom (DXCM) saved to data/US-500\\Dexcom_DXCM_2020_2024.csv\n",
      "Data for Diamondback Energy (FANG) saved to data/US-500\\Diamondback Energy_FANG_2020_2024.csv\n"
     ]
    },
    {
     "name": "stderr",
     "output_type": "stream",
     "text": [
      "[*********************100%***********************]  1 of 1 completed\n",
      "[*********************100%***********************]  1 of 1 completed\n"
     ]
    },
    {
     "name": "stdout",
     "output_type": "stream",
     "text": [
      "Data for Digital Realty (DLR) saved to data/US-500\\Digital Realty_DLR_2020_2024.csv\n",
      "Data for Discover Financial (DFS) saved to data/US-500\\Discover Financial_DFS_2020_2024.csv\n"
     ]
    },
    {
     "name": "stderr",
     "output_type": "stream",
     "text": [
      "[*********************100%***********************]  1 of 1 completed\n",
      "[*********************100%***********************]  1 of 1 completed\n"
     ]
    },
    {
     "name": "stdout",
     "output_type": "stream",
     "text": [
      "Data for Dollar General (DG) saved to data/US-500\\Dollar General_DG_2020_2024.csv\n",
      "Data for Dollar Tree (DLTR) saved to data/US-500\\Dollar Tree_DLTR_2020_2024.csv\n"
     ]
    },
    {
     "name": "stderr",
     "output_type": "stream",
     "text": [
      "[*********************100%***********************]  1 of 1 completed\n",
      "[*********************100%***********************]  1 of 1 completed\n"
     ]
    },
    {
     "name": "stdout",
     "output_type": "stream",
     "text": [
      "Data for Dominion Energy (D) saved to data/US-500\\Dominion Energy_D_2020_2024.csv\n",
      "Data for Domino's (DPZ) saved to data/US-500\\Domino's_DPZ_2020_2024.csv\n"
     ]
    },
    {
     "name": "stderr",
     "output_type": "stream",
     "text": [
      "[*********************100%***********************]  1 of 1 completed\n",
      "[*********************100%***********************]  1 of 1 completed\n"
     ]
    },
    {
     "name": "stdout",
     "output_type": "stream",
     "text": [
      "Data for Dover Corporation (DOV) saved to data/US-500\\Dover Corporation_DOV_2020_2024.csv\n",
      "Data for Dow Inc. (DOW) saved to data/US-500\\Dow Inc._DOW_2020_2024.csv\n"
     ]
    },
    {
     "name": "stderr",
     "output_type": "stream",
     "text": [
      "[*********************100%***********************]  1 of 1 completed\n",
      "[*********************100%***********************]  1 of 1 completed\n"
     ]
    },
    {
     "name": "stdout",
     "output_type": "stream",
     "text": [
      "Data for D. R. Horton (DHI) saved to data/US-500\\D. R. Horton_DHI_2020_2024.csv\n",
      "Data for DTE Energy (DTE) saved to data/US-500\\DTE Energy_DTE_2020_2024.csv\n"
     ]
    },
    {
     "name": "stderr",
     "output_type": "stream",
     "text": [
      "[*********************100%***********************]  1 of 1 completed\n",
      "[*********************100%***********************]  1 of 1 completed"
     ]
    },
    {
     "name": "stdout",
     "output_type": "stream",
     "text": [
      "Data for Duke Energy (DUK) saved to data/US-500\\Duke Energy_DUK_2020_2024.csv\n",
      "Data for DuPont (DD) saved to data/US-500\\DuPont_DD_2020_2024.csv\n"
     ]
    },
    {
     "name": "stderr",
     "output_type": "stream",
     "text": [
      "\n",
      "[*********************100%***********************]  1 of 1 completed\n",
      "[*********************100%***********************]  1 of 1 completed"
     ]
    },
    {
     "name": "stdout",
     "output_type": "stream",
     "text": [
      "Data for Eastman Chemical Company (EMN) saved to data/US-500\\Eastman Chemical Company_EMN_2020_2024.csv\n",
      "Data for Eaton Corporation (ETN) saved to data/US-500\\Eaton Corporation_ETN_2020_2024.csv\n"
     ]
    },
    {
     "name": "stderr",
     "output_type": "stream",
     "text": [
      "\n",
      "[*********************100%***********************]  1 of 1 completed\n",
      "[*********************100%***********************]  1 of 1 completed\n"
     ]
    },
    {
     "name": "stdout",
     "output_type": "stream",
     "text": [
      "Data for eBay (EBAY) saved to data/US-500\\eBay_EBAY_2020_2024.csv\n",
      "Data for Ecolab (ECL) saved to data/US-500\\Ecolab_ECL_2020_2024.csv\n"
     ]
    },
    {
     "name": "stderr",
     "output_type": "stream",
     "text": [
      "[*********************100%***********************]  1 of 1 completed\n",
      "[*********************100%***********************]  1 of 1 completed\n"
     ]
    },
    {
     "name": "stdout",
     "output_type": "stream",
     "text": [
      "Data for Edison International (EIX) saved to data/US-500\\Edison International_EIX_2020_2024.csv\n",
      "Data for Edwards Lifesciences (EW) saved to data/US-500\\Edwards Lifesciences_EW_2020_2024.csv\n"
     ]
    },
    {
     "name": "stderr",
     "output_type": "stream",
     "text": [
      "[*********************100%***********************]  1 of 1 completed\n",
      "[*********************100%***********************]  1 of 1 completed"
     ]
    },
    {
     "name": "stdout",
     "output_type": "stream",
     "text": [
      "Data for Electronic Arts (EA) saved to data/US-500\\Electronic Arts_EA_2020_2024.csv\n",
      "Data for Elevance Health (ELV) saved to data/US-500\\Elevance Health_ELV_2020_2024.csv\n"
     ]
    },
    {
     "name": "stderr",
     "output_type": "stream",
     "text": [
      "\n",
      "[*********************100%***********************]  1 of 1 completed\n",
      "[*********************100%***********************]  1 of 1 completed\n"
     ]
    },
    {
     "name": "stdout",
     "output_type": "stream",
     "text": [
      "Data for Emerson Electric (EMR) saved to data/US-500\\Emerson Electric_EMR_2020_2024.csv\n",
      "Data for Enphase Energy (ENPH) saved to data/US-500\\Enphase Energy_ENPH_2020_2024.csv\n"
     ]
    },
    {
     "name": "stderr",
     "output_type": "stream",
     "text": [
      "[*********************100%***********************]  1 of 1 completed\n",
      "[*********************100%***********************]  1 of 1 completed\n"
     ]
    },
    {
     "name": "stdout",
     "output_type": "stream",
     "text": [
      "Data for Entergy (ETR) saved to data/US-500\\Entergy_ETR_2020_2024.csv\n",
      "Data for EOG Resources (EOG) saved to data/US-500\\EOG Resources_EOG_2020_2024.csv\n"
     ]
    },
    {
     "name": "stderr",
     "output_type": "stream",
     "text": [
      "[*********************100%***********************]  1 of 1 completed\n",
      "[*********************100%***********************]  1 of 1 completed"
     ]
    },
    {
     "name": "stdout",
     "output_type": "stream",
     "text": [
      "Data for EPAM Systems (EPAM) saved to data/US-500\\EPAM Systems_EPAM_2020_2024.csv\n",
      "Data for EQT Corporation (EQT) saved to data/US-500\\EQT Corporation_EQT_2020_2024.csv\n"
     ]
    },
    {
     "name": "stderr",
     "output_type": "stream",
     "text": [
      "\n",
      "[*********************100%***********************]  1 of 1 completed\n",
      "[*********************100%***********************]  1 of 1 completed\n"
     ]
    },
    {
     "name": "stdout",
     "output_type": "stream",
     "text": [
      "Data for Equifax (EFX) saved to data/US-500\\Equifax_EFX_2020_2024.csv\n",
      "Data for Equinix (EQIX) saved to data/US-500\\Equinix_EQIX_2020_2024.csv\n"
     ]
    },
    {
     "name": "stderr",
     "output_type": "stream",
     "text": [
      "[*********************100%***********************]  1 of 1 completed\n"
     ]
    },
    {
     "name": "stdout",
     "output_type": "stream",
     "text": [
      "Data for Equity Residential (EQR) saved to data/US-500\\Equity Residential_EQR_2020_2024.csv\n"
     ]
    },
    {
     "name": "stderr",
     "output_type": "stream",
     "text": [
      "[*********************100%***********************]  1 of 1 completed\n",
      "[*********************100%***********************]  1 of 1 completed"
     ]
    },
    {
     "name": "stdout",
     "output_type": "stream",
     "text": [
      "Data for Erie Indemnity (ERIE) saved to data/US-500\\Erie Indemnity_ERIE_2020_2024.csv\n",
      "Data for Essex Property Trust (ESS) saved to data/US-500\\Essex Property Trust_ESS_2020_2024.csv\n"
     ]
    },
    {
     "name": "stderr",
     "output_type": "stream",
     "text": [
      "\n",
      "[*********************100%***********************]  1 of 1 completed\n",
      "[*********************100%***********************]  1 of 1 completed"
     ]
    },
    {
     "name": "stdout",
     "output_type": "stream",
     "text": [
      "Data for Estée Lauder Companies (The) (EL) saved to data/US-500\\Estée Lauder Companies (The)_EL_2020_2024.csv\n",
      "Data for Everest Group (EG) saved to data/US-500\\Everest Group_EG_2020_2024.csv\n"
     ]
    },
    {
     "name": "stderr",
     "output_type": "stream",
     "text": [
      "\n",
      "[*********************100%***********************]  1 of 1 completed\n",
      "[*********************100%***********************]  1 of 1 completed"
     ]
    },
    {
     "name": "stdout",
     "output_type": "stream",
     "text": [
      "Data for Evergy (EVRG) saved to data/US-500\\Evergy_EVRG_2020_2024.csv\n",
      "Data for Eversource Energy (ES) saved to data/US-500\\Eversource Energy_ES_2020_2024.csv\n"
     ]
    },
    {
     "name": "stderr",
     "output_type": "stream",
     "text": [
      "\n",
      "[*********************100%***********************]  1 of 1 completed\n",
      "[*********************100%***********************]  1 of 1 completed"
     ]
    },
    {
     "name": "stdout",
     "output_type": "stream",
     "text": [
      "Data for Exelon (EXC) saved to data/US-500\\Exelon_EXC_2020_2024.csv\n",
      "Data for Expedia Group (EXPE) saved to data/US-500\\Expedia Group_EXPE_2020_2024.csv\n"
     ]
    },
    {
     "name": "stderr",
     "output_type": "stream",
     "text": [
      "\n",
      "[*********************100%***********************]  1 of 1 completed\n",
      "[*********************100%***********************]  1 of 1 completed\n"
     ]
    },
    {
     "name": "stdout",
     "output_type": "stream",
     "text": [
      "Data for Expeditors International (EXPD) saved to data/US-500\\Expeditors International_EXPD_2020_2024.csv\n",
      "Data for Extra Space Storage (EXR) saved to data/US-500\\Extra Space Storage_EXR_2020_2024.csv\n"
     ]
    },
    {
     "name": "stderr",
     "output_type": "stream",
     "text": [
      "[*********************100%***********************]  1 of 1 completed\n",
      "[*********************100%***********************]  1 of 1 completed\n"
     ]
    },
    {
     "name": "stdout",
     "output_type": "stream",
     "text": [
      "Data for ExxonMobil (XOM) saved to data/US-500\\ExxonMobil_XOM_2020_2024.csv\n",
      "Data for F5, Inc. (FFIV) saved to data/US-500\\F5, Inc._FFIV_2020_2024.csv\n"
     ]
    },
    {
     "name": "stderr",
     "output_type": "stream",
     "text": [
      "[*********************100%***********************]  1 of 1 completed\n",
      "[*********************100%***********************]  1 of 1 completed\n"
     ]
    },
    {
     "name": "stdout",
     "output_type": "stream",
     "text": [
      "Data for FactSet (FDS) saved to data/US-500\\FactSet_FDS_2020_2024.csv\n",
      "Data for Fair Isaac (FICO) saved to data/US-500\\Fair Isaac_FICO_2020_2024.csv\n"
     ]
    },
    {
     "name": "stderr",
     "output_type": "stream",
     "text": [
      "[*********************100%***********************]  1 of 1 completed\n",
      "[*********************100%***********************]  1 of 1 completed"
     ]
    },
    {
     "name": "stdout",
     "output_type": "stream",
     "text": [
      "Data for Fastenal (FAST) saved to data/US-500\\Fastenal_FAST_2020_2024.csv\n"
     ]
    },
    {
     "name": "stderr",
     "output_type": "stream",
     "text": [
      "\n",
      "[*********************100%***********************]  1 of 1 completed"
     ]
    },
    {
     "name": "stdout",
     "output_type": "stream",
     "text": [
      "Data for Federal Realty Investment Trust (FRT) saved to data/US-500\\Federal Realty Investment Trust_FRT_2020_2024.csv\n",
      "Data for FedEx (FDX) saved to data/US-500\\FedEx_FDX_2020_2024.csv\n"
     ]
    },
    {
     "name": "stderr",
     "output_type": "stream",
     "text": [
      "\n",
      "[*********************100%***********************]  1 of 1 completed\n"
     ]
    },
    {
     "name": "stdout",
     "output_type": "stream",
     "text": [
      "Data for Fidelity National Information Services (FIS) saved to data/US-500\\Fidelity National Information Services_FIS_2020_2024.csv\n"
     ]
    },
    {
     "name": "stderr",
     "output_type": "stream",
     "text": [
      "[*********************100%***********************]  1 of 1 completed\n",
      "[*********************100%***********************]  1 of 1 completed\n"
     ]
    },
    {
     "name": "stdout",
     "output_type": "stream",
     "text": [
      "Data for Fifth Third Bancorp (FITB) saved to data/US-500\\Fifth Third Bancorp_FITB_2020_2024.csv\n",
      "Data for First Solar (FSLR) saved to data/US-500\\First Solar_FSLR_2020_2024.csv\n"
     ]
    },
    {
     "name": "stderr",
     "output_type": "stream",
     "text": [
      "[*********************100%***********************]  1 of 1 completed\n",
      "[*********************100%***********************]  1 of 1 completed\n"
     ]
    },
    {
     "name": "stdout",
     "output_type": "stream",
     "text": [
      "Data for FirstEnergy (FE) saved to data/US-500\\FirstEnergy_FE_2020_2024.csv\n",
      "Data for Fiserv (FI) saved to data/US-500\\Fiserv_FI_2020_2024.csv\n"
     ]
    },
    {
     "name": "stderr",
     "output_type": "stream",
     "text": [
      "[*********************100%***********************]  1 of 1 completed\n",
      "[*********************100%***********************]  1 of 1 completed"
     ]
    },
    {
     "name": "stdout",
     "output_type": "stream",
     "text": [
      "Data for FMC Corporation (FMC) saved to data/US-500\\FMC Corporation_FMC_2020_2024.csv\n",
      "Data for Ford Motor Company (F) saved to data/US-500\\Ford Motor Company_F_2020_2024.csv\n"
     ]
    },
    {
     "name": "stderr",
     "output_type": "stream",
     "text": [
      "\n",
      "[*********************100%***********************]  1 of 1 completed\n",
      "[*********************100%***********************]  1 of 1 completed\n"
     ]
    },
    {
     "name": "stdout",
     "output_type": "stream",
     "text": [
      "Data for Fortinet (FTNT) saved to data/US-500\\Fortinet_FTNT_2020_2024.csv\n",
      "Data for Fortive (FTV) saved to data/US-500\\Fortive_FTV_2020_2024.csv\n"
     ]
    },
    {
     "name": "stderr",
     "output_type": "stream",
     "text": [
      "[*********************100%***********************]  1 of 1 completed\n",
      "[*********************100%***********************]  1 of 1 completed\n"
     ]
    },
    {
     "name": "stdout",
     "output_type": "stream",
     "text": [
      "Data for Fox Corporation (Class A) (FOXA) saved to data/US-500\\Fox Corporation (Class A)_FOXA_2020_2024.csv\n",
      "Data for Fox Corporation (Class B) (FOX) saved to data/US-500\\Fox Corporation (Class B)_FOX_2020_2024.csv\n"
     ]
    },
    {
     "name": "stderr",
     "output_type": "stream",
     "text": [
      "[*********************100%***********************]  1 of 1 completed\n",
      "[*********************100%***********************]  1 of 1 completed\n"
     ]
    },
    {
     "name": "stdout",
     "output_type": "stream",
     "text": [
      "Data for Franklin Resources (BEN) saved to data/US-500\\Franklin Resources_BEN_2020_2024.csv\n",
      "Data for Freeport-McMoRan (FCX) saved to data/US-500\\Freeport-McMoRan_FCX_2020_2024.csv\n"
     ]
    },
    {
     "name": "stderr",
     "output_type": "stream",
     "text": [
      "[*********************100%***********************]  1 of 1 completed\n",
      "[*********************100%***********************]  1 of 1 completed\n"
     ]
    },
    {
     "name": "stdout",
     "output_type": "stream",
     "text": [
      "Data for Garmin (GRMN) saved to data/US-500\\Garmin_GRMN_2020_2024.csv\n",
      "Data for Gartner (IT) saved to data/US-500\\Gartner_IT_2020_2024.csv\n"
     ]
    },
    {
     "name": "stderr",
     "output_type": "stream",
     "text": [
      "[*********************100%***********************]  1 of 1 completed\n",
      "[*********************100%***********************]  1 of 1 completed\n"
     ]
    },
    {
     "name": "stdout",
     "output_type": "stream",
     "text": [
      "Data for GE Aerospace (GE) saved to data/US-500\\GE Aerospace_GE_2020_2024.csv\n",
      "Data for GE HealthCare (GEHC) saved to data/US-500\\GE HealthCare_GEHC_2020_2024.csv\n"
     ]
    },
    {
     "name": "stderr",
     "output_type": "stream",
     "text": [
      "[*********************100%***********************]  1 of 1 completed\n",
      "[*********************100%***********************]  1 of 1 completed\n"
     ]
    },
    {
     "name": "stdout",
     "output_type": "stream",
     "text": [
      "Data for GE Vernova (GEV) saved to data/US-500\\GE Vernova_GEV_2020_2024.csv\n",
      "Data for Gen Digital (GEN) saved to data/US-500\\Gen Digital_GEN_2020_2024.csv\n"
     ]
    },
    {
     "name": "stderr",
     "output_type": "stream",
     "text": [
      "[*********************100%***********************]  1 of 1 completed\n",
      "[*********************100%***********************]  1 of 1 completed"
     ]
    },
    {
     "name": "stdout",
     "output_type": "stream",
     "text": [
      "Data for Generac (GNRC) saved to data/US-500\\Generac_GNRC_2020_2024.csv\n",
      "Data for General Dynamics (GD) saved to data/US-500\\General Dynamics_GD_2020_2024.csv\n"
     ]
    },
    {
     "name": "stderr",
     "output_type": "stream",
     "text": [
      "\n",
      "[*********************100%***********************]  1 of 1 completed\n",
      "[*********************100%***********************]  1 of 1 completed\n"
     ]
    },
    {
     "name": "stdout",
     "output_type": "stream",
     "text": [
      "Data for General Mills (GIS) saved to data/US-500\\General Mills_GIS_2020_2024.csv\n",
      "Data for General Motors (GM) saved to data/US-500\\General Motors_GM_2020_2024.csv\n"
     ]
    },
    {
     "name": "stderr",
     "output_type": "stream",
     "text": [
      "[*********************100%***********************]  1 of 1 completed\n",
      "[*********************100%***********************]  1 of 1 completed\n"
     ]
    },
    {
     "name": "stdout",
     "output_type": "stream",
     "text": [
      "Data for Genuine Parts Company (GPC) saved to data/US-500\\Genuine Parts Company_GPC_2020_2024.csv\n",
      "Data for Gilead Sciences (GILD) saved to data/US-500\\Gilead Sciences_GILD_2020_2024.csv\n"
     ]
    },
    {
     "name": "stderr",
     "output_type": "stream",
     "text": [
      "[*********************100%***********************]  1 of 1 completed\n",
      "[*********************100%***********************]  1 of 1 completed\n"
     ]
    },
    {
     "name": "stdout",
     "output_type": "stream",
     "text": [
      "Data for Global Payments (GPN) saved to data/US-500\\Global Payments_GPN_2020_2024.csv\n",
      "Data for Globe Life (GL) saved to data/US-500\\Globe Life_GL_2020_2024.csv\n"
     ]
    },
    {
     "name": "stderr",
     "output_type": "stream",
     "text": [
      "[*********************100%***********************]  1 of 1 completed\n",
      "[*********************100%***********************]  1 of 1 completed\n"
     ]
    },
    {
     "name": "stdout",
     "output_type": "stream",
     "text": [
      "Data for GoDaddy (GDDY) saved to data/US-500\\GoDaddy_GDDY_2020_2024.csv\n",
      "Data for Goldman Sachs (GS) saved to data/US-500\\Goldman Sachs_GS_2020_2024.csv\n"
     ]
    },
    {
     "name": "stderr",
     "output_type": "stream",
     "text": [
      "[*********************100%***********************]  1 of 1 completed\n",
      "[*********************100%***********************]  1 of 1 completed\n"
     ]
    },
    {
     "name": "stdout",
     "output_type": "stream",
     "text": [
      "Data for Halliburton (HAL) saved to data/US-500\\Halliburton_HAL_2020_2024.csv\n",
      "Data for Hartford (The) (HIG) saved to data/US-500\\Hartford (The)_HIG_2020_2024.csv\n"
     ]
    },
    {
     "name": "stderr",
     "output_type": "stream",
     "text": [
      "[*********************100%***********************]  1 of 1 completed\n",
      "[*********************100%***********************]  1 of 1 completed\n"
     ]
    },
    {
     "name": "stdout",
     "output_type": "stream",
     "text": [
      "Data for Hasbro (HAS) saved to data/US-500\\Hasbro_HAS_2020_2024.csv\n",
      "Data for HCA Healthcare (HCA) saved to data/US-500\\HCA Healthcare_HCA_2020_2024.csv\n"
     ]
    },
    {
     "name": "stderr",
     "output_type": "stream",
     "text": [
      "[*********************100%***********************]  1 of 1 completed\n",
      "[*********************100%***********************]  1 of 1 completed\n"
     ]
    },
    {
     "name": "stdout",
     "output_type": "stream",
     "text": [
      "Data for Healthpeak Properties (DOC) saved to data/US-500\\Healthpeak Properties_DOC_2020_2024.csv\n",
      "Data for Henry Schein (HSIC) saved to data/US-500\\Henry Schein_HSIC_2020_2024.csv\n"
     ]
    },
    {
     "name": "stderr",
     "output_type": "stream",
     "text": [
      "[*********************100%***********************]  1 of 1 completed\n",
      "[*********************100%***********************]  1 of 1 completed"
     ]
    },
    {
     "name": "stdout",
     "output_type": "stream",
     "text": [
      "Data for Hershey Company (The) (HSY) saved to data/US-500\\Hershey Company (The)_HSY_2020_2024.csv\n",
      "Data for Hess Corporation (HES) saved to data/US-500\\Hess Corporation_HES_2020_2024.csv\n"
     ]
    },
    {
     "name": "stderr",
     "output_type": "stream",
     "text": [
      "\n",
      "[*********************100%***********************]  1 of 1 completed\n",
      "[*********************100%***********************]  1 of 1 completed\n"
     ]
    },
    {
     "name": "stdout",
     "output_type": "stream",
     "text": [
      "Data for Hewlett Packard Enterprise (HPE) saved to data/US-500\\Hewlett Packard Enterprise_HPE_2020_2024.csv\n",
      "Data for Hilton Worldwide (HLT) saved to data/US-500\\Hilton Worldwide_HLT_2020_2024.csv\n"
     ]
    },
    {
     "name": "stderr",
     "output_type": "stream",
     "text": [
      "[*********************100%***********************]  1 of 1 completed\n",
      "[*********************100%***********************]  1 of 1 completed\n"
     ]
    },
    {
     "name": "stdout",
     "output_type": "stream",
     "text": [
      "Data for Hologic (HOLX) saved to data/US-500\\Hologic_HOLX_2020_2024.csv\n",
      "Data for Home Depot (The) (HD) saved to data/US-500\\Home Depot (The)_HD_2020_2024.csv\n"
     ]
    },
    {
     "name": "stderr",
     "output_type": "stream",
     "text": [
      "[*********************100%***********************]  1 of 1 completed\n",
      "[*********************100%***********************]  1 of 1 completed"
     ]
    },
    {
     "name": "stdout",
     "output_type": "stream",
     "text": [
      "Data for Honeywell (HON) saved to data/US-500\\Honeywell_HON_2020_2024.csv\n",
      "Data for Hormel Foods (HRL) saved to data/US-500\\Hormel Foods_HRL_2020_2024.csv\n"
     ]
    },
    {
     "name": "stderr",
     "output_type": "stream",
     "text": [
      "\n",
      "[*********************100%***********************]  1 of 1 completed\n",
      "[*********************100%***********************]  1 of 1 completed\n"
     ]
    },
    {
     "name": "stdout",
     "output_type": "stream",
     "text": [
      "Data for Host Hotels & Resorts (HST) saved to data/US-500\\Host Hotels & Resorts_HST_2020_2024.csv\n",
      "Data for Howmet Aerospace (HWM) saved to data/US-500\\Howmet Aerospace_HWM_2020_2024.csv\n"
     ]
    },
    {
     "name": "stderr",
     "output_type": "stream",
     "text": [
      "[*********************100%***********************]  1 of 1 completed\n",
      "[*********************100%***********************]  1 of 1 completed\n"
     ]
    },
    {
     "name": "stdout",
     "output_type": "stream",
     "text": [
      "Data for HP Inc. (HPQ) saved to data/US-500\\HP Inc._HPQ_2020_2024.csv\n",
      "Data for Hubbell Incorporated (HUBB) saved to data/US-500\\Hubbell Incorporated_HUBB_2020_2024.csv\n"
     ]
    },
    {
     "name": "stderr",
     "output_type": "stream",
     "text": [
      "[*********************100%***********************]  1 of 1 completed\n",
      "[*********************100%***********************]  1 of 1 completed"
     ]
    },
    {
     "name": "stdout",
     "output_type": "stream",
     "text": [
      "Data for Humana (HUM) saved to data/US-500\\Humana_HUM_2020_2024.csv\n",
      "Data for Huntington Bancshares (HBAN) saved to data/US-500\\Huntington Bancshares_HBAN_2020_2024.csv\n"
     ]
    },
    {
     "name": "stderr",
     "output_type": "stream",
     "text": [
      "\n",
      "[*********************100%***********************]  1 of 1 completed\n",
      "[*********************100%***********************]  1 of 1 completed"
     ]
    },
    {
     "name": "stdout",
     "output_type": "stream",
     "text": [
      "Data for Huntington Ingalls Industries (HII) saved to data/US-500\\Huntington Ingalls Industries_HII_2020_2024.csv\n"
     ]
    },
    {
     "name": "stderr",
     "output_type": "stream",
     "text": [
      "\n",
      "[*********************100%***********************]  1 of 1 completed\n"
     ]
    },
    {
     "name": "stdout",
     "output_type": "stream",
     "text": [
      "Data for IBM (IBM) saved to data/US-500\\IBM_IBM_2020_2024.csv\n",
      "Data for IDEX Corporation (IEX) saved to data/US-500\\IDEX Corporation_IEX_2020_2024.csv\n"
     ]
    },
    {
     "name": "stderr",
     "output_type": "stream",
     "text": [
      "[*********************100%***********************]  1 of 1 completed\n"
     ]
    },
    {
     "name": "stdout",
     "output_type": "stream",
     "text": [
      "Data for Idexx Laboratories (IDXX) saved to data/US-500\\Idexx Laboratories_IDXX_2020_2024.csv\n"
     ]
    },
    {
     "name": "stderr",
     "output_type": "stream",
     "text": [
      "[*********************100%***********************]  1 of 1 completed\n",
      "[*********************100%***********************]  1 of 1 completed\n"
     ]
    },
    {
     "name": "stdout",
     "output_type": "stream",
     "text": [
      "Data for Illinois Tool Works (ITW) saved to data/US-500\\Illinois Tool Works_ITW_2020_2024.csv\n",
      "Data for Incyte (INCY) saved to data/US-500\\Incyte_INCY_2020_2024.csv\n"
     ]
    },
    {
     "name": "stderr",
     "output_type": "stream",
     "text": [
      "[*********************100%***********************]  1 of 1 completed\n",
      "[*********************100%***********************]  1 of 1 completed\n"
     ]
    },
    {
     "name": "stdout",
     "output_type": "stream",
     "text": [
      "Data for Ingersoll Rand (IR) saved to data/US-500\\Ingersoll Rand_IR_2020_2024.csv\n",
      "Data for Insulet Corporation (PODD) saved to data/US-500\\Insulet Corporation_PODD_2020_2024.csv\n"
     ]
    },
    {
     "name": "stderr",
     "output_type": "stream",
     "text": [
      "[*********************100%***********************]  1 of 1 completed\n",
      "[*********************100%***********************]  1 of 1 completed\n"
     ]
    },
    {
     "name": "stdout",
     "output_type": "stream",
     "text": [
      "Data for Intel (INTC) saved to data/US-500\\Intel_INTC_2020_2024.csv\n",
      "Data for Intercontinental Exchange (ICE) saved to data/US-500\\Intercontinental Exchange_ICE_2020_2024.csv\n"
     ]
    },
    {
     "name": "stderr",
     "output_type": "stream",
     "text": [
      "[*********************100%***********************]  1 of 1 completed\n",
      "[*********************100%***********************]  1 of 1 completed"
     ]
    },
    {
     "name": "stdout",
     "output_type": "stream",
     "text": [
      "Data for International Flavors & Fragrances (IFF) saved to data/US-500\\International Flavors & Fragrances_IFF_2020_2024.csv\n",
      "Data for International Paper (IP) saved to data/US-500\\International Paper_IP_2020_2024.csv\n"
     ]
    },
    {
     "name": "stderr",
     "output_type": "stream",
     "text": [
      "\n",
      "[*********************100%***********************]  1 of 1 completed\n",
      "[*********************100%***********************]  1 of 1 completed\n"
     ]
    },
    {
     "name": "stdout",
     "output_type": "stream",
     "text": [
      "Data for Interpublic Group of Companies (The) (IPG) saved to data/US-500\\Interpublic Group of Companies (The)_IPG_2020_2024.csv\n",
      "Data for Intuit (INTU) saved to data/US-500\\Intuit_INTU_2020_2024.csv\n"
     ]
    },
    {
     "name": "stderr",
     "output_type": "stream",
     "text": [
      "[*********************100%***********************]  1 of 1 completed\n",
      "[*********************100%***********************]  1 of 1 completed\n"
     ]
    },
    {
     "name": "stdout",
     "output_type": "stream",
     "text": [
      "Data for Intuitive Surgical (ISRG) saved to data/US-500\\Intuitive Surgical_ISRG_2020_2024.csv\n",
      "Data for Invesco (IVZ) saved to data/US-500\\Invesco_IVZ_2020_2024.csv\n"
     ]
    },
    {
     "name": "stderr",
     "output_type": "stream",
     "text": [
      "[*********************100%***********************]  1 of 1 completed\n",
      "[*********************100%***********************]  1 of 1 completed\n"
     ]
    },
    {
     "name": "stdout",
     "output_type": "stream",
     "text": [
      "Data for Invitation Homes (INVH) saved to data/US-500\\Invitation Homes_INVH_2020_2024.csv\n",
      "Data for IQVIA (IQV) saved to data/US-500\\IQVIA_IQV_2020_2024.csv\n"
     ]
    },
    {
     "name": "stderr",
     "output_type": "stream",
     "text": [
      "[*********************100%***********************]  1 of 1 completed\n",
      "[*********************100%***********************]  1 of 1 completed\n"
     ]
    },
    {
     "name": "stdout",
     "output_type": "stream",
     "text": [
      "Data for Iron Mountain (IRM) saved to data/US-500\\Iron Mountain_IRM_2020_2024.csv\n",
      "Data for J.B. Hunt (JBHT) saved to data/US-500\\J.B. Hunt_JBHT_2020_2024.csv\n"
     ]
    },
    {
     "name": "stderr",
     "output_type": "stream",
     "text": [
      "[*********************100%***********************]  1 of 1 completed\n"
     ]
    },
    {
     "name": "stdout",
     "output_type": "stream",
     "text": [
      "Data for Jabil (JBL) saved to data/US-500\\Jabil_JBL_2020_2024.csv\n"
     ]
    },
    {
     "name": "stderr",
     "output_type": "stream",
     "text": [
      "[*********************100%***********************]  1 of 1 completed\n",
      "[*********************100%***********************]  1 of 1 completed"
     ]
    },
    {
     "name": "stdout",
     "output_type": "stream",
     "text": [
      "Data for Jack Henry & Associates (JKHY) saved to data/US-500\\Jack Henry & Associates_JKHY_2020_2024.csv\n",
      "Data for Jacobs Solutions (J) saved to data/US-500\\Jacobs Solutions_J_2020_2024.csv\n"
     ]
    },
    {
     "name": "stderr",
     "output_type": "stream",
     "text": [
      "\n",
      "[*********************100%***********************]  1 of 1 completed\n",
      "[*********************100%***********************]  1 of 1 completed\n"
     ]
    },
    {
     "name": "stdout",
     "output_type": "stream",
     "text": [
      "Data for Johnson & Johnson (JNJ) saved to data/US-500\\Johnson & Johnson_JNJ_2020_2024.csv\n",
      "Data for Johnson Controls (JCI) saved to data/US-500\\Johnson Controls_JCI_2020_2024.csv\n"
     ]
    },
    {
     "name": "stderr",
     "output_type": "stream",
     "text": [
      "[*********************100%***********************]  1 of 1 completed\n",
      "[*********************100%***********************]  1 of 1 completed\n"
     ]
    },
    {
     "name": "stdout",
     "output_type": "stream",
     "text": [
      "Data for JPMorgan Chase (JPM) saved to data/US-500\\JPMorgan Chase_JPM_2020_2024.csv\n",
      "Data for Juniper Networks (JNPR) saved to data/US-500\\Juniper Networks_JNPR_2020_2024.csv\n"
     ]
    },
    {
     "name": "stderr",
     "output_type": "stream",
     "text": [
      "[*********************100%***********************]  1 of 1 completed\n",
      "[*********************100%***********************]  1 of 1 completed\n"
     ]
    },
    {
     "name": "stdout",
     "output_type": "stream",
     "text": [
      "Data for Kellanova (K) saved to data/US-500\\Kellanova_K_2020_2024.csv\n",
      "Data for Kenvue (KVUE) saved to data/US-500\\Kenvue_KVUE_2020_2024.csv\n"
     ]
    },
    {
     "name": "stderr",
     "output_type": "stream",
     "text": [
      "[*********************100%***********************]  1 of 1 completed\n",
      "[*********************100%***********************]  1 of 1 completed"
     ]
    },
    {
     "name": "stdout",
     "output_type": "stream",
     "text": [
      "Data for Keurig Dr Pepper (KDP) saved to data/US-500\\Keurig Dr Pepper_KDP_2020_2024.csv\n",
      "Data for KeyCorp (KEY) saved to data/US-500\\KeyCorp_KEY_2020_2024.csv\n"
     ]
    },
    {
     "name": "stderr",
     "output_type": "stream",
     "text": [
      "\n",
      "[*********************100%***********************]  1 of 1 completed\n",
      "[*********************100%***********************]  1 of 1 completed"
     ]
    },
    {
     "name": "stdout",
     "output_type": "stream",
     "text": [
      "Data for Keysight Technologies (KEYS) saved to data/US-500\\Keysight Technologies_KEYS_2020_2024.csv\n",
      "Data for Kimberly-Clark (KMB) saved to data/US-500\\Kimberly-Clark_KMB_2020_2024.csv\n"
     ]
    },
    {
     "name": "stderr",
     "output_type": "stream",
     "text": [
      "\n",
      "[*********************100%***********************]  1 of 1 completed\n",
      "[*********************100%***********************]  1 of 1 completed\n"
     ]
    },
    {
     "name": "stdout",
     "output_type": "stream",
     "text": [
      "Data for Kimco Realty (KIM) saved to data/US-500\\Kimco Realty_KIM_2020_2024.csv\n",
      "Data for Kinder Morgan (KMI) saved to data/US-500\\Kinder Morgan_KMI_2020_2024.csv\n"
     ]
    },
    {
     "name": "stderr",
     "output_type": "stream",
     "text": [
      "[*********************100%***********************]  1 of 1 completed\n",
      "[*********************100%***********************]  1 of 1 completed\n"
     ]
    },
    {
     "name": "stdout",
     "output_type": "stream",
     "text": [
      "Data for KKR (KKR) saved to data/US-500\\KKR_KKR_2020_2024.csv\n",
      "Data for KLA Corporation (KLAC) saved to data/US-500\\KLA Corporation_KLAC_2020_2024.csv\n"
     ]
    },
    {
     "name": "stderr",
     "output_type": "stream",
     "text": [
      "[*********************100%***********************]  1 of 1 completed\n",
      "[*********************100%***********************]  1 of 1 completed"
     ]
    },
    {
     "name": "stdout",
     "output_type": "stream",
     "text": [
      "Data for Kraft Heinz (KHC) saved to data/US-500\\Kraft Heinz_KHC_2020_2024.csv\n",
      "Data for Kroger (KR) saved to data/US-500\\Kroger_KR_2020_2024.csv\n"
     ]
    },
    {
     "name": "stderr",
     "output_type": "stream",
     "text": [
      "\n",
      "[*********************100%***********************]  1 of 1 completed\n",
      "[*********************100%***********************]  1 of 1 completed\n"
     ]
    },
    {
     "name": "stdout",
     "output_type": "stream",
     "text": [
      "Data for L3Harris (LHX) saved to data/US-500\\L3Harris_LHX_2020_2024.csv\n",
      "Data for LabCorp (LH) saved to data/US-500\\LabCorp_LH_2020_2024.csv\n"
     ]
    },
    {
     "name": "stderr",
     "output_type": "stream",
     "text": [
      "[*********************100%***********************]  1 of 1 completed\n",
      "[*********************100%***********************]  1 of 1 completed\n"
     ]
    },
    {
     "name": "stdout",
     "output_type": "stream",
     "text": [
      "Data for Lam Research (LRCX) saved to data/US-500\\Lam Research_LRCX_2020_2024.csv\n",
      "Data for Lamb Weston (LW) saved to data/US-500\\Lamb Weston_LW_2020_2024.csv\n"
     ]
    },
    {
     "name": "stderr",
     "output_type": "stream",
     "text": [
      "[*********************100%***********************]  1 of 1 completed\n",
      "[*********************100%***********************]  1 of 1 completed\n"
     ]
    },
    {
     "name": "stdout",
     "output_type": "stream",
     "text": [
      "Data for Las Vegas Sands (LVS) saved to data/US-500\\Las Vegas Sands_LVS_2020_2024.csv\n",
      "Data for Leidos (LDOS) saved to data/US-500\\Leidos_LDOS_2020_2024.csv\n"
     ]
    },
    {
     "name": "stderr",
     "output_type": "stream",
     "text": [
      "[*********************100%***********************]  1 of 1 completed\n",
      "[*********************100%***********************]  1 of 1 completed\n"
     ]
    },
    {
     "name": "stdout",
     "output_type": "stream",
     "text": [
      "Data for Lennar (LEN) saved to data/US-500\\Lennar_LEN_2020_2024.csv\n",
      "Data for Lilly (Eli) (LLY) saved to data/US-500\\Lilly (Eli)_LLY_2020_2024.csv\n"
     ]
    },
    {
     "name": "stderr",
     "output_type": "stream",
     "text": [
      "[*********************100%***********************]  1 of 1 completed\n",
      "[*********************100%***********************]  1 of 1 completed\n"
     ]
    },
    {
     "name": "stdout",
     "output_type": "stream",
     "text": [
      "Data for Linde plc (LIN) saved to data/US-500\\Linde plc_LIN_2020_2024.csv\n",
      "Data for Live Nation Entertainment (LYV) saved to data/US-500\\Live Nation Entertainment_LYV_2020_2024.csv\n"
     ]
    },
    {
     "name": "stderr",
     "output_type": "stream",
     "text": [
      "[*********************100%***********************]  1 of 1 completed\n",
      "[*********************100%***********************]  1 of 1 completed"
     ]
    },
    {
     "name": "stdout",
     "output_type": "stream",
     "text": [
      "Data for LKQ Corporation (LKQ) saved to data/US-500\\LKQ Corporation_LKQ_2020_2024.csv\n",
      "Data for Lockheed Martin (LMT) saved to data/US-500\\Lockheed Martin_LMT_2020_2024.csv\n"
     ]
    },
    {
     "name": "stderr",
     "output_type": "stream",
     "text": [
      "\n",
      "[*********************100%***********************]  1 of 1 completed\n",
      "[*********************100%***********************]  1 of 1 completed"
     ]
    },
    {
     "name": "stdout",
     "output_type": "stream",
     "text": [
      "Data for Loews Corporation (L) saved to data/US-500\\Loews Corporation_L_2020_2024.csv\n",
      "Data for Lowe's (LOW) saved to data/US-500\\Lowe's_LOW_2020_2024.csv\n"
     ]
    },
    {
     "name": "stderr",
     "output_type": "stream",
     "text": [
      "\n",
      "[*********************100%***********************]  1 of 1 completed\n",
      "[*********************100%***********************]  1 of 1 completed"
     ]
    },
    {
     "name": "stdout",
     "output_type": "stream",
     "text": [
      "Data for Lululemon Athletica (LULU) saved to data/US-500\\Lululemon Athletica_LULU_2020_2024.csv\n",
      "Data for LyondellBasell (LYB) saved to data/US-500\\LyondellBasell_LYB_2020_2024.csv\n"
     ]
    },
    {
     "name": "stderr",
     "output_type": "stream",
     "text": [
      "\n",
      "[*********************100%***********************]  1 of 1 completed\n",
      "[*********************100%***********************]  1 of 1 completed\n"
     ]
    },
    {
     "name": "stdout",
     "output_type": "stream",
     "text": [
      "Data for M&T Bank (MTB) saved to data/US-500\\M&T Bank_MTB_2020_2024.csv\n",
      "Data for Marathon Petroleum (MPC) saved to data/US-500\\Marathon Petroleum_MPC_2020_2024.csv\n"
     ]
    },
    {
     "name": "stderr",
     "output_type": "stream",
     "text": [
      "[*********************100%***********************]  1 of 1 completed\n",
      "[*********************100%***********************]  1 of 1 completed"
     ]
    },
    {
     "name": "stdout",
     "output_type": "stream",
     "text": [
      "Data for MarketAxess (MKTX) saved to data/US-500\\MarketAxess_MKTX_2020_2024.csv\n",
      "Data for Marriott International (MAR) saved to data/US-500\\Marriott International_MAR_2020_2024.csv\n"
     ]
    },
    {
     "name": "stderr",
     "output_type": "stream",
     "text": [
      "\n",
      "[*********************100%***********************]  1 of 1 completed\n",
      "[*********************100%***********************]  1 of 1 completed\n"
     ]
    },
    {
     "name": "stdout",
     "output_type": "stream",
     "text": [
      "Data for Marsh McLennan (MMC) saved to data/US-500\\Marsh McLennan_MMC_2020_2024.csv\n",
      "Data for Martin Marietta Materials (MLM) saved to data/US-500\\Martin Marietta Materials_MLM_2020_2024.csv\n"
     ]
    },
    {
     "name": "stderr",
     "output_type": "stream",
     "text": [
      "[*********************100%***********************]  1 of 1 completed\n",
      "[*********************100%***********************]  1 of 1 completed"
     ]
    },
    {
     "name": "stdout",
     "output_type": "stream",
     "text": [
      "Data for Masco (MAS) saved to data/US-500\\Masco_MAS_2020_2024.csv\n"
     ]
    },
    {
     "name": "stderr",
     "output_type": "stream",
     "text": [
      "\n",
      "[*********************100%***********************]  1 of 1 completed\n"
     ]
    },
    {
     "name": "stdout",
     "output_type": "stream",
     "text": [
      "Data for Mastercard (MA) saved to data/US-500\\Mastercard_MA_2020_2024.csv\n",
      "Data for Match Group (MTCH) saved to data/US-500\\Match Group_MTCH_2020_2024.csv\n"
     ]
    },
    {
     "name": "stderr",
     "output_type": "stream",
     "text": [
      "[*********************100%***********************]  1 of 1 completed\n",
      "[*********************100%***********************]  1 of 1 completed"
     ]
    },
    {
     "name": "stdout",
     "output_type": "stream",
     "text": [
      "Data for McCormick & Company (MKC) saved to data/US-500\\McCormick & Company_MKC_2020_2024.csv\n"
     ]
    },
    {
     "name": "stderr",
     "output_type": "stream",
     "text": [
      "\n",
      "[*********************100%***********************]  1 of 1 completed\n"
     ]
    },
    {
     "name": "stdout",
     "output_type": "stream",
     "text": [
      "Data for McDonald's (MCD) saved to data/US-500\\McDonald's_MCD_2020_2024.csv\n",
      "Data for McKesson Corporation (MCK) saved to data/US-500\\McKesson Corporation_MCK_2020_2024.csv\n"
     ]
    },
    {
     "name": "stderr",
     "output_type": "stream",
     "text": [
      "[*********************100%***********************]  1 of 1 completed\n",
      "[*********************100%***********************]  1 of 1 completed"
     ]
    },
    {
     "name": "stdout",
     "output_type": "stream",
     "text": [
      "Data for Medtronic (MDT) saved to data/US-500\\Medtronic_MDT_2020_2024.csv\n",
      "Data for Merck & Co. (MRK) saved to data/US-500\\Merck & Co._MRK_2020_2024.csv\n"
     ]
    },
    {
     "name": "stderr",
     "output_type": "stream",
     "text": [
      "\n",
      "[*********************100%***********************]  1 of 1 completed\n",
      "[*********************100%***********************]  1 of 1 completed\n"
     ]
    },
    {
     "name": "stdout",
     "output_type": "stream",
     "text": [
      "Data for Meta Platforms (META) saved to data/US-500\\Meta Platforms_META_2020_2024.csv\n",
      "Data for MetLife (MET) saved to data/US-500\\MetLife_MET_2020_2024.csv\n"
     ]
    },
    {
     "name": "stderr",
     "output_type": "stream",
     "text": [
      "[*********************100%***********************]  1 of 1 completed\n",
      "[*********************100%***********************]  1 of 1 completed\n"
     ]
    },
    {
     "name": "stdout",
     "output_type": "stream",
     "text": [
      "Data for Mettler Toledo (MTD) saved to data/US-500\\Mettler Toledo_MTD_2020_2024.csv\n",
      "Data for MGM Resorts (MGM) saved to data/US-500\\MGM Resorts_MGM_2020_2024.csv\n"
     ]
    },
    {
     "name": "stderr",
     "output_type": "stream",
     "text": [
      "[*********************100%***********************]  1 of 1 completed\n",
      "[*********************100%***********************]  1 of 1 completed"
     ]
    },
    {
     "name": "stdout",
     "output_type": "stream",
     "text": [
      "Data for Microchip Technology (MCHP) saved to data/US-500\\Microchip Technology_MCHP_2020_2024.csv\n",
      "Data for Micron Technology (MU) saved to data/US-500\\Micron Technology_MU_2020_2024.csv\n"
     ]
    },
    {
     "name": "stderr",
     "output_type": "stream",
     "text": [
      "\n",
      "[*********************100%***********************]  1 of 1 completed\n",
      "[*********************100%***********************]  1 of 1 completed\n"
     ]
    },
    {
     "name": "stdout",
     "output_type": "stream",
     "text": [
      "Data for Microsoft (MSFT) saved to data/US-500\\Microsoft_MSFT_2020_2024.csv\n",
      "Data for Mid-America Apartment Communities (MAA) saved to data/US-500\\Mid-America Apartment Communities_MAA_2020_2024.csv\n"
     ]
    },
    {
     "name": "stderr",
     "output_type": "stream",
     "text": [
      "[*********************100%***********************]  1 of 1 completed\n",
      "[*********************100%***********************]  1 of 1 completed\n"
     ]
    },
    {
     "name": "stdout",
     "output_type": "stream",
     "text": [
      "Data for Moderna (MRNA) saved to data/US-500\\Moderna_MRNA_2020_2024.csv\n",
      "Data for Mohawk Industries (MHK) saved to data/US-500\\Mohawk Industries_MHK_2020_2024.csv\n"
     ]
    },
    {
     "name": "stderr",
     "output_type": "stream",
     "text": [
      "[*********************100%***********************]  1 of 1 completed\n",
      "[*********************100%***********************]  1 of 1 completed\n"
     ]
    },
    {
     "name": "stdout",
     "output_type": "stream",
     "text": [
      "Data for Molina Healthcare (MOH) saved to data/US-500\\Molina Healthcare_MOH_2020_2024.csv\n",
      "Data for Molson Coors Beverage Company (TAP) saved to data/US-500\\Molson Coors Beverage Company_TAP_2020_2024.csv\n"
     ]
    },
    {
     "name": "stderr",
     "output_type": "stream",
     "text": [
      "[*********************100%***********************]  1 of 1 completed\n",
      "[*********************100%***********************]  1 of 1 completed\n"
     ]
    },
    {
     "name": "stdout",
     "output_type": "stream",
     "text": [
      "Data for Mondelez International (MDLZ) saved to data/US-500\\Mondelez International_MDLZ_2020_2024.csv\n",
      "Data for Monolithic Power Systems (MPWR) saved to data/US-500\\Monolithic Power Systems_MPWR_2020_2024.csv\n"
     ]
    },
    {
     "name": "stderr",
     "output_type": "stream",
     "text": [
      "[*********************100%***********************]  1 of 1 completed\n",
      "[*********************100%***********************]  1 of 1 completed"
     ]
    },
    {
     "name": "stdout",
     "output_type": "stream",
     "text": [
      "Data for Monster Beverage (MNST) saved to data/US-500\\Monster Beverage_MNST_2020_2024.csv\n",
      "Data for Moody's Corporation (MCO) saved to data/US-500\\Moody's Corporation_MCO_2020_2024.csv\n"
     ]
    },
    {
     "name": "stderr",
     "output_type": "stream",
     "text": [
      "\n",
      "[*********************100%***********************]  1 of 1 completed\n",
      "[*********************100%***********************]  1 of 1 completed\n"
     ]
    },
    {
     "name": "stdout",
     "output_type": "stream",
     "text": [
      "Data for Morgan Stanley (MS) saved to data/US-500\\Morgan Stanley_MS_2020_2024.csv\n",
      "Data for Mosaic Company (The) (MOS) saved to data/US-500\\Mosaic Company (The)_MOS_2020_2024.csv\n"
     ]
    },
    {
     "name": "stderr",
     "output_type": "stream",
     "text": [
      "[*********************100%***********************]  1 of 1 completed\n",
      "[*********************100%***********************]  1 of 1 completed"
     ]
    },
    {
     "name": "stdout",
     "output_type": "stream",
     "text": [
      "Data for Motorola Solutions (MSI) saved to data/US-500\\Motorola Solutions_MSI_2020_2024.csv\n"
     ]
    },
    {
     "name": "stderr",
     "output_type": "stream",
     "text": [
      "\n",
      "[*********************100%***********************]  1 of 1 completed\n"
     ]
    },
    {
     "name": "stdout",
     "output_type": "stream",
     "text": [
      "Data for MSCI (MSCI) saved to data/US-500\\MSCI_MSCI_2020_2024.csv\n",
      "Data for Nasdaq, Inc. (NDAQ) saved to data/US-500\\Nasdaq, Inc._NDAQ_2020_2024.csv\n"
     ]
    },
    {
     "name": "stderr",
     "output_type": "stream",
     "text": [
      "[*********************100%***********************]  1 of 1 completed\n",
      "[*********************100%***********************]  1 of 1 completed\n"
     ]
    },
    {
     "name": "stdout",
     "output_type": "stream",
     "text": [
      "Data for NetApp (NTAP) saved to data/US-500\\NetApp_NTAP_2020_2024.csv\n",
      "Data for Netflix (NFLX) saved to data/US-500\\Netflix_NFLX_2020_2024.csv\n"
     ]
    },
    {
     "name": "stderr",
     "output_type": "stream",
     "text": [
      "[*********************100%***********************]  1 of 1 completed\n",
      "[*********************100%***********************]  1 of 1 completed\n"
     ]
    },
    {
     "name": "stdout",
     "output_type": "stream",
     "text": [
      "Data for Newmont (NEM) saved to data/US-500\\Newmont_NEM_2020_2024.csv\n",
      "Data for News Corp (Class A) (NWSA) saved to data/US-500\\News Corp (Class A)_NWSA_2020_2024.csv\n"
     ]
    },
    {
     "name": "stderr",
     "output_type": "stream",
     "text": [
      "[*********************100%***********************]  1 of 1 completed\n",
      "[*********************100%***********************]  1 of 1 completed"
     ]
    },
    {
     "name": "stdout",
     "output_type": "stream",
     "text": [
      "Data for News Corp (Class B) (NWS) saved to data/US-500\\News Corp (Class B)_NWS_2020_2024.csv\n",
      "Data for NextEra Energy (NEE) saved to data/US-500\\NextEra Energy_NEE_2020_2024.csv\n"
     ]
    },
    {
     "name": "stderr",
     "output_type": "stream",
     "text": [
      "\n",
      "[*********************100%***********************]  1 of 1 completed\n",
      "[*********************100%***********************]  1 of 1 completed\n"
     ]
    },
    {
     "name": "stdout",
     "output_type": "stream",
     "text": [
      "Data for Nike, Inc. (NKE) saved to data/US-500\\Nike, Inc._NKE_2020_2024.csv\n",
      "Data for NiSource (NI) saved to data/US-500\\NiSource_NI_2020_2024.csv\n"
     ]
    },
    {
     "name": "stderr",
     "output_type": "stream",
     "text": [
      "[*********************100%***********************]  1 of 1 completed\n",
      "[*********************100%***********************]  1 of 1 completed"
     ]
    },
    {
     "name": "stdout",
     "output_type": "stream",
     "text": [
      "Data for Nordson Corporation (NDSN) saved to data/US-500\\Nordson Corporation_NDSN_2020_2024.csv\n",
      "Data for Norfolk Southern Railway (NSC) saved to data/US-500\\Norfolk Southern Railway_NSC_2020_2024.csv\n"
     ]
    },
    {
     "name": "stderr",
     "output_type": "stream",
     "text": [
      "\n",
      "[*********************100%***********************]  1 of 1 completed\n",
      "[*********************100%***********************]  1 of 1 completed"
     ]
    },
    {
     "name": "stdout",
     "output_type": "stream",
     "text": [
      "Data for Northern Trust (NTRS) saved to data/US-500\\Northern Trust_NTRS_2020_2024.csv\n"
     ]
    },
    {
     "name": "stderr",
     "output_type": "stream",
     "text": [
      "\n",
      "[*********************100%***********************]  1 of 1 completed\n"
     ]
    },
    {
     "name": "stdout",
     "output_type": "stream",
     "text": [
      "Data for Northrop Grumman (NOC) saved to data/US-500\\Northrop Grumman_NOC_2020_2024.csv\n",
      "Data for Norwegian Cruise Line Holdings (NCLH) saved to data/US-500\\Norwegian Cruise Line Holdings_NCLH_2020_2024.csv\n"
     ]
    },
    {
     "name": "stderr",
     "output_type": "stream",
     "text": [
      "[*********************100%***********************]  1 of 1 completed\n",
      "[*********************100%***********************]  1 of 1 completed"
     ]
    },
    {
     "name": "stdout",
     "output_type": "stream",
     "text": [
      "Data for NRG Energy (NRG) saved to data/US-500\\NRG Energy_NRG_2020_2024.csv\n",
      "Data for Nucor (NUE) saved to data/US-500\\Nucor_NUE_2020_2024.csv\n"
     ]
    },
    {
     "name": "stderr",
     "output_type": "stream",
     "text": [
      "\n",
      "[*********************100%***********************]  1 of 1 completed\n",
      "[*********************100%***********************]  1 of 1 completed\n"
     ]
    },
    {
     "name": "stdout",
     "output_type": "stream",
     "text": [
      "Data for Nvidia (NVDA) saved to data/US-500\\Nvidia_NVDA_2020_2024.csv\n",
      "Data for NVR, Inc. (NVR) saved to data/US-500\\NVR, Inc._NVR_2020_2024.csv\n"
     ]
    },
    {
     "name": "stderr",
     "output_type": "stream",
     "text": [
      "[*********************100%***********************]  1 of 1 completed\n",
      "[*********************100%***********************]  1 of 1 completed\n"
     ]
    },
    {
     "name": "stdout",
     "output_type": "stream",
     "text": [
      "Data for NXP Semiconductors (NXPI) saved to data/US-500\\NXP Semiconductors_NXPI_2020_2024.csv\n",
      "Data for O'Reilly Auto Parts (ORLY) saved to data/US-500\\O'Reilly Auto Parts_ORLY_2020_2024.csv\n"
     ]
    },
    {
     "name": "stderr",
     "output_type": "stream",
     "text": [
      "[*********************100%***********************]  1 of 1 completed\n",
      "[*********************100%***********************]  1 of 1 completed\n"
     ]
    },
    {
     "name": "stdout",
     "output_type": "stream",
     "text": [
      "Data for Occidental Petroleum (OXY) saved to data/US-500\\Occidental Petroleum_OXY_2020_2024.csv\n",
      "Data for Old Dominion (ODFL) saved to data/US-500\\Old Dominion_ODFL_2020_2024.csv\n"
     ]
    },
    {
     "name": "stderr",
     "output_type": "stream",
     "text": [
      "[*********************100%***********************]  1 of 1 completed\n",
      "[*********************100%***********************]  1 of 1 completed\n"
     ]
    },
    {
     "name": "stdout",
     "output_type": "stream",
     "text": [
      "Data for Omnicom Group (OMC) saved to data/US-500\\Omnicom Group_OMC_2020_2024.csv\n",
      "Data for ON Semiconductor (ON) saved to data/US-500\\ON Semiconductor_ON_2020_2024.csv\n"
     ]
    },
    {
     "name": "stderr",
     "output_type": "stream",
     "text": [
      "[*********************100%***********************]  1 of 1 completed\n",
      "[*********************100%***********************]  1 of 1 completed\n"
     ]
    },
    {
     "name": "stdout",
     "output_type": "stream",
     "text": [
      "Data for ONEOK (OKE) saved to data/US-500\\ONEOK_OKE_2020_2024.csv\n",
      "Data for Oracle Corporation (ORCL) saved to data/US-500\\Oracle Corporation_ORCL_2020_2024.csv\n"
     ]
    },
    {
     "name": "stderr",
     "output_type": "stream",
     "text": [
      "[*********************100%***********************]  1 of 1 completed\n",
      "[*********************100%***********************]  1 of 1 completed"
     ]
    },
    {
     "name": "stdout",
     "output_type": "stream",
     "text": [
      "Data for Otis Worldwide (OTIS) saved to data/US-500\\Otis Worldwide_OTIS_2020_2024.csv\n",
      "Data for Paccar (PCAR) saved to data/US-500\\Paccar_PCAR_2020_2024.csv\n"
     ]
    },
    {
     "name": "stderr",
     "output_type": "stream",
     "text": [
      "\n",
      "[*********************100%***********************]  1 of 1 completed\n",
      "[*********************100%***********************]  1 of 1 completed\n"
     ]
    },
    {
     "name": "stdout",
     "output_type": "stream",
     "text": [
      "Data for Packaging Corporation of America (PKG) saved to data/US-500\\Packaging Corporation of America_PKG_2020_2024.csv\n",
      "Data for Palantir Technologies (PLTR) saved to data/US-500\\Palantir Technologies_PLTR_2020_2024.csv\n"
     ]
    },
    {
     "name": "stderr",
     "output_type": "stream",
     "text": [
      "[*********************100%***********************]  1 of 1 completed\n",
      "[*********************100%***********************]  1 of 1 completed\n"
     ]
    },
    {
     "name": "stdout",
     "output_type": "stream",
     "text": [
      "Data for Palo Alto Networks (PANW) saved to data/US-500\\Palo Alto Networks_PANW_2020_2024.csv\n",
      "Data for Paramount Global (PARA) saved to data/US-500\\Paramount Global_PARA_2020_2024.csv\n"
     ]
    },
    {
     "name": "stderr",
     "output_type": "stream",
     "text": [
      "[*********************100%***********************]  1 of 1 completed\n",
      "[*********************100%***********************]  1 of 1 completed"
     ]
    },
    {
     "name": "stdout",
     "output_type": "stream",
     "text": [
      "Data for Parker Hannifin (PH) saved to data/US-500\\Parker Hannifin_PH_2020_2024.csv\n"
     ]
    },
    {
     "name": "stderr",
     "output_type": "stream",
     "text": [
      "\n",
      "[*********************100%***********************]  1 of 1 completed"
     ]
    },
    {
     "name": "stdout",
     "output_type": "stream",
     "text": [
      "Data for Paychex (PAYX) saved to data/US-500\\Paychex_PAYX_2020_2024.csv\n",
      "Data for Paycom (PAYC) saved to data/US-500\\Paycom_PAYC_2020_2024.csv\n"
     ]
    },
    {
     "name": "stderr",
     "output_type": "stream",
     "text": [
      "\n",
      "[*********************100%***********************]  1 of 1 completed\n",
      "[*********************100%***********************]  1 of 1 completed"
     ]
    },
    {
     "name": "stdout",
     "output_type": "stream",
     "text": [
      "Data for PayPal (PYPL) saved to data/US-500\\PayPal_PYPL_2020_2024.csv\n"
     ]
    },
    {
     "name": "stderr",
     "output_type": "stream",
     "text": [
      "\n",
      "[*********************100%***********************]  1 of 1 completed"
     ]
    },
    {
     "name": "stdout",
     "output_type": "stream",
     "text": [
      "Data for Pentair (PNR) saved to data/US-500\\Pentair_PNR_2020_2024.csv\n",
      "Data for PepsiCo (PEP) saved to data/US-500\\PepsiCo_PEP_2020_2024.csv\n"
     ]
    },
    {
     "name": "stderr",
     "output_type": "stream",
     "text": [
      "\n",
      "[*********************100%***********************]  1 of 1 completed\n",
      "[*********************100%***********************]  1 of 1 completed"
     ]
    },
    {
     "name": "stdout",
     "output_type": "stream",
     "text": [
      "Data for Pfizer (PFE) saved to data/US-500\\Pfizer_PFE_2020_2024.csv\n"
     ]
    },
    {
     "name": "stderr",
     "output_type": "stream",
     "text": [
      "\n",
      "[*********************100%***********************]  1 of 1 completed\n"
     ]
    },
    {
     "name": "stdout",
     "output_type": "stream",
     "text": [
      "Data for PG&E Corporation (PCG) saved to data/US-500\\PG&E Corporation_PCG_2020_2024.csv\n",
      "Data for Philip Morris International (PM) saved to data/US-500\\Philip Morris International_PM_2020_2024.csv\n"
     ]
    },
    {
     "name": "stderr",
     "output_type": "stream",
     "text": [
      "[*********************100%***********************]  1 of 1 completed\n",
      "[*********************100%***********************]  1 of 1 completed"
     ]
    },
    {
     "name": "stdout",
     "output_type": "stream",
     "text": [
      "Data for Phillips 66 (PSX) saved to data/US-500\\Phillips 66_PSX_2020_2024.csv\n",
      "Data for Pinnacle West (PNW) saved to data/US-500\\Pinnacle West_PNW_2020_2024.csv\n"
     ]
    },
    {
     "name": "stderr",
     "output_type": "stream",
     "text": [
      "\n",
      "[*********************100%***********************]  1 of 1 completed\n",
      "[*********************100%***********************]  1 of 1 completed\n"
     ]
    },
    {
     "name": "stdout",
     "output_type": "stream",
     "text": [
      "Data for PNC Financial Services (PNC) saved to data/US-500\\PNC Financial Services_PNC_2020_2024.csv\n",
      "Data for Pool Corporation (POOL) saved to data/US-500\\Pool Corporation_POOL_2020_2024.csv\n"
     ]
    },
    {
     "name": "stderr",
     "output_type": "stream",
     "text": [
      "[*********************100%***********************]  1 of 1 completed\n",
      "[*********************100%***********************]  1 of 1 completed\n"
     ]
    },
    {
     "name": "stdout",
     "output_type": "stream",
     "text": [
      "Data for PPG Industries (PPG) saved to data/US-500\\PPG Industries_PPG_2020_2024.csv\n",
      "Data for PPL Corporation (PPL) saved to data/US-500\\PPL Corporation_PPL_2020_2024.csv\n"
     ]
    },
    {
     "name": "stderr",
     "output_type": "stream",
     "text": [
      "[*********************100%***********************]  1 of 1 completed\n",
      "[*********************100%***********************]  1 of 1 completed\n"
     ]
    },
    {
     "name": "stdout",
     "output_type": "stream",
     "text": [
      "Data for Principal Financial Group (PFG) saved to data/US-500\\Principal Financial Group_PFG_2020_2024.csv\n",
      "Data for Procter & Gamble (PG) saved to data/US-500\\Procter & Gamble_PG_2020_2024.csv\n"
     ]
    },
    {
     "name": "stderr",
     "output_type": "stream",
     "text": [
      "[*********************100%***********************]  1 of 1 completed\n",
      "[*********************100%***********************]  1 of 1 completed\n"
     ]
    },
    {
     "name": "stdout",
     "output_type": "stream",
     "text": [
      "Data for Progressive Corporation (PGR) saved to data/US-500\\Progressive Corporation_PGR_2020_2024.csv\n",
      "Data for Prologis (PLD) saved to data/US-500\\Prologis_PLD_2020_2024.csv\n"
     ]
    },
    {
     "name": "stderr",
     "output_type": "stream",
     "text": [
      "[*********************100%***********************]  1 of 1 completed\n",
      "[*********************100%***********************]  1 of 1 completed\n"
     ]
    },
    {
     "name": "stdout",
     "output_type": "stream",
     "text": [
      "Data for Prudential Financial (PRU) saved to data/US-500\\Prudential Financial_PRU_2020_2024.csv\n",
      "Data for Public Service Enterprise Group (PEG) saved to data/US-500\\Public Service Enterprise Group_PEG_2020_2024.csv\n"
     ]
    },
    {
     "name": "stderr",
     "output_type": "stream",
     "text": [
      "[*********************100%***********************]  1 of 1 completed\n",
      "[*********************100%***********************]  1 of 1 completed\n"
     ]
    },
    {
     "name": "stdout",
     "output_type": "stream",
     "text": [
      "Data for PTC Inc. (PTC) saved to data/US-500\\PTC Inc._PTC_2020_2024.csv\n",
      "Data for Public Storage (PSA) saved to data/US-500\\Public Storage_PSA_2020_2024.csv\n"
     ]
    },
    {
     "name": "stderr",
     "output_type": "stream",
     "text": [
      "[*********************100%***********************]  1 of 1 completed\n",
      "[*********************100%***********************]  1 of 1 completed"
     ]
    },
    {
     "name": "stdout",
     "output_type": "stream",
     "text": [
      "Data for PulteGroup (PHM) saved to data/US-500\\PulteGroup_PHM_2020_2024.csv\n"
     ]
    },
    {
     "name": "stderr",
     "output_type": "stream",
     "text": [
      "\n",
      "[*********************100%***********************]  1 of 1 completed\n"
     ]
    },
    {
     "name": "stdout",
     "output_type": "stream",
     "text": [
      "Data for Qorvo (QRVO) saved to data/US-500\\Qorvo_QRVO_2020_2024.csv\n",
      "Data for Quanta Services (PWR) saved to data/US-500\\Quanta Services_PWR_2020_2024.csv\n"
     ]
    },
    {
     "name": "stderr",
     "output_type": "stream",
     "text": [
      "[*********************100%***********************]  1 of 1 completed\n",
      "[*********************100%***********************]  1 of 1 completed"
     ]
    },
    {
     "name": "stdout",
     "output_type": "stream",
     "text": [
      "Data for Qualcomm (QCOM) saved to data/US-500\\Qualcomm_QCOM_2020_2024.csv\n",
      "Data for Quest Diagnostics (DGX) saved to data/US-500\\Quest Diagnostics_DGX_2020_2024.csv\n"
     ]
    },
    {
     "name": "stderr",
     "output_type": "stream",
     "text": [
      "\n",
      "[*********************100%***********************]  1 of 1 completed\n",
      "[*********************100%***********************]  1 of 1 completed\n"
     ]
    },
    {
     "name": "stdout",
     "output_type": "stream",
     "text": [
      "Data for Ralph Lauren Corporation (RL) saved to data/US-500\\Ralph Lauren Corporation_RL_2020_2024.csv\n",
      "Data for Raymond James Financial (RJF) saved to data/US-500\\Raymond James Financial_RJF_2020_2024.csv\n"
     ]
    },
    {
     "name": "stderr",
     "output_type": "stream",
     "text": [
      "[*********************100%***********************]  1 of 1 completed\n",
      "[*********************100%***********************]  1 of 1 completed"
     ]
    },
    {
     "name": "stdout",
     "output_type": "stream",
     "text": [
      "Data for RTX Corporation (RTX) saved to data/US-500\\RTX Corporation_RTX_2020_2024.csv\n"
     ]
    },
    {
     "name": "stderr",
     "output_type": "stream",
     "text": [
      "\n",
      "[*********************100%***********************]  1 of 1 completed\n"
     ]
    },
    {
     "name": "stdout",
     "output_type": "stream",
     "text": [
      "Data for Realty Income (O) saved to data/US-500\\Realty Income_O_2020_2024.csv\n",
      "Data for Regency Centers (REG) saved to data/US-500\\Regency Centers_REG_2020_2024.csv\n"
     ]
    },
    {
     "name": "stderr",
     "output_type": "stream",
     "text": [
      "[*********************100%***********************]  1 of 1 completed\n"
     ]
    },
    {
     "name": "stdout",
     "output_type": "stream",
     "text": [
      "Data for Regeneron Pharmaceuticals (REGN) saved to data/US-500\\Regeneron Pharmaceuticals_REGN_2020_2024.csv\n"
     ]
    },
    {
     "name": "stderr",
     "output_type": "stream",
     "text": [
      "[*********************100%***********************]  1 of 1 completed\n",
      "[*********************100%***********************]  1 of 1 completed"
     ]
    },
    {
     "name": "stdout",
     "output_type": "stream",
     "text": [
      "Data for Regions Financial Corporation (RF) saved to data/US-500\\Regions Financial Corporation_RF_2020_2024.csv\n",
      "Data for Republic Services (RSG) saved to data/US-500\\Republic Services_RSG_2020_2024.csv\n"
     ]
    },
    {
     "name": "stderr",
     "output_type": "stream",
     "text": [
      "\n",
      "[*********************100%***********************]  1 of 1 completed\n",
      "[*********************100%***********************]  1 of 1 completed"
     ]
    },
    {
     "name": "stdout",
     "output_type": "stream",
     "text": [
      "Data for ResMed (RMD) saved to data/US-500\\ResMed_RMD_2020_2024.csv\n"
     ]
    },
    {
     "name": "stderr",
     "output_type": "stream",
     "text": [
      "\n"
     ]
    },
    {
     "name": "stdout",
     "output_type": "stream",
     "text": [
      "Data for Revvity (RVTY) saved to data/US-500\\Revvity_RVTY_2020_2024.csv\n"
     ]
    },
    {
     "name": "stderr",
     "output_type": "stream",
     "text": [
      "[*********************100%***********************]  1 of 1 completed\n",
      "[*********************100%***********************]  1 of 1 completed\n"
     ]
    },
    {
     "name": "stdout",
     "output_type": "stream",
     "text": [
      "Data for Rockwell Automation (ROK) saved to data/US-500\\Rockwell Automation_ROK_2020_2024.csv\n",
      "Data for Rollins, Inc. (ROL) saved to data/US-500\\Rollins, Inc._ROL_2020_2024.csv\n"
     ]
    },
    {
     "name": "stderr",
     "output_type": "stream",
     "text": [
      "[*********************100%***********************]  1 of 1 completed\n",
      "[*********************100%***********************]  1 of 1 completed"
     ]
    },
    {
     "name": "stdout",
     "output_type": "stream",
     "text": [
      "Data for Roper Technologies (ROP) saved to data/US-500\\Roper Technologies_ROP_2020_2024.csv\n",
      "Data for Ross Stores (ROST) saved to data/US-500\\Ross Stores_ROST_2020_2024.csv\n"
     ]
    },
    {
     "name": "stderr",
     "output_type": "stream",
     "text": [
      "\n",
      "[*********************100%***********************]  1 of 1 completed\n",
      "[*********************100%***********************]  1 of 1 completed"
     ]
    },
    {
     "name": "stdout",
     "output_type": "stream",
     "text": [
      "Data for Royal Caribbean Group (RCL) saved to data/US-500\\Royal Caribbean Group_RCL_2020_2024.csv\n",
      "Data for S&P Global (SPGI) saved to data/US-500\\S&P Global_SPGI_2020_2024.csv\n"
     ]
    },
    {
     "name": "stderr",
     "output_type": "stream",
     "text": [
      "\n",
      "[*********************100%***********************]  1 of 1 completed\n",
      "[*********************100%***********************]  1 of 1 completed\n"
     ]
    },
    {
     "name": "stdout",
     "output_type": "stream",
     "text": [
      "Data for Salesforce (CRM) saved to data/US-500\\Salesforce_CRM_2020_2024.csv\n",
      "Data for SBA Communications (SBAC) saved to data/US-500\\SBA Communications_SBAC_2020_2024.csv\n"
     ]
    },
    {
     "name": "stderr",
     "output_type": "stream",
     "text": [
      "[*********************100%***********************]  1 of 1 completed\n",
      "[*********************100%***********************]  1 of 1 completed"
     ]
    },
    {
     "name": "stdout",
     "output_type": "stream",
     "text": [
      "Data for Schlumberger (SLB) saved to data/US-500\\Schlumberger_SLB_2020_2024.csv\n",
      "Data for Seagate Technology (STX) saved to data/US-500\\Seagate Technology_STX_2020_2024.csv\n"
     ]
    },
    {
     "name": "stderr",
     "output_type": "stream",
     "text": [
      "\n",
      "[*********************100%***********************]  1 of 1 completed\n",
      "[*********************100%***********************]  1 of 1 completed\n"
     ]
    },
    {
     "name": "stdout",
     "output_type": "stream",
     "text": [
      "Data for Sempra (SRE) saved to data/US-500\\Sempra_SRE_2020_2024.csv\n",
      "Data for ServiceNow (NOW) saved to data/US-500\\ServiceNow_NOW_2020_2024.csv\n"
     ]
    },
    {
     "name": "stderr",
     "output_type": "stream",
     "text": [
      "[*********************100%***********************]  1 of 1 completed\n",
      "[*********************100%***********************]  1 of 1 completed"
     ]
    },
    {
     "name": "stdout",
     "output_type": "stream",
     "text": [
      "Data for Sherwin-Williams (SHW) saved to data/US-500\\Sherwin-Williams_SHW_2020_2024.csv\n",
      "Data for Simon Property Group (SPG) saved to data/US-500\\Simon Property Group_SPG_2020_2024.csv\n"
     ]
    },
    {
     "name": "stderr",
     "output_type": "stream",
     "text": [
      "\n",
      "[*********************100%***********************]  1 of 1 completed\n",
      "[*********************100%***********************]  1 of 1 completed"
     ]
    },
    {
     "name": "stdout",
     "output_type": "stream",
     "text": [
      "Data for Skyworks Solutions (SWKS) saved to data/US-500\\Skyworks Solutions_SWKS_2020_2024.csv\n"
     ]
    },
    {
     "name": "stderr",
     "output_type": "stream",
     "text": [
      "\n",
      "[*********************100%***********************]  1 of 1 completed\n"
     ]
    },
    {
     "name": "stdout",
     "output_type": "stream",
     "text": [
      "Data for J.M. Smucker Company (The) (SJM) saved to data/US-500\\J.M. Smucker Company (The)_SJM_2020_2024.csv\n",
      "Data for Smurfit WestRock (SW) saved to data/US-500\\Smurfit WestRock_SW_2020_2024.csv\n"
     ]
    },
    {
     "name": "stderr",
     "output_type": "stream",
     "text": [
      "[*********************100%***********************]  1 of 1 completed\n",
      "[*********************100%***********************]  1 of 1 completed\n"
     ]
    },
    {
     "name": "stdout",
     "output_type": "stream",
     "text": [
      "Data for Snap-on (SNA) saved to data/US-500\\Snap-on_SNA_2020_2024.csv\n",
      "Data for Solventum (SOLV) saved to data/US-500\\Solventum_SOLV_2020_2024.csv\n"
     ]
    },
    {
     "name": "stderr",
     "output_type": "stream",
     "text": [
      "[*********************100%***********************]  1 of 1 completed\n",
      "[*********************100%***********************]  1 of 1 completed"
     ]
    },
    {
     "name": "stdout",
     "output_type": "stream",
     "text": [
      "Data for Southern Company (SO) saved to data/US-500\\Southern Company_SO_2020_2024.csv\n"
     ]
    },
    {
     "name": "stderr",
     "output_type": "stream",
     "text": [
      "\n",
      "[*********************100%***********************]  1 of 1 completed"
     ]
    },
    {
     "name": "stdout",
     "output_type": "stream",
     "text": [
      "Data for Southwest Airlines (LUV) saved to data/US-500\\Southwest Airlines_LUV_2020_2024.csv\n"
     ]
    },
    {
     "name": "stderr",
     "output_type": "stream",
     "text": [
      "\n",
      "[*********************100%***********************]  1 of 1 completed"
     ]
    },
    {
     "name": "stdout",
     "output_type": "stream",
     "text": [
      "Data for Stanley Black & Decker (SWK) saved to data/US-500\\Stanley Black & Decker_SWK_2020_2024.csv\n",
      "Data for Starbucks (SBUX) saved to data/US-500\\Starbucks_SBUX_2020_2024.csv\n"
     ]
    },
    {
     "name": "stderr",
     "output_type": "stream",
     "text": [
      "\n",
      "[*********************100%***********************]  1 of 1 completed\n",
      "[*********************100%***********************]  1 of 1 completed"
     ]
    },
    {
     "name": "stdout",
     "output_type": "stream",
     "text": [
      "Data for State Street Corporation (STT) saved to data/US-500\\State Street Corporation_STT_2020_2024.csv\n"
     ]
    },
    {
     "name": "stderr",
     "output_type": "stream",
     "text": [
      "\n"
     ]
    },
    {
     "name": "stdout",
     "output_type": "stream",
     "text": [
      "Data for Steel Dynamics (STLD) saved to data/US-500\\Steel Dynamics_STLD_2020_2024.csv\n"
     ]
    },
    {
     "name": "stderr",
     "output_type": "stream",
     "text": [
      "[*********************100%***********************]  1 of 1 completed\n"
     ]
    },
    {
     "name": "stdout",
     "output_type": "stream",
     "text": [
      "Data for Steris (STE) saved to data/US-500\\Steris_STE_2020_2024.csv\n"
     ]
    },
    {
     "name": "stderr",
     "output_type": "stream",
     "text": [
      "[*********************100%***********************]  1 of 1 completed\n",
      "[*********************100%***********************]  1 of 1 completed"
     ]
    },
    {
     "name": "stdout",
     "output_type": "stream",
     "text": [
      "Data for Stryker Corporation (SYK) saved to data/US-500\\Stryker Corporation_SYK_2020_2024.csv\n"
     ]
    },
    {
     "name": "stderr",
     "output_type": "stream",
     "text": [
      "\n",
      "[*********************100%***********************]  1 of 1 completed"
     ]
    },
    {
     "name": "stdout",
     "output_type": "stream",
     "text": [
      "Data for Supermicro (SMCI) saved to data/US-500\\Supermicro_SMCI_2020_2024.csv\n"
     ]
    },
    {
     "name": "stderr",
     "output_type": "stream",
     "text": [
      "\n",
      "[*********************100%***********************]  1 of 1 completed"
     ]
    },
    {
     "name": "stdout",
     "output_type": "stream",
     "text": [
      "Data for Synchrony Financial (SYF) saved to data/US-500\\Synchrony Financial_SYF_2020_2024.csv\n"
     ]
    },
    {
     "name": "stderr",
     "output_type": "stream",
     "text": [
      "\n"
     ]
    },
    {
     "name": "stdout",
     "output_type": "stream",
     "text": [
      "Data for Synopsys (SNPS) saved to data/US-500\\Synopsys_SNPS_2020_2024.csv\n"
     ]
    },
    {
     "name": "stderr",
     "output_type": "stream",
     "text": [
      "[*********************100%***********************]  1 of 1 completed\n",
      "[*********************100%***********************]  1 of 1 completed\n"
     ]
    },
    {
     "name": "stdout",
     "output_type": "stream",
     "text": [
      "Data for Sysco (SYY) saved to data/US-500\\Sysco_SYY_2020_2024.csv\n",
      "Data for T-Mobile US (TMUS) saved to data/US-500\\T-Mobile US_TMUS_2020_2024.csv\n"
     ]
    },
    {
     "name": "stderr",
     "output_type": "stream",
     "text": [
      "[*********************100%***********************]  1 of 1 completed\n",
      "[*********************100%***********************]  1 of 1 completed"
     ]
    },
    {
     "name": "stdout",
     "output_type": "stream",
     "text": [
      "Data for T. Rowe Price (TROW) saved to data/US-500\\T. Rowe Price_TROW_2020_2024.csv\n",
      "Data for Take-Two Interactive (TTWO) saved to data/US-500\\Take-Two Interactive_TTWO_2020_2024.csv\n"
     ]
    },
    {
     "name": "stderr",
     "output_type": "stream",
     "text": [
      "\n",
      "[*********************100%***********************]  1 of 1 completed\n",
      "[*********************100%***********************]  1 of 1 completed"
     ]
    },
    {
     "name": "stdout",
     "output_type": "stream",
     "text": [
      "Data for Tapestry, Inc. (TPR) saved to data/US-500\\Tapestry, Inc._TPR_2020_2024.csv\n",
      "Data for Targa Resources (TRGP) saved to data/US-500\\Targa Resources_TRGP_2020_2024.csv\n"
     ]
    },
    {
     "name": "stderr",
     "output_type": "stream",
     "text": [
      "\n",
      "[*********************100%***********************]  1 of 1 completed\n",
      "[*********************100%***********************]  1 of 1 completed"
     ]
    },
    {
     "name": "stdout",
     "output_type": "stream",
     "text": [
      "Data for Target Corporation (TGT) saved to data/US-500\\Target Corporation_TGT_2020_2024.csv\n",
      "Data for TE Connectivity (TEL) saved to data/US-500\\TE Connectivity_TEL_2020_2024.csv\n"
     ]
    },
    {
     "name": "stderr",
     "output_type": "stream",
     "text": [
      "\n",
      "[*********************100%***********************]  1 of 1 completed\n",
      "[*********************100%***********************]  1 of 1 completed"
     ]
    },
    {
     "name": "stdout",
     "output_type": "stream",
     "text": [
      "Data for Teledyne Technologies (TDY) saved to data/US-500\\Teledyne Technologies_TDY_2020_2024.csv\n"
     ]
    },
    {
     "name": "stderr",
     "output_type": "stream",
     "text": [
      "\n",
      "[*********************100%***********************]  1 of 1 completed"
     ]
    },
    {
     "name": "stdout",
     "output_type": "stream",
     "text": [
      "Data for Teleflex (TFX) saved to data/US-500\\Teleflex_TFX_2020_2024.csv\n"
     ]
    },
    {
     "name": "stderr",
     "output_type": "stream",
     "text": [
      "\n"
     ]
    },
    {
     "name": "stdout",
     "output_type": "stream",
     "text": [
      "Data for Teradyne (TER) saved to data/US-500\\Teradyne_TER_2020_2024.csv\n"
     ]
    },
    {
     "name": "stderr",
     "output_type": "stream",
     "text": [
      "[*********************100%***********************]  1 of 1 completed\n"
     ]
    },
    {
     "name": "stdout",
     "output_type": "stream",
     "text": [
      "Data for Tesla, Inc. (TSLA) saved to data/US-500\\Tesla, Inc._TSLA_2020_2024.csv\n"
     ]
    },
    {
     "name": "stderr",
     "output_type": "stream",
     "text": [
      "[*********************100%***********************]  1 of 1 completed\n",
      "[*********************100%***********************]  1 of 1 completed"
     ]
    },
    {
     "name": "stdout",
     "output_type": "stream",
     "text": [
      "Data for Texas Instruments (TXN) saved to data/US-500\\Texas Instruments_TXN_2020_2024.csv\n",
      "Data for Texas Pacific Land Corporation (TPL) saved to data/US-500\\Texas Pacific Land Corporation_TPL_2020_2024.csv\n"
     ]
    },
    {
     "name": "stderr",
     "output_type": "stream",
     "text": [
      "\n",
      "[*********************100%***********************]  1 of 1 completed\n",
      "[*********************100%***********************]  1 of 1 completed"
     ]
    },
    {
     "name": "stdout",
     "output_type": "stream",
     "text": [
      "Data for Textron (TXT) saved to data/US-500\\Textron_TXT_2020_2024.csv\n"
     ]
    },
    {
     "name": "stderr",
     "output_type": "stream",
     "text": [
      "\n",
      "[*********************100%***********************]  1 of 1 completed"
     ]
    },
    {
     "name": "stdout",
     "output_type": "stream",
     "text": [
      "Data for Thermo Fisher Scientific (TMO) saved to data/US-500\\Thermo Fisher Scientific_TMO_2020_2024.csv\n",
      "Data for TJX Companies (TJX) saved to data/US-500\\TJX Companies_TJX_2020_2024.csv\n"
     ]
    },
    {
     "name": "stderr",
     "output_type": "stream",
     "text": [
      "\n",
      "[*********************100%***********************]  1 of 1 completed\n",
      "[*********************100%***********************]  1 of 1 completed"
     ]
    },
    {
     "name": "stdout",
     "output_type": "stream",
     "text": [
      "Data for Tractor Supply (TSCO) saved to data/US-500\\Tractor Supply_TSCO_2020_2024.csv\n"
     ]
    },
    {
     "name": "stderr",
     "output_type": "stream",
     "text": [
      "\n",
      "[*********************100%***********************]  1 of 1 completed\n"
     ]
    },
    {
     "name": "stdout",
     "output_type": "stream",
     "text": [
      "Data for Trane Technologies (TT) saved to data/US-500\\Trane Technologies_TT_2020_2024.csv\n",
      "Data for TransDigm Group (TDG) saved to data/US-500\\TransDigm Group_TDG_2020_2024.csv\n"
     ]
    },
    {
     "name": "stderr",
     "output_type": "stream",
     "text": [
      "[*********************100%***********************]  1 of 1 completed\n",
      "[*********************100%***********************]  1 of 1 completed\n"
     ]
    },
    {
     "name": "stdout",
     "output_type": "stream",
     "text": [
      "Data for Travelers Companies (The) (TRV) saved to data/US-500\\Travelers Companies (The)_TRV_2020_2024.csv\n",
      "Data for Trimble Inc. (TRMB) saved to data/US-500\\Trimble Inc._TRMB_2020_2024.csv\n"
     ]
    },
    {
     "name": "stderr",
     "output_type": "stream",
     "text": [
      "[*********************100%***********************]  1 of 1 completed\n",
      "[*********************100%***********************]  1 of 1 completed\n"
     ]
    },
    {
     "name": "stdout",
     "output_type": "stream",
     "text": [
      "Data for Truist Financial (TFC) saved to data/US-500\\Truist Financial_TFC_2020_2024.csv\n",
      "Data for Tyler Technologies (TYL) saved to data/US-500\\Tyler Technologies_TYL_2020_2024.csv\n"
     ]
    },
    {
     "name": "stderr",
     "output_type": "stream",
     "text": [
      "[*********************100%***********************]  1 of 1 completed\n",
      "[*********************100%***********************]  1 of 1 completed\n"
     ]
    },
    {
     "name": "stdout",
     "output_type": "stream",
     "text": [
      "Data for Tyson Foods (TSN) saved to data/US-500\\Tyson Foods_TSN_2020_2024.csv\n",
      "Data for U.S. Bancorp (USB) saved to data/US-500\\U.S. Bancorp_USB_2020_2024.csv\n"
     ]
    },
    {
     "name": "stderr",
     "output_type": "stream",
     "text": [
      "[*********************100%***********************]  1 of 1 completed\n",
      "[*********************100%***********************]  1 of 1 completed\n"
     ]
    },
    {
     "name": "stdout",
     "output_type": "stream",
     "text": [
      "Data for Uber (UBER) saved to data/US-500\\Uber_UBER_2020_2024.csv\n",
      "Data for UDR, Inc. (UDR) saved to data/US-500\\UDR, Inc._UDR_2020_2024.csv\n"
     ]
    },
    {
     "name": "stderr",
     "output_type": "stream",
     "text": [
      "[*********************100%***********************]  1 of 1 completed\n",
      "[*********************100%***********************]  1 of 1 completed"
     ]
    },
    {
     "name": "stdout",
     "output_type": "stream",
     "text": [
      "Data for Ulta Beauty (ULTA) saved to data/US-500\\Ulta Beauty_ULTA_2020_2024.csv\n",
      "Data for Union Pacific Corporation (UNP) saved to data/US-500\\Union Pacific Corporation_UNP_2020_2024.csv\n"
     ]
    },
    {
     "name": "stderr",
     "output_type": "stream",
     "text": [
      "\n",
      "[*********************100%***********************]  1 of 1 completed\n",
      "[*********************100%***********************]  1 of 1 completed"
     ]
    },
    {
     "name": "stdout",
     "output_type": "stream",
     "text": [
      "Data for United Airlines Holdings (UAL) saved to data/US-500\\United Airlines Holdings_UAL_2020_2024.csv\n"
     ]
    },
    {
     "name": "stderr",
     "output_type": "stream",
     "text": [
      "\n",
      "[*********************100%***********************]  1 of 1 completed\n"
     ]
    },
    {
     "name": "stdout",
     "output_type": "stream",
     "text": [
      "Data for United Parcel Service (UPS) saved to data/US-500\\United Parcel Service_UPS_2020_2024.csv\n",
      "Data for United Rentals (URI) saved to data/US-500\\United Rentals_URI_2020_2024.csv\n"
     ]
    },
    {
     "name": "stderr",
     "output_type": "stream",
     "text": [
      "[*********************100%***********************]  1 of 1 completed\n",
      "[*********************100%***********************]  1 of 1 completed\n"
     ]
    },
    {
     "name": "stdout",
     "output_type": "stream",
     "text": [
      "Data for UnitedHealth Group (UNH) saved to data/US-500\\UnitedHealth Group_UNH_2020_2024.csv\n",
      "Data for Universal Health Services (UHS) saved to data/US-500\\Universal Health Services_UHS_2020_2024.csv\n"
     ]
    },
    {
     "name": "stderr",
     "output_type": "stream",
     "text": [
      "[*********************100%***********************]  1 of 1 completed\n",
      "[*********************100%***********************]  1 of 1 completed"
     ]
    },
    {
     "name": "stdout",
     "output_type": "stream",
     "text": [
      "Data for Valero Energy (VLO) saved to data/US-500\\Valero Energy_VLO_2020_2024.csv\n",
      "Data for Ventas (VTR) saved to data/US-500\\Ventas_VTR_2020_2024.csv\n"
     ]
    },
    {
     "name": "stderr",
     "output_type": "stream",
     "text": [
      "\n",
      "[*********************100%***********************]  1 of 1 completed\n",
      "[*********************100%***********************]  1 of 1 completed\n"
     ]
    },
    {
     "name": "stdout",
     "output_type": "stream",
     "text": [
      "Data for Veralto (VLTO) saved to data/US-500\\Veralto_VLTO_2020_2024.csv\n",
      "Data for Verisign (VRSN) saved to data/US-500\\Verisign_VRSN_2020_2024.csv\n"
     ]
    },
    {
     "name": "stderr",
     "output_type": "stream",
     "text": [
      "[*********************100%***********************]  1 of 1 completed\n",
      "[*********************100%***********************]  1 of 1 completed\n"
     ]
    },
    {
     "name": "stdout",
     "output_type": "stream",
     "text": [
      "Data for Verisk Analytics (VRSK) saved to data/US-500\\Verisk Analytics_VRSK_2020_2024.csv\n",
      "Data for Verizon (VZ) saved to data/US-500\\Verizon_VZ_2020_2024.csv\n"
     ]
    },
    {
     "name": "stderr",
     "output_type": "stream",
     "text": [
      "[*********************100%***********************]  1 of 1 completed\n",
      "[*********************100%***********************]  1 of 1 completed\n"
     ]
    },
    {
     "name": "stdout",
     "output_type": "stream",
     "text": [
      "Data for Vertex Pharmaceuticals (VRTX) saved to data/US-500\\Vertex Pharmaceuticals_VRTX_2020_2024.csv\n",
      "Data for Viatris (VTRS) saved to data/US-500\\Viatris_VTRS_2020_2024.csv\n"
     ]
    },
    {
     "name": "stderr",
     "output_type": "stream",
     "text": [
      "[*********************100%***********************]  1 of 1 completed\n",
      "[*********************100%***********************]  1 of 1 completed\n"
     ]
    },
    {
     "name": "stdout",
     "output_type": "stream",
     "text": [
      "Data for Vici Properties (VICI) saved to data/US-500\\Vici Properties_VICI_2020_2024.csv\n",
      "Data for Visa Inc. (V) saved to data/US-500\\Visa Inc._V_2020_2024.csv\n"
     ]
    },
    {
     "name": "stderr",
     "output_type": "stream",
     "text": [
      "[*********************100%***********************]  1 of 1 completed\n",
      "[*********************100%***********************]  1 of 1 completed\n"
     ]
    },
    {
     "name": "stdout",
     "output_type": "stream",
     "text": [
      "Data for Vistra Corp. (VST) saved to data/US-500\\Vistra Corp._VST_2020_2024.csv\n",
      "Data for Vulcan Materials Company (VMC) saved to data/US-500\\Vulcan Materials Company_VMC_2020_2024.csv\n"
     ]
    },
    {
     "name": "stderr",
     "output_type": "stream",
     "text": [
      "[*********************100%***********************]  1 of 1 completed\n",
      "[*********************100%***********************]  1 of 1 completed\n"
     ]
    },
    {
     "name": "stdout",
     "output_type": "stream",
     "text": [
      "Data for W. R. Berkley Corporation (WRB) saved to data/US-500\\W. R. Berkley Corporation_WRB_2020_2024.csv\n",
      "Data for W. W. Grainger (GWW) saved to data/US-500\\W. W. Grainger_GWW_2020_2024.csv\n"
     ]
    },
    {
     "name": "stderr",
     "output_type": "stream",
     "text": [
      "[*********************100%***********************]  1 of 1 completed\n",
      "[*********************100%***********************]  1 of 1 completed\n"
     ]
    },
    {
     "name": "stdout",
     "output_type": "stream",
     "text": [
      "Data for Wabtec (WAB) saved to data/US-500\\Wabtec_WAB_2020_2024.csv\n",
      "Data for Walgreens Boots Alliance (WBA) saved to data/US-500\\Walgreens Boots Alliance_WBA_2020_2024.csv\n"
     ]
    },
    {
     "name": "stderr",
     "output_type": "stream",
     "text": [
      "[*********************100%***********************]  1 of 1 completed\n",
      "[*********************100%***********************]  1 of 1 completed"
     ]
    },
    {
     "name": "stdout",
     "output_type": "stream",
     "text": [
      "Data for Walmart (WMT) saved to data/US-500\\Walmart_WMT_2020_2024.csv\n"
     ]
    },
    {
     "name": "stderr",
     "output_type": "stream",
     "text": [
      "\n",
      "[*********************100%***********************]  1 of 1 completed\n"
     ]
    },
    {
     "name": "stdout",
     "output_type": "stream",
     "text": [
      "Data for Walt Disney Company (The) (DIS) saved to data/US-500\\Walt Disney Company (The)_DIS_2020_2024.csv\n",
      "Data for Warner Bros. Discovery (WBD) saved to data/US-500\\Warner Bros. Discovery_WBD_2020_2024.csv\n"
     ]
    },
    {
     "name": "stderr",
     "output_type": "stream",
     "text": [
      "[*********************100%***********************]  1 of 1 completed\n",
      "[*********************100%***********************]  1 of 1 completed\n"
     ]
    },
    {
     "name": "stdout",
     "output_type": "stream",
     "text": [
      "Data for Waste Management (WM) saved to data/US-500\\Waste Management_WM_2020_2024.csv\n",
      "Data for Waters Corporation (WAT) saved to data/US-500\\Waters Corporation_WAT_2020_2024.csv\n"
     ]
    },
    {
     "name": "stderr",
     "output_type": "stream",
     "text": [
      "[*********************100%***********************]  1 of 1 completed\n",
      "[*********************100%***********************]  1 of 1 completed\n"
     ]
    },
    {
     "name": "stdout",
     "output_type": "stream",
     "text": [
      "Data for WEC Energy Group (WEC) saved to data/US-500\\WEC Energy Group_WEC_2020_2024.csv\n",
      "Data for Wells Fargo (WFC) saved to data/US-500\\Wells Fargo_WFC_2020_2024.csv\n"
     ]
    },
    {
     "name": "stderr",
     "output_type": "stream",
     "text": [
      "[*********************100%***********************]  1 of 1 completed\n",
      "[*********************100%***********************]  1 of 1 completed\n"
     ]
    },
    {
     "name": "stdout",
     "output_type": "stream",
     "text": [
      "Data for Welltower (WELL) saved to data/US-500\\Welltower_WELL_2020_2024.csv\n",
      "Data for West Pharmaceutical Services (WST) saved to data/US-500\\West Pharmaceutical Services_WST_2020_2024.csv\n"
     ]
    },
    {
     "name": "stderr",
     "output_type": "stream",
     "text": [
      "[*********************100%***********************]  1 of 1 completed\n",
      "[*********************100%***********************]  1 of 1 completed\n"
     ]
    },
    {
     "name": "stdout",
     "output_type": "stream",
     "text": [
      "Data for Western Digital (WDC) saved to data/US-500\\Western Digital_WDC_2020_2024.csv\n",
      "Data for Weyerhaeuser (WY) saved to data/US-500\\Weyerhaeuser_WY_2020_2024.csv\n"
     ]
    },
    {
     "name": "stderr",
     "output_type": "stream",
     "text": [
      "[*********************100%***********************]  1 of 1 completed\n",
      "[*********************100%***********************]  1 of 1 completed\n"
     ]
    },
    {
     "name": "stdout",
     "output_type": "stream",
     "text": [
      "Data for Williams Companies (WMB) saved to data/US-500\\Williams Companies_WMB_2020_2024.csv\n",
      "Data for Willis Towers Watson (WTW) saved to data/US-500\\Willis Towers Watson_WTW_2020_2024.csv\n"
     ]
    },
    {
     "name": "stderr",
     "output_type": "stream",
     "text": [
      "[*********************100%***********************]  1 of 1 completed\n",
      "[*********************100%***********************]  1 of 1 completed\n"
     ]
    },
    {
     "name": "stdout",
     "output_type": "stream",
     "text": [
      "Data for Wynn Resorts (WYNN) saved to data/US-500\\Wynn Resorts_WYNN_2020_2024.csv\n",
      "Data for Xcel Energy (XEL) saved to data/US-500\\Xcel Energy_XEL_2020_2024.csv\n"
     ]
    },
    {
     "name": "stderr",
     "output_type": "stream",
     "text": [
      "[*********************100%***********************]  1 of 1 completed\n",
      "[*********************100%***********************]  1 of 1 completed\n"
     ]
    },
    {
     "name": "stdout",
     "output_type": "stream",
     "text": [
      "Data for Xylem Inc. (XYL) saved to data/US-500\\Xylem Inc._XYL_2020_2024.csv\n",
      "Data for Yum! Brands (YUM) saved to data/US-500\\Yum! Brands_YUM_2020_2024.csv\n"
     ]
    },
    {
     "name": "stderr",
     "output_type": "stream",
     "text": [
      "[*********************100%***********************]  1 of 1 completed\n",
      "[*********************100%***********************]  1 of 1 completed\n"
     ]
    },
    {
     "name": "stdout",
     "output_type": "stream",
     "text": [
      "Data for Zebra Technologies (ZBRA) saved to data/US-500\\Zebra Technologies_ZBRA_2020_2024.csv\n",
      "Data for Zimmer Biomet (ZBH) saved to data/US-500\\Zimmer Biomet_ZBH_2020_2024.csv\n"
     ]
    },
    {
     "name": "stderr",
     "output_type": "stream",
     "text": [
      "[*********************100%***********************]  1 of 1 completed"
     ]
    },
    {
     "name": "stdout",
     "output_type": "stream",
     "text": [
      "Data for Zoetis (ZTS) saved to data/US-500\\Zoetis_ZTS_2020_2024.csv\n"
     ]
    },
    {
     "name": "stderr",
     "output_type": "stream",
     "text": [
      "\n"
     ]
    }
   ],
   "source": [
    "# Create the directory structure to save the files\n",
    "save_dir = 'data/US-500'\n",
    "os.makedirs(save_dir, exist_ok=True)\n",
    "\n",
    "# Fetch historical data for each company in the Dow Jones Industrial Average\n",
    "for company, ticker in dow_jones_tickers:\n",
    "    # Fetch the data\n",
    "    data = yf.download(ticker, start=\"2020-01-01\", end=\"2024-11-12\")\n",
    "    \n",
    "    # Save the data to a CSV file in the specified folder\n",
    "    file_path = os.path.join(save_dir, f\"{company}_{ticker}_2020_2024.csv\")\n",
    "    data.to_csv(file_path)\n",
    "\n",
    "    print(f\"Data for {company} ({ticker}) saved to {file_path}\")"
   ]
  },
  {
   "cell_type": "code",
   "execution_count": null,
   "metadata": {},
   "outputs": [],
   "source": []
  }
 ],
 "metadata": {
  "kernelspec": {
   "display_name": "Python 3",
   "language": "python",
   "name": "python3"
  },
  "language_info": {
   "codemirror_mode": {
    "name": "ipython",
    "version": 3
   },
   "file_extension": ".py",
   "mimetype": "text/x-python",
   "name": "python",
   "nbconvert_exporter": "python",
   "pygments_lexer": "ipython3",
   "version": "3.10.0"
  }
 },
 "nbformat": 4,
 "nbformat_minor": 2
}
