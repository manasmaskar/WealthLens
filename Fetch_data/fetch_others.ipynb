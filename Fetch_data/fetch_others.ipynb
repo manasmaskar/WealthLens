{
 "cells": [
  {
   "cell_type": "code",
   "execution_count": 7,
   "metadata": {},
   "outputs": [],
   "source": [
    "import yfinance as yf\n",
    "import time\n"
   ]
  },
  {
   "cell_type": "code",
   "execution_count": 8,
   "metadata": {},
   "outputs": [],
   "source": [
    "\n",
    "# List of symbols and their corresponding alternative Yahoo Finance tickers\n",
    "symbols = {\n",
    "    'USSC2000.IDXUSD': '^RUT',          # Russell 2000 Index\n",
    "    'UKGILT.TRGBP': 'IGLT.L',           # UK Gilts ETF\n",
    "    'AUDUSD': 'AUDUSD=X',               # Australian Dollar / US Dollar\n",
    "    'XAUUSD': 'XAUUSD=X',               # Gold / USD\n",
    "    'USDCAD': 'USDCAD=X',               # US Dollar / Canadian Dollar\n",
    "    'DIESEL.CMDUSD': 'HO=F'             # Heating Oil Futures as an alternative for Diesel\n",
    "}\n",
    "\n"
   ]
  },
  {
   "cell_type": "code",
   "execution_count": 9,
   "metadata": {},
   "outputs": [
    {
     "name": "stdout",
     "output_type": "stream",
     "text": [
      "Fetching data for ^RUT...\n"
     ]
    },
    {
     "name": "stderr",
     "output_type": "stream",
     "text": [
      "[*********************100%%**********************]  1 of 1 completed\n"
     ]
    },
    {
     "name": "stdout",
     "output_type": "stream",
     "text": [
      "Downloaded and saved data for ^RUT as USSC2000.IDXUSD_2020_2024.csv\n",
      "Fetching data for IGLT.L...\n"
     ]
    },
    {
     "name": "stderr",
     "output_type": "stream",
     "text": [
      "[*********************100%%**********************]  1 of 1 completed\n"
     ]
    },
    {
     "name": "stdout",
     "output_type": "stream",
     "text": [
      "Downloaded and saved data for IGLT.L as UKGILT.TRGBP_2020_2024.csv\n"
     ]
    },
    {
     "name": "stderr",
     "output_type": "stream",
     "text": [
      "[*********************100%%**********************]  1 of 1 completed"
     ]
    },
    {
     "name": "stdout",
     "output_type": "stream",
     "text": [
      "Fetching data for AUDUSD=X...\n",
      "Downloaded and saved data for AUDUSD=X as AUDUSD_2020_2024.csv\n"
     ]
    },
    {
     "name": "stderr",
     "output_type": "stream",
     "text": [
      "\n",
      "[*********************100%%**********************]  1 of 1 completed\n",
      "\n",
      "1 Failed download:\n",
      "['XAUUSD=X']: Exception('%ticker%: No timezone found, symbol may be delisted')\n"
     ]
    },
    {
     "name": "stdout",
     "output_type": "stream",
     "text": [
      "Fetching data for XAUUSD=X...\n",
      "No data found for XAUUSD=X\n"
     ]
    },
    {
     "name": "stderr",
     "output_type": "stream",
     "text": [
      "[*********************100%%**********************]  1 of 1 completed"
     ]
    },
    {
     "name": "stdout",
     "output_type": "stream",
     "text": [
      "Fetching data for USDCAD=X...\n",
      "Downloaded and saved data for USDCAD=X as USDCAD_2020_2024.csv\n"
     ]
    },
    {
     "name": "stderr",
     "output_type": "stream",
     "text": [
      "\n",
      "[*********************100%%**********************]  1 of 1 completed"
     ]
    },
    {
     "name": "stdout",
     "output_type": "stream",
     "text": [
      "Fetching data for HO=F...\n",
      "Downloaded and saved data for HO=F as DIESEL.CMDUSD_2020_2024.csv\n"
     ]
    },
    {
     "name": "stderr",
     "output_type": "stream",
     "text": [
      "\n"
     ]
    }
   ],
   "source": [
    "# Fetch and save data with the original names\n",
    "for original_name, yahoo_symbol in symbols.items():\n",
    "    print(f\"Fetching data for {yahoo_symbol}...\")\n",
    "    try:\n",
    "        # Download historical data (2020 to 2024)\n",
    "        data = yf.download(yahoo_symbol, start=\"2020-01-01\", end=\"2024-12-31\", interval=\"1d\")\n",
    "        \n",
    "        if not data.empty:\n",
    "            filename = f\"{original_name}_2020_2024.csv\"\n",
    "            data.to_csv(filename)\n",
    "            print(f\"Downloaded and saved data for {yahoo_symbol} as {filename}\")\n",
    "        else:\n",
    "            print(f\"No data found for {yahoo_symbol}\")\n",
    "    except Exception as e:\n",
    "        print(f\"Failed to download data for {yahoo_symbol}: {e}\")\n",
    "    \n",
    "    # Respect rate limits with a delay\n",
    "    time.sleep(12)\n"
   ]
  },
  {
   "cell_type": "code",
   "execution_count": 10,
   "metadata": {},
   "outputs": [],
   "source": [
    "#VWIU6O66787IXPBN"
   ]
  },
  {
   "cell_type": "code",
   "execution_count": 11,
   "metadata": {},
   "outputs": [
    {
     "name": "stderr",
     "output_type": "stream",
     "text": [
      "[*********************100%%**********************]  1 of 1 completed"
     ]
    },
    {
     "name": "stdout",
     "output_type": "stream",
     "text": [
      "Retrying data fetch for GC=F...\n",
      "Downloaded and saved data for GC=F as XAUUSD_2020_2024.csv\n"
     ]
    },
    {
     "name": "stderr",
     "output_type": "stream",
     "text": [
      "\n"
     ]
    }
   ],
   "source": [
    "# List of symbols that were not downloaded successfully and their alternative tickers\n",
    "retry_symbols = {\n",
    "    'XAUUSD': 'GC=F'  # Using Gold Futures as an alternative for Gold / USD\n",
    "}\n",
    "\n",
    "# Fetch and save data with the original names\n",
    "for original_name, yahoo_symbol in retry_symbols.items():\n",
    "    print(f\"Retrying data fetch for {yahoo_symbol}...\")\n",
    "    try:\n",
    "        # Download historical data (2020 to 2024)\n",
    "        data = yf.download(yahoo_symbol, start=\"2020-01-01\", end=\"2024-12-31\", interval=\"1d\")\n",
    "        \n",
    "        if not data.empty:\n",
    "            filename = f\"{original_name}_2020_2024.csv\"\n",
    "            data.to_csv(filename)\n",
    "            print(f\"Downloaded and saved data for {yahoo_symbol} as {filename}\")\n",
    "        else:\n",
    "            print(f\"No data found for {yahoo_symbol}\")\n",
    "    except Exception as e:\n",
    "        print(f\"Failed to download data for {yahoo_symbol}: {e}\")\n",
    "    \n",
    "    # Respect rate limits with a delay\n",
    "    time.sleep(12)"
   ]
  },
  {
   "cell_type": "code",
   "execution_count": null,
   "metadata": {},
   "outputs": [],
   "source": []
  }
 ],
 "metadata": {
  "kernelspec": {
   "display_name": "base",
   "language": "python",
   "name": "python3"
  },
  "language_info": {
   "codemirror_mode": {
    "name": "ipython",
    "version": 3
   },
   "file_extension": ".py",
   "mimetype": "text/x-python",
   "name": "python",
   "nbconvert_exporter": "python",
   "pygments_lexer": "ipython3",
   "version": "3.11.4"
  },
  "orig_nbformat": 4
 },
 "nbformat": 4,
 "nbformat_minor": 2
}
