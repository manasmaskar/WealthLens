{
 "cells": [
  {
   "cell_type": "code",
   "execution_count": 1101,
   "metadata": {},
   "outputs": [],
   "source": [
    "import tkinter as tk\n",
    "from tkinter import ttk\n",
    "from tkinter import messagebox"
   ]
  },
  {
   "cell_type": "code",
   "execution_count": 1102,
   "metadata": {},
   "outputs": [],
   "source": [
    "# Function to handle the drop-down menu selection\n",
    "def on_answer_selected(event):\n",
    "    selected_answer = answer_var.get()\n",
    "    print(f\"Selected answer: {selected_answer}\")"
   ]
  },
  {
   "cell_type": "code",
   "execution_count": 1103,
   "metadata": {},
   "outputs": [],
   "source": [
    "# Function to handle the dynamic update of second question options\n",
    "def update_second_options():\n",
    "    if not root.winfo_exists():  # Check if the root window still exists\n",
    "        return  # Exit if the window is destroyed\n",
    "    \n",
    "    # Clear the second question frame\n",
    "    for widget in second_question_frame.winfo_children():\n",
    "        widget.destroy()\n",
    "    \n",
    "    # Get all selected options from the first question\n",
    "    selected_options = []\n",
    "    if option_1_var.get():\n",
    "        selected_options.append(\"AGRICULTURE\")\n",
    "    if option_2_var.get():\n",
    "        selected_options.append(\"RETAIL\")\n",
    "    if option_3_var.get():\n",
    "        selected_options.append(\"TOURISM\")\n",
    "    if option_4_var.get():\n",
    "        selected_options.append(\"ENERGY\")\n",
    "\n",
    "    # Generate a combined list of choices for the second question\n",
    "    combined_choices = []\n",
    "    if \"AGRICULTURE\" in selected_options:\n",
    "        combined_choices += [\"Sub-option 1.1\", \"Sub-option 1.2\", \"Sub-option 1.3\"]\n",
    "    if \"RETAIL\" in selected_options:\n",
    "        combined_choices += [\"Sub-option 2.1\", \"Sub-option 2.2\", \"Sub-option 2.3\"]\n",
    "    if \"TOURISM\" in selected_options:\n",
    "        combined_choices += [\"Sub-option 3.1\", \"Sub-option 3.2\", \"Sub-option 3.3\"]\n",
    "    if \"ENERGY\" in selected_options:\n",
    "        combined_choices += [\"Sub-option 4.1\", \"Sub-option 4.2\", \"Sub-option 4.3\", \"Sub-option 4.4\"]\n",
    "\n",
    "    # Remove duplicates and update the second question choices\n",
    "    combined_choices = list(set(combined_choices))  # Remove duplicates\n",
    "    \n",
    "    # Create new checkboxes for the second question in a 3-column grid layout\n",
    "    for index, choice in enumerate(combined_choices):\n",
    "        var = tk.BooleanVar()\n",
    "        second_options_vars[choice] = var  # Store the variable\n",
    "        cb = tk.Checkbutton(second_question_frame, text=choice, variable=var, font=(\"Arial\", 10), bg=\"#f0f0f0\")\n",
    "        cb.grid(row=index // 3, column=index % 3, sticky=\"w\", padx=10, pady=5)\n"
   ]
  },
  {
   "cell_type": "code",
   "execution_count": 1104,
   "metadata": {},
   "outputs": [],
   "source": [
    "def update_second_question_colors():\n",
    "    # Get the selected options from the first question\n",
    "    selected_first = [var.get() for var in first_question_vars]\n",
    "    \n",
    "    # Define color options for sub-choices\n",
    "    color_map = {\n",
    "        \"AGRICULTURE\": \"lightblue\",\n",
    "        \"RETAIL\": \"lightgreen\",\n",
    "        \"TOURISM\": \"lightcoral\",\n",
    "        \"ENERGY\": \"lightgoldenrodyellow\"\n",
    "    }\n",
    "    \n",
    "    # Get selected main options\n",
    "    selected_main_choices = [choice for choice, var in main_choices.items() if var.get()]\n",
    "    \n",
    "    # Combine colors for sub-choices\n",
    "    if selected_main_choices:\n",
    "        combined_color = \"white\"\n",
    "        for choice in selected_main_choices:\n",
    "            combined_color = combine_colors(combined_color, color_map[choice])\n",
    "    else:\n",
    "        combined_color = \"white\"\n",
    "    \n",
    "    # Update the color of each sub-choice checkbox\n",
    "    for checkbox in sub_choice_checkboxes:\n",
    "        checkbox.config(bg=combined_color)"
   ]
  },
  {
   "cell_type": "code",
   "execution_count": 1105,
   "metadata": {},
   "outputs": [],
   "source": [
    "def combine_colors(base_color, new_color):\n",
    "    # Simple blend function: this can be enhanced for more complex blending.\n",
    "    # For now, just alternate between two colors.\n",
    "    if base_color == \"white\":\n",
    "        return new_color\n",
    "    elif base_color != new_color:\n",
    "        return \"gray\"  # If multiple colors are selected, show a combined color (here gray as a placeholder)\n",
    "    return base_color"
   ]
  },
  {
   "cell_type": "code",
   "execution_count": 1106,
   "metadata": {},
   "outputs": [],
   "source": [
    "# Function to reset all selections\n",
    "def reset():\n",
    "    # Reset first question's checkboxes\n",
    "    option_1_var.set(False)\n",
    "    option_2_var.set(False)\n",
    "    option_3_var.set(False)\n",
    "    option_4_var.set(False)\n",
    "\n",
    "    # Reset second question's checkboxes\n",
    "    for widget in second_question_frame.winfo_children():\n",
    "        widget.destroy()\n",
    "    second_options_vars.clear()"
   ]
  },
  {
   "cell_type": "code",
   "execution_count": 1107,
   "metadata": {},
   "outputs": [],
   "source": [
    "# Function to handle the submit button click\n",
    "def submit():\n",
    "    # Retrieve all selected options from the second question\n",
    "    selected_second_options = [key for key, var in second_options_vars.items() if var.get()]\n",
    "    \n",
    "    # Display the results (or save to a file/database)\n",
    "    if selected_second_options:\n",
    "        messagebox.showinfo(\"Submission Successful\", f\"Selected options:\\n{', '.join(selected_second_options)}\")\n",
    "    else:\n",
    "        messagebox.showwarning(\"No Selection\", \"No options selected.\")\n"
   ]
  },
  {
   "cell_type": "code",
   "execution_count": 1108,
   "metadata": {},
   "outputs": [],
   "source": [
    "# Function to handle window resizing dynamically\n",
    "def on_resize(event):\n",
    "    canvas.config(scrollregion=canvas.bbox(\"all\"))"
   ]
  },
  {
   "cell_type": "code",
   "execution_count": 1109,
   "metadata": {},
   "outputs": [],
   "source": [
    "# Create the main window\n",
    "root = tk.Tk()\n",
    "root.title(\"Project GUI\")\n",
    "root.geometry(\"400x300\")\n",
    "root.config(bg=\"#b2f7e6\")  # Background color for the window"
   ]
  },
  {
   "cell_type": "code",
   "execution_count": 1110,
   "metadata": {},
   "outputs": [],
   "source": [
    "# Create a Canvas widget\n",
    "canvas = tk.Canvas(root)\n",
    "canvas.pack(side=\"left\", fill=\"both\", expand=True)"
   ]
  },
  {
   "cell_type": "code",
   "execution_count": 1111,
   "metadata": {},
   "outputs": [
    {
     "data": {
      "text/plain": [
       "1"
      ]
     },
     "execution_count": 1111,
     "metadata": {},
     "output_type": "execute_result"
    }
   ],
   "source": [
    "# Create a Scrollbar and attach it to the Canvas\n",
    "scrollbar = tk.Scrollbar(root, orient=\"vertical\", command=canvas.yview)\n",
    "scrollbar.pack(side=\"right\", fill=\"y\")\n",
    "canvas.configure(yscrollcommand=scrollbar.set)\n",
    "\n",
    "# Create a Frame to hold all your content inside the canvas\n",
    "content_frame = tk.Frame(canvas)\n",
    "canvas.create_window((0, 0), window=content_frame, anchor=\"nw\")"
   ]
  },
  {
   "cell_type": "code",
   "execution_count": 1112,
   "metadata": {},
   "outputs": [],
   "source": [
    "# Update the scroll region whenever the content frame changes size\n",
    "content_frame.update_idletasks()  # Update the layout of the content\n",
    "canvas.config(scrollregion=canvas.bbox(\"all\"))  # Set scroll region to the size of the content"
   ]
  },
  {
   "cell_type": "code",
   "execution_count": 1113,
   "metadata": {},
   "outputs": [],
   "source": [
    "# Title at the top (image and text)\n",
    "title_frame = tk.Frame(content_frame, bg=\"#320245\")  # Background color for the title frame\n",
    "title_frame.pack(pady=30, fill=\"x\")\n",
    "title_label = tk.Label(title_frame, text=\"Multi Asset Stratergy\", font=(\"Helvetica\", 24, \"bold\"), fg=\"white\", bg=\"#320245\")\n",
    "title_label.pack()"
   ]
  },
  {
   "cell_type": "code",
   "execution_count": 1114,
   "metadata": {},
   "outputs": [],
   "source": [
    "# Optional: If you want to add an image, you can use the following lines (you'll need an image file)\n",
    "# image = tk.PhotoImage(file=\"your_image.png\")\n",
    "# image_label = tk.Label(title_frame, image=image)\n",
    "# image_label.pack()"
   ]
  },
  {
   "cell_type": "code",
   "execution_count": 1115,
   "metadata": {},
   "outputs": [],
   "source": [
    "# Question 1 (dropdown)\n",
    "question_1_label = tk.Label(content_frame, text=\"Enter Acceptable Risk Level:\", font=(\"Arial\", 12), fg=\"black\", bg=\"#f0f0f0\")\n",
    "question_1_label.pack(pady=5)\n",
    "\n",
    "answer_var = tk.StringVar()\n",
    "dropdown_1 = ttk.Combobox(content_frame, textvariable=answer_var, values=[\"LOW\", \"MEDIUM\", \"HIGH\", \"ANY RISK\"], font=(\"Arial\", 10), state=\"readonly\")\n",
    "dropdown_1.bind(\"<<ComboboxSelected>>\", on_answer_selected)  # To handle selection\n",
    "dropdown_1.pack(pady=5)"
   ]
  },
  {
   "cell_type": "code",
   "execution_count": 1116,
   "metadata": {},
   "outputs": [],
   "source": [
    "# Question 2: Multiple Choice (Checkbuttons)\n",
    "question_1_label = tk.Label(content_frame, text=\"Select your desired investment sectors:\", font=(\"Arial\", 12), fg=\"black\", bg=\"#f0f0f0\")\n",
    "question_1_label.pack(pady=5)\n",
    "\n",
    "option_1_var = tk.BooleanVar()\n",
    "option_2_var = tk.BooleanVar()\n",
    "option_3_var = tk.BooleanVar()\n",
    "option_4_var = tk.BooleanVar()\n",
    "\n",
    "checkbox_frame = tk.Frame(content_frame, bg=\"#f0f0f0\")\n",
    "checkbox_frame.pack(pady=5)\n",
    "\n",
    "option_1_cb = tk.Checkbutton(checkbox_frame, text=\"AGRICULTURE\", variable=option_1_var, font=(\"Calibri\", 10), bg=\"#f0f0f0\", command=update_second_options)\n",
    "option_1_cb.grid(row=0, column=0, sticky=\"w\")\n",
    "\n",
    "option_2_cb = tk.Checkbutton(checkbox_frame, text=\"RETAIL\", variable=option_2_var, font=(\"Calibri\", 10), bg=\"#f0f0f0\", command=update_second_options)\n",
    "option_2_cb.grid(row=1, column=0, sticky=\"w\")\n",
    "\n",
    "option_3_cb = tk.Checkbutton(checkbox_frame, text=\"TOURISM\", variable=option_3_var, font=(\"Calibri\", 10), bg=\"#f0f0f0\", command=update_second_options)\n",
    "option_3_cb.grid(row=2, column=0, sticky=\"w\")\n",
    "\n",
    "option_4_cb = tk.Checkbutton(checkbox_frame, text=\"ENERGY\", variable=option_4_var, font=(\"Calibri\", 10), bg=\"#f0f0f0\", command=update_second_options)\n",
    "option_4_cb.grid(row=3, column=0, sticky=\"w\")\n"
   ]
  },
  {
   "cell_type": "code",
   "execution_count": 1117,
   "metadata": {},
   "outputs": [],
   "source": [
    "# Question 2: Dynamic Choices (Checkbuttons in Grid)\n",
    "question_2_label = tk.Label(content_frame, text=\"Select existing portfolio holdings:\", font=(\"Arial\", 12), fg=\"black\", bg=\"#f0f0f0\")\n",
    "question_2_label.pack(pady=10)\n",
    "\n",
    "second_question_frame = tk.Frame(content_frame, bg=\"#f0f0f0\")\n",
    "second_question_frame.pack(pady=5)"
   ]
  },
  {
   "cell_type": "code",
   "execution_count": 1118,
   "metadata": {},
   "outputs": [],
   "source": [
    "# Dictionary to store the variables for second question checkboxes\n",
    "second_options_vars = {}"
   ]
  },
  {
   "cell_type": "code",
   "execution_count": 1119,
   "metadata": {},
   "outputs": [],
   "source": [
    "# Buttons Frame\n",
    "buttons_frame = tk.Frame(content_frame, bg=\"#f0f0f0\")\n",
    "buttons_frame.pack(pady=20, fill=\"x\", padx=500)"
   ]
  },
  {
   "cell_type": "code",
   "execution_count": 1120,
   "metadata": {},
   "outputs": [],
   "source": [
    "# Reset Button\n",
    "reset_button = tk.Button(buttons_frame, text=\"Reset\", font=(\"Arial\", 12, \"bold\"), bg=\"red\", fg=\"white\", command=reset)\n",
    "reset_button.pack(side=\"left\", padx=20)"
   ]
  },
  {
   "cell_type": "code",
   "execution_count": 1121,
   "metadata": {},
   "outputs": [],
   "source": [
    "# Submit Button\n",
    "submit_button = tk.Button(buttons_frame, text=\"Submit\", font=(\"Arial\", 12, \"bold\"), bg=\"#4CAF50\", fg=\"white\", command=submit)\n",
    "submit_button.pack(side=\"right\", padx=20) "
   ]
  },
  {
   "cell_type": "code",
   "execution_count": 1122,
   "metadata": {},
   "outputs": [],
   "source": [
    "# Add a footer for the bottom with color\n",
    "footer_frame = tk.Frame(content_frame, bg=\"#320245\")  # Footer with same color as title\n",
    "footer_frame.pack(side=\"bottom\", fill=\"x\", pady=10)\n",
    "\n",
    "footer_label = tk.Label(footer_frame, text=\"Aayush Pradhan (ap2527)  |  Himani Hooda (hh660)  |  Jayant Chaudhari ()  |  Manas Maskar (mm3660)\", font=(\"Arial\", 10, \"italic\"), fg=\"white\", bg=\"#320245\")\n",
    "footer_label.pack()"
   ]
  },
  {
   "cell_type": "code",
   "execution_count": 1123,
   "metadata": {},
   "outputs": [
    {
     "data": {
      "text/plain": [
       "'2393610454464on_resize'"
      ]
     },
     "execution_count": 1123,
     "metadata": {},
     "output_type": "execute_result"
    }
   ],
   "source": [
    "# Bind the resize event to update the scrollbar\n",
    "root.bind(\"<Configure>\", on_resize)"
   ]
  },
  {
   "cell_type": "code",
   "execution_count": 1124,
   "metadata": {},
   "outputs": [
    {
     "name": "stdout",
     "output_type": "stream",
     "text": [
      "Selected answer: HIGH\n"
     ]
    }
   ],
   "source": [
    "# Run the GUI\n",
    "root.mainloop()"
   ]
  }
 ],
 "metadata": {
  "kernelspec": {
   "display_name": "Python 3",
   "language": "python",
   "name": "python3"
  },
  "language_info": {
   "codemirror_mode": {
    "name": "ipython",
    "version": 3
   },
   "file_extension": ".py",
   "mimetype": "text/x-python",
   "name": "python",
   "nbconvert_exporter": "python",
   "pygments_lexer": "ipython3",
   "version": "3.10.0"
  }
 },
 "nbformat": 4,
 "nbformat_minor": 2
}
